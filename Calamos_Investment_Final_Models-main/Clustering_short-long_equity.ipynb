{
 "cells": [
  {
   "cell_type": "code",
   "execution_count": 0,
   "metadata": {
    "application/vnd.databricks.v1+cell": {
     "cellMetadata": {
      "byteLimit": 2048000,
      "rowLimit": 10000
     },
     "inputWidgets": {},
     "nuid": "cd6cc695-4fe7-41c3-a82f-e5162233e183",
     "showTitle": false,
     "title": ""
    }
   },
   "outputs": [
    {
     "output_type": "stream",
     "name": "stdout",
     "output_type": "stream",
     "text": [
      "\u001B[43mNote: you may need to restart the kernel using dbutils.library.restartPython() to use updated packages.\u001B[0m\nRequirement already satisfied: threadpoolctl in /databricks/python3/lib/python3.11/site-packages (2.2.0)\nCollecting threadpoolctl\n  Downloading threadpoolctl-3.5.0-py3-none-any.whl (18 kB)\nInstalling collected packages: threadpoolctl\n  Attempting uninstall: threadpoolctl\n    Found existing installation: threadpoolctl 2.2.0\n    Not uninstalling threadpoolctl at /databricks/python3/lib/python3.11/site-packages, outside environment /local_disk0/.ephemeral_nfs/envs/pythonEnv-d4d08220-f726-4cfc-a7ca-2b1823b69663\n    Can't uninstall 'threadpoolctl'. No files were found to uninstall.\nSuccessfully installed threadpoolctl-3.5.0\n\u001B[43mNote: you may need to restart the kernel using dbutils.library.restartPython() to use updated packages.\u001B[0m\n"
     ]
    }
   ],
   "source": [
    "!pip install --upgrade threadpoolctl"
   ]
  },
  {
   "cell_type": "code",
   "execution_count": 0,
   "metadata": {
    "application/vnd.databricks.v1+cell": {
     "cellMetadata": {
      "byteLimit": 2048000,
      "rowLimit": 10000
     },
     "inputWidgets": {},
     "nuid": "7632624f-3355-46b6-b953-2da1f2b80ced",
     "showTitle": false,
     "title": ""
    }
   },
   "outputs": [],
   "source": [
    "import pandas as pd\n",
    "import numpy as np\n",
    "import plotly.express as px\n",
    "import seaborn as sns\n",
    "import matplotlib.pyplot as plt\n",
    "import math\n",
    "from sklearn.preprocessing import StandardScaler\n",
    "from sklearn.manifold import TSNE"
   ]
  },
  {
   "cell_type": "code",
   "execution_count": 0,
   "metadata": {
    "application/vnd.databricks.v1+cell": {
     "cellMetadata": {
      "byteLimit": 2048000,
      "rowLimit": 10000
     },
     "inputWidgets": {},
     "nuid": "7eda9f5c-2095-4b8d-9e76-15473a44f4af",
     "showTitle": false,
     "title": ""
    }
   },
   "outputs": [
    {
     "output_type": "execute_result",
     "data": {
      "text/plain": [
       "(58, 16)"
      ]
     },
     "execution_count": 3,
     "metadata": {},
     "output_type": "execute_result"
    }
   ],
   "source": [
    "df = pd.read_csv('Long-Short_Equity.csv')\n",
    "df.shape"
   ]
  },
  {
   "cell_type": "code",
   "execution_count": 0,
   "metadata": {
    "application/vnd.databricks.v1+cell": {
     "cellMetadata": {
      "byteLimit": 2048000,
      "rowLimit": 10000
     },
     "inputWidgets": {},
     "nuid": "d8556bc9-46b3-41c5-8afa-ca4c59f38cee",
     "showTitle": false,
     "title": ""
    }
   },
   "outputs": [
    {
     "output_type": "execute_result",
     "data": {
      "text/html": [
       "<div>\n",
       "<style scoped>\n",
       "    .dataframe tbody tr th:only-of-type {\n",
       "        vertical-align: middle;\n",
       "    }\n",
       "\n",
       "    .dataframe tbody tr th {\n",
       "        vertical-align: top;\n",
       "    }\n",
       "\n",
       "    .dataframe thead th {\n",
       "        text-align: right;\n",
       "    }\n",
       "</style>\n",
       "<table border=\"1\" class=\"dataframe\">\n",
       "  <thead>\n",
       "    <tr style=\"text-align: right;\">\n",
       "      <th></th>\n",
       "      <th>AUM</th>\n",
       "      <th>NetFlows</th>\n",
       "      <th>Return</th>\n",
       "      <th>Fund</th>\n",
       "      <th>NetExpenseRatio</th>\n",
       "      <th>MorningstarRating</th>\n",
       "      <th>AvgMorningstarRatingLast12M</th>\n",
       "      <th>Longevity</th>\n",
       "      <th>SumAUM</th>\n",
       "      <th>SumNetFlows</th>\n",
       "      <th>StdDev_1Y</th>\n",
       "      <th>StdDev_Percentile_1Y</th>\n",
       "      <th>StdDev_3Y</th>\n",
       "      <th>StdDev_Percentile_3Y</th>\n",
       "      <th>PercentileRank1YrReturn</th>\n",
       "      <th>PercentileRank3YrReturn</th>\n",
       "    </tr>\n",
       "  </thead>\n",
       "  <tbody>\n",
       "    <tr>\n",
       "      <th>0</th>\n",
       "      <td>1.517838e+09</td>\n",
       "      <td>-1.024069e+08</td>\n",
       "      <td>-0.000290</td>\n",
       "      <td>AB Select US Long/Short Portfolio</td>\n",
       "      <td>1.55</td>\n",
       "      <td>5.0</td>\n",
       "      <td>5.000000</td>\n",
       "      <td>3671</td>\n",
       "      <td>1.422658e+11</td>\n",
       "      <td>1.032871e+09</td>\n",
       "      <td>0.000272</td>\n",
       "      <td>0.531086</td>\n",
       "      <td>0.000307</td>\n",
       "      <td>0.646922</td>\n",
       "      <td>31.034483</td>\n",
       "      <td>63.793103</td>\n",
       "    </tr>\n",
       "    <tr>\n",
       "      <th>1</th>\n",
       "      <td>5.677665e+08</td>\n",
       "      <td>1.062613e+07</td>\n",
       "      <td>0.000182</td>\n",
       "      <td>AQR Long-Short Equity Fund</td>\n",
       "      <td>1.31</td>\n",
       "      <td>3.0</td>\n",
       "      <td>2.750000</td>\n",
       "      <td>3455</td>\n",
       "      <td>1.647134e+11</td>\n",
       "      <td>7.278099e+08</td>\n",
       "      <td>0.000530</td>\n",
       "      <td>0.935973</td>\n",
       "      <td>0.000472</td>\n",
       "      <td>0.920662</td>\n",
       "      <td>100.000000</td>\n",
       "      <td>93.103448</td>\n",
       "    </tr>\n",
       "    <tr>\n",
       "      <th>2</th>\n",
       "      <td>7.869107e+07</td>\n",
       "      <td>-2.098664e+05</td>\n",
       "      <td>-0.000306</td>\n",
       "      <td>AXS Dynamic Opportunity Fund</td>\n",
       "      <td>1.72</td>\n",
       "      <td>3.0</td>\n",
       "      <td>3.000000</td>\n",
       "      <td>2902</td>\n",
       "      <td>6.873105e+09</td>\n",
       "      <td>6.973458e+07</td>\n",
       "      <td>0.000175</td>\n",
       "      <td>0.207238</td>\n",
       "      <td>0.000310</td>\n",
       "      <td>0.658985</td>\n",
       "      <td>17.241379</td>\n",
       "      <td>32.758621</td>\n",
       "    </tr>\n",
       "    <tr>\n",
       "      <th>3</th>\n",
       "      <td>4.679206e+08</td>\n",
       "      <td>-1.321287e+07</td>\n",
       "      <td>-0.000208</td>\n",
       "      <td>Alger Dynamic Opportunities Fund</td>\n",
       "      <td>0.87</td>\n",
       "      <td>5.0</td>\n",
       "      <td>5.000000</td>\n",
       "      <td>4807</td>\n",
       "      <td>2.764655e+10</td>\n",
       "      <td>4.306798e+08</td>\n",
       "      <td>0.000333</td>\n",
       "      <td>0.700742</td>\n",
       "      <td>0.000397</td>\n",
       "      <td>0.825240</td>\n",
       "      <td>15.517241</td>\n",
       "      <td>87.931034</td>\n",
       "    </tr>\n",
       "    <tr>\n",
       "      <th>4</th>\n",
       "      <td>6.273995e+08</td>\n",
       "      <td>-8.593926e+06</td>\n",
       "      <td>-0.000170</td>\n",
       "      <td>Allspring Global Long/Short Equity Fund</td>\n",
       "      <td>1.47</td>\n",
       "      <td>2.0</td>\n",
       "      <td>2.416667</td>\n",
       "      <td>2941</td>\n",
       "      <td>5.532944e+10</td>\n",
       "      <td>5.297114e+08</td>\n",
       "      <td>0.000420</td>\n",
       "      <td>0.852614</td>\n",
       "      <td>0.000368</td>\n",
       "      <td>0.777297</td>\n",
       "      <td>55.172414</td>\n",
       "      <td>34.482759</td>\n",
       "    </tr>\n",
       "  </tbody>\n",
       "</table>\n",
       "</div>"
      ],
      "text/plain": [
       "            AUM      NetFlows  ...  PercentileRank1YrReturn PercentileRank3YrReturn\n",
       "0  1.517838e+09 -1.024069e+08  ...                31.034483               63.793103\n",
       "1  5.677665e+08  1.062613e+07  ...               100.000000               93.103448\n",
       "2  7.869107e+07 -2.098664e+05  ...                17.241379               32.758621\n",
       "3  4.679206e+08 -1.321287e+07  ...                15.517241               87.931034\n",
       "4  6.273995e+08 -8.593926e+06  ...                55.172414               34.482759\n",
       "\n",
       "[5 rows x 16 columns]"
      ]
     },
     "execution_count": 4,
     "metadata": {},
     "output_type": "execute_result"
    }
   ],
   "source": [
    "df.head()"
   ]
  },
  {
   "cell_type": "code",
   "execution_count": 0,
   "metadata": {
    "application/vnd.databricks.v1+cell": {
     "cellMetadata": {
      "byteLimit": 2048000,
      "rowLimit": 10000
     },
     "inputWidgets": {},
     "nuid": "852a4631-fb5b-42ae-bdfd-825cb60e51cd",
     "showTitle": false,
     "title": ""
    }
   },
   "outputs": [],
   "source": [
    "# store features that we need in X\n",
    "X = df.copy()\n",
    "X.drop(['Fund'], axis=1, inplace=True)"
   ]
  },
  {
   "cell_type": "code",
   "execution_count": 0,
   "metadata": {
    "application/vnd.databricks.v1+cell": {
     "cellMetadata": {
      "byteLimit": 2048000,
      "rowLimit": 10000
     },
     "inputWidgets": {},
     "nuid": "48a4d376-3a41-4998-9055-9b92a1c233d3",
     "showTitle": false,
     "title": ""
    }
   },
   "outputs": [
    {
     "output_type": "execute_result",
     "data": {
      "text/html": [
       "<div>\n",
       "<style scoped>\n",
       "    .dataframe tbody tr th:only-of-type {\n",
       "        vertical-align: middle;\n",
       "    }\n",
       "\n",
       "    .dataframe tbody tr th {\n",
       "        vertical-align: top;\n",
       "    }\n",
       "\n",
       "    .dataframe thead th {\n",
       "        text-align: right;\n",
       "    }\n",
       "</style>\n",
       "<table border=\"1\" class=\"dataframe\">\n",
       "  <thead>\n",
       "    <tr style=\"text-align: right;\">\n",
       "      <th></th>\n",
       "      <th>AUM</th>\n",
       "      <th>NetFlows</th>\n",
       "      <th>Return</th>\n",
       "      <th>NetExpenseRatio</th>\n",
       "      <th>MorningstarRating</th>\n",
       "      <th>AvgMorningstarRatingLast12M</th>\n",
       "      <th>Longevity</th>\n",
       "      <th>SumAUM</th>\n",
       "      <th>SumNetFlows</th>\n",
       "      <th>StdDev_1Y</th>\n",
       "      <th>StdDev_Percentile_1Y</th>\n",
       "      <th>StdDev_3Y</th>\n",
       "      <th>StdDev_Percentile_3Y</th>\n",
       "      <th>PercentileRank1YrReturn</th>\n",
       "      <th>PercentileRank3YrReturn</th>\n",
       "    </tr>\n",
       "  </thead>\n",
       "  <tbody>\n",
       "    <tr>\n",
       "      <th>0</th>\n",
       "      <td>1.517838e+09</td>\n",
       "      <td>-1.024069e+08</td>\n",
       "      <td>-0.000290</td>\n",
       "      <td>1.55</td>\n",
       "      <td>5.0</td>\n",
       "      <td>5.000000</td>\n",
       "      <td>3671</td>\n",
       "      <td>1.422658e+11</td>\n",
       "      <td>1.032871e+09</td>\n",
       "      <td>0.000272</td>\n",
       "      <td>0.531086</td>\n",
       "      <td>0.000307</td>\n",
       "      <td>0.646922</td>\n",
       "      <td>31.034483</td>\n",
       "      <td>63.793103</td>\n",
       "    </tr>\n",
       "    <tr>\n",
       "      <th>1</th>\n",
       "      <td>5.677665e+08</td>\n",
       "      <td>1.062613e+07</td>\n",
       "      <td>0.000182</td>\n",
       "      <td>1.31</td>\n",
       "      <td>3.0</td>\n",
       "      <td>2.750000</td>\n",
       "      <td>3455</td>\n",
       "      <td>1.647134e+11</td>\n",
       "      <td>7.278099e+08</td>\n",
       "      <td>0.000530</td>\n",
       "      <td>0.935973</td>\n",
       "      <td>0.000472</td>\n",
       "      <td>0.920662</td>\n",
       "      <td>100.000000</td>\n",
       "      <td>93.103448</td>\n",
       "    </tr>\n",
       "    <tr>\n",
       "      <th>2</th>\n",
       "      <td>7.869107e+07</td>\n",
       "      <td>-2.098664e+05</td>\n",
       "      <td>-0.000306</td>\n",
       "      <td>1.72</td>\n",
       "      <td>3.0</td>\n",
       "      <td>3.000000</td>\n",
       "      <td>2902</td>\n",
       "      <td>6.873105e+09</td>\n",
       "      <td>6.973458e+07</td>\n",
       "      <td>0.000175</td>\n",
       "      <td>0.207238</td>\n",
       "      <td>0.000310</td>\n",
       "      <td>0.658985</td>\n",
       "      <td>17.241379</td>\n",
       "      <td>32.758621</td>\n",
       "    </tr>\n",
       "    <tr>\n",
       "      <th>3</th>\n",
       "      <td>4.679206e+08</td>\n",
       "      <td>-1.321287e+07</td>\n",
       "      <td>-0.000208</td>\n",
       "      <td>0.87</td>\n",
       "      <td>5.0</td>\n",
       "      <td>5.000000</td>\n",
       "      <td>4807</td>\n",
       "      <td>2.764655e+10</td>\n",
       "      <td>4.306798e+08</td>\n",
       "      <td>0.000333</td>\n",
       "      <td>0.700742</td>\n",
       "      <td>0.000397</td>\n",
       "      <td>0.825240</td>\n",
       "      <td>15.517241</td>\n",
       "      <td>87.931034</td>\n",
       "    </tr>\n",
       "    <tr>\n",
       "      <th>4</th>\n",
       "      <td>6.273995e+08</td>\n",
       "      <td>-8.593926e+06</td>\n",
       "      <td>-0.000170</td>\n",
       "      <td>1.47</td>\n",
       "      <td>2.0</td>\n",
       "      <td>2.416667</td>\n",
       "      <td>2941</td>\n",
       "      <td>5.532944e+10</td>\n",
       "      <td>5.297114e+08</td>\n",
       "      <td>0.000420</td>\n",
       "      <td>0.852614</td>\n",
       "      <td>0.000368</td>\n",
       "      <td>0.777297</td>\n",
       "      <td>55.172414</td>\n",
       "      <td>34.482759</td>\n",
       "    </tr>\n",
       "  </tbody>\n",
       "</table>\n",
       "</div>"
      ],
      "text/plain": [
       "            AUM      NetFlows  ...  PercentileRank1YrReturn  PercentileRank3YrReturn\n",
       "0  1.517838e+09 -1.024069e+08  ...                31.034483                63.793103\n",
       "1  5.677665e+08  1.062613e+07  ...               100.000000                93.103448\n",
       "2  7.869107e+07 -2.098664e+05  ...                17.241379                32.758621\n",
       "3  4.679206e+08 -1.321287e+07  ...                15.517241                87.931034\n",
       "4  6.273995e+08 -8.593926e+06  ...                55.172414                34.482759\n",
       "\n",
       "[5 rows x 15 columns]"
      ]
     },
     "execution_count": 6,
     "metadata": {},
     "output_type": "execute_result"
    }
   ],
   "source": [
    "X.head()"
   ]
  },
  {
   "cell_type": "code",
   "execution_count": 0,
   "metadata": {
    "application/vnd.databricks.v1+cell": {
     "cellMetadata": {
      "byteLimit": 2048000,
      "rowLimit": 10000
     },
     "inputWidgets": {},
     "nuid": "27fc7b19-3a12-48c9-b78f-69bfde4b19a4",
     "showTitle": false,
     "title": ""
    }
   },
   "outputs": [
    {
     "output_type": "stream",
     "name": "stdout",
     "output_type": "stream",
     "text": [
      "Correlation between StdDev_1Y and StdDev_Percentile_1Y: 0.8963743027067053\n"
     ]
    }
   ],
   "source": [
    "correlation = X['StdDev_1Y'].corr(X['StdDev_Percentile_1Y'])\n",
    "print(\"Correlation between StdDev_1Y and StdDev_Percentile_1Y:\", correlation)"
   ]
  },
  {
   "cell_type": "code",
   "execution_count": 0,
   "metadata": {
    "application/vnd.databricks.v1+cell": {
     "cellMetadata": {
      "byteLimit": 2048000,
      "rowLimit": 10000
     },
     "inputWidgets": {},
     "nuid": "f8bb3970-a201-41d7-9c94-39538eece3e5",
     "showTitle": false,
     "title": ""
    }
   },
   "outputs": [
    {
     "output_type": "execute_result",
     "data": {
      "text/html": [
       "<div>\n",
       "<style scoped>\n",
       "    .dataframe tbody tr th:only-of-type {\n",
       "        vertical-align: middle;\n",
       "    }\n",
       "\n",
       "    .dataframe tbody tr th {\n",
       "        vertical-align: top;\n",
       "    }\n",
       "\n",
       "    .dataframe thead th {\n",
       "        text-align: right;\n",
       "    }\n",
       "</style>\n",
       "<table border=\"1\" class=\"dataframe\">\n",
       "  <thead>\n",
       "    <tr style=\"text-align: right;\">\n",
       "      <th></th>\n",
       "      <th>AUM</th>\n",
       "      <th>NetFlows</th>\n",
       "      <th>Return</th>\n",
       "      <th>NetExpenseRatio</th>\n",
       "      <th>MorningstarRating</th>\n",
       "      <th>AvgMorningstarRatingLast12M</th>\n",
       "      <th>Longevity</th>\n",
       "      <th>SumAUM</th>\n",
       "      <th>SumNetFlows</th>\n",
       "      <th>StdDev_1Y</th>\n",
       "      <th>StdDev_Percentile_1Y</th>\n",
       "      <th>StdDev_3Y</th>\n",
       "      <th>StdDev_Percentile_3Y</th>\n",
       "      <th>PercentileRank1YrReturn</th>\n",
       "      <th>PercentileRank3YrReturn</th>\n",
       "    </tr>\n",
       "  </thead>\n",
       "  <tbody>\n",
       "    <tr>\n",
       "      <th>count</th>\n",
       "      <td>5.800000e+01</td>\n",
       "      <td>5.800000e+01</td>\n",
       "      <td>58.000000</td>\n",
       "      <td>58.000000</td>\n",
       "      <td>58.000000</td>\n",
       "      <td>58.000000</td>\n",
       "      <td>58.000000</td>\n",
       "      <td>5.800000e+01</td>\n",
       "      <td>5.800000e+01</td>\n",
       "      <td>58.000000</td>\n",
       "      <td>58.000000</td>\n",
       "      <td>58.000000</td>\n",
       "      <td>58.000000</td>\n",
       "      <td>58.000000</td>\n",
       "      <td>58.000000</td>\n",
       "    </tr>\n",
       "    <tr>\n",
       "      <th>mean</th>\n",
       "      <td>3.296715e+08</td>\n",
       "      <td>-8.720818e+06</td>\n",
       "      <td>-0.000219</td>\n",
       "      <td>1.477759</td>\n",
       "      <td>3.189655</td>\n",
       "      <td>3.208333</td>\n",
       "      <td>4000.258621</td>\n",
       "      <td>5.508700e+10</td>\n",
       "      <td>1.032718e+08</td>\n",
       "      <td>0.000361</td>\n",
       "      <td>0.654202</td>\n",
       "      <td>0.000403</td>\n",
       "      <td>0.765138</td>\n",
       "      <td>50.862069</td>\n",
       "      <td>50.862069</td>\n",
       "    </tr>\n",
       "    <tr>\n",
       "      <th>std</th>\n",
       "      <td>7.413540e+08</td>\n",
       "      <td>5.173100e+07</td>\n",
       "      <td>0.000232</td>\n",
       "      <td>0.507443</td>\n",
       "      <td>1.016649</td>\n",
       "      <td>0.923123</td>\n",
       "      <td>1878.487611</td>\n",
       "      <td>1.181108e+11</td>\n",
       "      <td>7.033437e+08</td>\n",
       "      <td>0.000156</td>\n",
       "      <td>0.270792</td>\n",
       "      <td>0.000127</td>\n",
       "      <td>0.219664</td>\n",
       "      <td>29.115308</td>\n",
       "      <td>29.115308</td>\n",
       "    </tr>\n",
       "    <tr>\n",
       "      <th>min</th>\n",
       "      <td>1.660587e+06</td>\n",
       "      <td>-3.540519e+08</td>\n",
       "      <td>-0.000722</td>\n",
       "      <td>0.000000</td>\n",
       "      <td>1.000000</td>\n",
       "      <td>1.333333</td>\n",
       "      <td>2188.000000</td>\n",
       "      <td>3.646450e+08</td>\n",
       "      <td>-2.094387e+09</td>\n",
       "      <td>0.000087</td>\n",
       "      <td>0.028302</td>\n",
       "      <td>0.000086</td>\n",
       "      <td>0.016239</td>\n",
       "      <td>1.724138</td>\n",
       "      <td>1.724138</td>\n",
       "    </tr>\n",
       "    <tr>\n",
       "      <th>25%</th>\n",
       "      <td>3.202293e+07</td>\n",
       "      <td>-2.630788e+06</td>\n",
       "      <td>-0.000408</td>\n",
       "      <td>1.242500</td>\n",
       "      <td>3.000000</td>\n",
       "      <td>2.520833</td>\n",
       "      <td>2690.000000</td>\n",
       "      <td>4.400498e+09</td>\n",
       "      <td>3.271358e+06</td>\n",
       "      <td>0.000255</td>\n",
       "      <td>0.473167</td>\n",
       "      <td>0.000321</td>\n",
       "      <td>0.693396</td>\n",
       "      <td>26.293103</td>\n",
       "      <td>26.293103</td>\n",
       "    </tr>\n",
       "    <tr>\n",
       "      <th>50%</th>\n",
       "      <td>1.019616e+08</td>\n",
       "      <td>-3.214058e+05</td>\n",
       "      <td>-0.000197</td>\n",
       "      <td>1.435000</td>\n",
       "      <td>3.000000</td>\n",
       "      <td>3.041667</td>\n",
       "      <td>3376.500000</td>\n",
       "      <td>1.144884e+10</td>\n",
       "      <td>5.470625e+07</td>\n",
       "      <td>0.000339</td>\n",
       "      <td>0.712805</td>\n",
       "      <td>0.000389</td>\n",
       "      <td>0.810238</td>\n",
       "      <td>50.862069</td>\n",
       "      <td>50.862069</td>\n",
       "    </tr>\n",
       "    <tr>\n",
       "      <th>75%</th>\n",
       "      <td>2.702020e+08</td>\n",
       "      <td>1.851415e+06</td>\n",
       "      <td>-0.000034</td>\n",
       "      <td>1.750000</td>\n",
       "      <td>4.000000</td>\n",
       "      <td>3.979167</td>\n",
       "      <td>4593.000000</td>\n",
       "      <td>3.124948e+10</td>\n",
       "      <td>1.301717e+08</td>\n",
       "      <td>0.000441</td>\n",
       "      <td>0.877784</td>\n",
       "      <td>0.000476</td>\n",
       "      <td>0.924296</td>\n",
       "      <td>75.431034</td>\n",
       "      <td>75.431034</td>\n",
       "    </tr>\n",
       "    <tr>\n",
       "      <th>max</th>\n",
       "      <td>5.232261e+09</td>\n",
       "      <td>5.982385e+07</td>\n",
       "      <td>0.000224</td>\n",
       "      <td>2.810000</td>\n",
       "      <td>5.000000</td>\n",
       "      <td>5.000000</td>\n",
       "      <td>11086.000000</td>\n",
       "      <td>4.956571e+11</td>\n",
       "      <td>4.083517e+09</td>\n",
       "      <td>0.000920</td>\n",
       "      <td>0.996752</td>\n",
       "      <td>0.000745</td>\n",
       "      <td>0.994587</td>\n",
       "      <td>100.000000</td>\n",
       "      <td>100.000000</td>\n",
       "    </tr>\n",
       "  </tbody>\n",
       "</table>\n",
       "</div>"
      ],
      "text/plain": [
       "                AUM  ...  PercentileRank3YrReturn\n",
       "count  5.800000e+01  ...                58.000000\n",
       "mean   3.296715e+08  ...                50.862069\n",
       "std    7.413540e+08  ...                29.115308\n",
       "min    1.660587e+06  ...                 1.724138\n",
       "25%    3.202293e+07  ...                26.293103\n",
       "50%    1.019616e+08  ...                50.862069\n",
       "75%    2.702020e+08  ...                75.431034\n",
       "max    5.232261e+09  ...               100.000000\n",
       "\n",
       "[8 rows x 15 columns]"
      ]
     },
     "execution_count": 8,
     "metadata": {},
     "output_type": "execute_result"
    }
   ],
   "source": [
    "X.describe()"
   ]
  },
  {
   "cell_type": "markdown",
   "metadata": {
    "application/vnd.databricks.v1+cell": {
     "cellMetadata": {
      "byteLimit": 2048000,
      "rowLimit": 10000
     },
     "inputWidgets": {},
     "nuid": "06ff95e3-54a0-4bfa-be7d-88fab437cb89",
     "showTitle": false,
     "title": ""
    }
   },
   "source": [
    "##1. Data Transformation\n",
    "reference and math: [Amazon-Data Preprocess for K-means](https://s3.amazonaws.com/assets.datacamp.com/production/course_10628/slides/chapter3.pdf)"
   ]
  },
  {
   "cell_type": "code",
   "execution_count": 0,
   "metadata": {
    "application/vnd.databricks.v1+cell": {
     "cellMetadata": {
      "byteLimit": 2048000,
      "rowLimit": 10000
     },
     "inputWidgets": {},
     "nuid": "60ad00e8-0b99-4748-aee0-58e668376bfd",
     "showTitle": false,
     "title": ""
    }
   },
   "outputs": [],
   "source": [
    "# we drop netflows becasue they like are our y - our lable\n",
    "X.columns\n",
    "X_2=X.copy()\n",
    "X_2=X_2.drop(columns=['NetFlows','SumNetFlows'])"
   ]
  },
  {
   "cell_type": "code",
   "execution_count": 0,
   "metadata": {
    "application/vnd.databricks.v1+cell": {
     "cellMetadata": {
      "byteLimit": 2048000,
      "rowLimit": 10000
     },
     "inputWidgets": {},
     "nuid": "0557a73d-0cb6-4e2b-8a67-677512102273",
     "showTitle": false,
     "title": ""
    }
   },
   "outputs": [],
   "source": [
    "# normalized X\n",
    "X_scale = StandardScaler().fit_transform(X_2)"
   ]
  },
  {
   "cell_type": "code",
   "execution_count": 0,
   "metadata": {
    "application/vnd.databricks.v1+cell": {
     "cellMetadata": {
      "byteLimit": 2048000,
      "rowLimit": 10000
     },
     "inputWidgets": {},
     "nuid": "18685f6f-34a3-42b8-ac03-ead7a0d83a0a",
     "showTitle": false,
     "title": ""
    }
   },
   "outputs": [
    {
     "output_type": "display_data",
     "data": {
      "image/png": "[encoded data removed]",
      "text/plain": [
       "<Figure size 1000x800 with 2 Axes>"
      ]
     },
     "metadata": {},
     "output_type": "display_data"
    }
   ],
   "source": [
    "correlation_matrix = X_2.corr()\n",
    "\n",
    "# Plotting\n",
    "plt.figure(figsize=(10, 8))\n",
    "sns.heatmap(correlation_matrix, annot=True, cmap='coolwarm', fmt=\".2f\", linewidths=0.5)\n",
    "plt.title('Pairwise Correlation Heatmap')\n",
    "plt.show()"
   ]
  },
  {
   "cell_type": "code",
   "execution_count": 0,
   "metadata": {
    "application/vnd.databricks.v1+cell": {
     "cellMetadata": {
      "byteLimit": 2048000,
      "rowLimit": 10000
     },
     "inputWidgets": {},
     "nuid": "6c26af62-534e-41e6-b82d-1aef2235e563",
     "showTitle": false,
     "title": ""
    }
   },
   "outputs": [
    {
     "output_type": "display_data",
     "data": {
      "text/plain": [
       "\u001B[0;31m---------------------------------------------------------------------------\u001B[0m\n",
       "\u001B[0;31mNameError\u001B[0m                                 Traceback (most recent call last)\n",
       "File \u001B[0;32m<command-2241051161917221>, line 1\u001B[0m\n",
       "\u001B[0;32m----> 1\u001B[0m stop\n",
       "\n",
       "\u001B[0;31mNameError\u001B[0m: name 'stop' is not defined"
      ]
     },
     "metadata": {
      "application/vnd.databricks.v1+output": {
       "addedWidgets": {},
       "arguments": {},
       "datasetInfos": [],
       "jupyterProps": {
        "ename": "NameError",
        "evalue": "name 'stop' is not defined"
       },
       "metadata": {
        "errorSummary": "Command skipped"
       },
       "removedWidgets": [],
       "sqlProps": null,
       "stackFrames": [
        "\u001B[0;31m---------------------------------------------------------------------------\u001B[0m",
        "\u001B[0;31mNameError\u001B[0m                                 Traceback (most recent call last)",
        "File \u001B[0;32m<command-2241051161917221>, line 1\u001B[0m\n\u001B[0;32m----> 1\u001B[0m stop\n",
        "\u001B[0;31mNameError\u001B[0m: name 'stop' is not defined"
       ],
       "type": "baseError"
      }
     },
     "output_type": "display_data"
    }
   ],
   "source": [
    "df_X = pd.DataFrame(X_scale)\n",
    "num_features = len(df_X.columns)\n",
    "num_cols = 3  # Number of columns in the subplot grid\n",
    "num_rows = math.ceil(num_features / num_cols)  # Calculate number of rows needed\n",
    "\n",
    "plt.figure(figsize=(15, 5 * num_rows))\n",
    "\n",
    "# Loop through each column in X and plot a histogram for each feature\n",
    "for i, column in enumerate(df_X.columns):\n",
    "    plt.subplot(num_rows, num_cols, i + 1)  # Adjust the subplot layout dynamically\n",
    "    sns.histplot(df_X[column], bins=20, kde=True)  # Customize bins and other parameters as needed\n",
    "    plt.title(column)\n",
    "\n",
    "plt.tight_layout()  # Adjust spacing between subplots\n",
    "plt.show()"
   ]
  },
  {
   "cell_type": "markdown",
   "metadata": {
    "application/vnd.databricks.v1+cell": {
     "cellMetadata": {
      "byteLimit": 2048000,
      "rowLimit": 10000
     },
     "inputWidgets": {},
     "nuid": "daaea931-71fc-4c93-a55b-cfc6071daeaf",
     "showTitle": false,
     "title": ""
    }
   },
   "source": [
    "## 2. Check clusterability"
   ]
  },
  {
   "cell_type": "markdown",
   "metadata": {
    "application/vnd.databricks.v1+cell": {
     "cellMetadata": {
      "byteLimit": 2048000,
      "rowLimit": 10000
     },
     "inputWidgets": {},
     "nuid": "cf0dc4a1-355d-4aed-b6ac-c8963214dd84",
     "showTitle": false,
     "title": ""
    }
   },
   "source": [
    "## t-sne tutorial - how to explain\n",
    "[t-sne explanation](https://distill.pub/2016/misread-tsne/)"
   ]
  },
  {
   "cell_type": "code",
   "execution_count": 0,
   "metadata": {
    "application/vnd.databricks.v1+cell": {
     "cellMetadata": {
      "byteLimit": 2048000,
      "rowLimit": 10000
     },
     "inputWidgets": {},
     "nuid": "3a2210ec-44cd-4296-9f62-dc94d2225a45",
     "showTitle": false,
     "title": ""
    }
   },
   "outputs": [
    {
     "output_type": "display_data",
     "data": {
      "application/vnd.jupyter.widget-view+json": {
       "model_id": "af44c7617d6e4fe88ceee215f69b6073",
       "version_major": 2,
       "version_minor": 0
      },
      "text/plain": [
       "Uploading artifacts:   0%|          | 0/5 [00:00<?, ?it/s]"
      ]
     },
     "metadata": {},
     "output_type": "display_data"
    },
    {
     "output_type": "display_data",
     "data": {
      "text/html": [
       "<html>\n",
       "<head><meta charset=\"utf-8\" /></head>\n",
       "<body>\n",
       "    <div>            <script src=\"https://cdnjs.cloudflare.com/ajax/libs/mathjax/2.7.5/MathJax.js?config=TeX-AMS-MML_SVG\"></script><script type=\"text/javascript\">if (window.MathJax && window.MathJax.Hub && window.MathJax.Hub.Config) {window.MathJax.Hub.Config({SVG: {font: \"STIX-Web\"}});}</script>                <script type=\"text/javascript\">window.PlotlyConfig = {MathJaxConfig: 'local'};</script>\n",
       "        <script src=\"https://cdn.plot.ly/plotly-2.12.1.min.js\"></script>                <div id=\"00476b68-6b7c-4478-bd70-73ddde79a077\" class=\"plotly-graph-div\" style=\"height:100%; width:100%;\"></div>            <script type=\"text/javascript\">                                    window.PLOTLYENV=window.PLOTLYENV || {};                                    if (document.getElementById(\"00476b68-6b7c-4478-bd70-73ddde79a077\")) {                    Plotly.newPlot(                        \"00476b68-6b7c-4478-bd70-73ddde79a077\",                        [{\"hovertemplate\":\"color=AB Select US Long/Short Portfolio<br>0=%{x}<br>1=%{y}<extra></extra>\",\"legendgroup\":\"AB Select US Long/Short Portfolio\",\"marker\":{\"color\":\"#636efa\",\"symbol\":\"circle\"},\"mode\":\"markers\",\"name\":\"AB Select US Long/Short Portfolio\",\"orientation\":\"v\",\"showlegend\":true,\"x\":[-2.284714698791504],\"xaxis\":\"x\",\"y\":[12.928607940673828],\"yaxis\":\"y\",\"type\":\"scatter\"},{\"hovertemplate\":\"color=AQR Long-Short Equity Fund<br>0=%{x}<br>1=%{y}<extra></extra>\",\"legendgroup\":\"AQR Long-Short Equity Fund\",\"marker\":{\"color\":\"#EF553B\",\"symbol\":\"circle\"},\"mode\":\"markers\",\"name\":\"AQR Long-Short Equity Fund\",\"orientation\":\"v\",\"showlegend\":true,\"x\":[9.248590469360352],\"xaxis\":\"x\",\"y\":[8.565096855163574],\"yaxis\":\"y\",\"type\":\"scatter\"},{\"hovertemplate\":\"color=AXS Dynamic Opportunity Fund<br>0=%{x}<br>1=%{y}<extra></extra>\",\"legendgroup\":\"AXS Dynamic Opportunity Fund\",\"marker\":{\"color\":\"#00cc96\",\"symbol\":\"circle\"},\"mode\":\"markers\",\"name\":\"AXS Dynamic Opportunity Fund\",\"orientation\":\"v\",\"showlegend\":true,\"x\":[-1.6681071519851685],\"xaxis\":\"x\",\"y\":[-14.025731086730957],\"yaxis\":\"y\",\"type\":\"scatter\"},{\"hovertemplate\":\"color=Alger Dynamic Opportunities Fund<br>0=%{x}<br>1=%{y}<extra></extra>\",\"legendgroup\":\"Alger Dynamic Opportunities Fund\",\"marker\":{\"color\":\"#ab63fa\",\"symbol\":\"circle\"},\"mode\":\"markers\",\"name\":\"Alger Dynamic Opportunities Fund\",\"orientation\":\"v\",\"showlegend\":true,\"x\":[-6.617090225219727],\"xaxis\":\"x\",\"y\":[11.671573638916016],\"yaxis\":\"y\",\"type\":\"scatter\"},{\"hovertemplate\":\"color=Allspring Global Long/Short Equity Fund<br>0=%{x}<br>1=%{y}<extra></extra>\",\"legendgroup\":\"Allspring Global Long/Short Equity Fund\",\"marker\":{\"color\":\"#FFA15A\",\"symbol\":\"circle\"},\"mode\":\"markers\",\"name\":\"Allspring Global Long/Short Equity Fund\",\"orientation\":\"v\",\"showlegend\":true,\"x\":[1.6398922204971313],\"xaxis\":\"x\",\"y\":[-5.427927017211914],\"yaxis\":\"y\",\"type\":\"scatter\"},{\"hovertemplate\":\"color=Allspring U.S. Long/Short Equity Fund<br>0=%{x}<br>1=%{y}<extra></extra>\",\"legendgroup\":\"Allspring U.S. Long/Short Equity Fund\",\"marker\":{\"color\":\"#19d3f3\",\"symbol\":\"circle\"},\"mode\":\"markers\",\"name\":\"Allspring U.S. Long/Short Equity Fund\",\"orientation\":\"v\",\"showlegend\":true,\"x\":[3.955101728439331],\"xaxis\":\"x\",\"y\":[9.315489768981934],\"yaxis\":\"y\",\"type\":\"scatter\"},{\"hovertemplate\":\"color=AmericaFirst Defensive Growth Fund<br>0=%{x}<br>1=%{y}<extra></extra>\",\"legendgroup\":\"AmericaFirst Defensive Growth Fund\",\"marker\":{\"color\":\"#FF6692\",\"symbol\":\"circle\"},\"mode\":\"markers\",\"name\":\"AmericaFirst Defensive Growth Fund\",\"orientation\":\"v\",\"showlegend\":true,\"x\":[13.500382423400879],\"xaxis\":\"x\",\"y\":[-6.653544902801514],\"yaxis\":\"y\",\"type\":\"scatter\"},{\"hovertemplate\":\"color=Anchor Risk Managed Equity Strategies Fd<br>0=%{x}<br>1=%{y}<extra></extra>\",\"legendgroup\":\"Anchor Risk Managed Equity Strategies Fd\",\"marker\":{\"color\":\"#B6E880\",\"symbol\":\"circle\"},\"mode\":\"markers\",\"name\":\"Anchor Risk Managed Equity Strategies Fd\",\"orientation\":\"v\",\"showlegend\":true,\"x\":[-3.019951343536377],\"xaxis\":\"x\",\"y\":[9.381086349487305],\"yaxis\":\"y\",\"type\":\"scatter\"},{\"hovertemplate\":\"color=Boston Partners Emerging Mkts Dyn Eq Fd<br>0=%{x}<br>1=%{y}<extra></extra>\",\"legendgroup\":\"Boston Partners Emerging Mkts Dyn Eq Fd\",\"marker\":{\"color\":\"#FF97FF\",\"symbol\":\"circle\"},\"mode\":\"markers\",\"name\":\"Boston Partners Emerging Mkts Dyn Eq Fd\",\"orientation\":\"v\",\"showlegend\":true,\"x\":[4.729086875915527],\"xaxis\":\"x\",\"y\":[-12.02099895477295],\"yaxis\":\"y\",\"type\":\"scatter\"},{\"hovertemplate\":\"color=Boston Partners Global Long/Short Fund<br>0=%{x}<br>1=%{y}<extra></extra>\",\"legendgroup\":\"Boston Partners Global Long/Short Fund\",\"marker\":{\"color\":\"#FECB52\",\"symbol\":\"circle\"},\"mode\":\"markers\",\"name\":\"Boston Partners Global Long/Short Fund\",\"orientation\":\"v\",\"showlegend\":true,\"x\":[6.047356128692627],\"xaxis\":\"x\",\"y\":[8.825288772583008],\"yaxis\":\"y\",\"type\":\"scatter\"},{\"hovertemplate\":\"color=Boston Partners Long/Short Equity Fund<br>0=%{x}<br>1=%{y}<extra></extra>\",\"legendgroup\":\"Boston Partners Long/Short Equity Fund\",\"marker\":{\"color\":\"#636efa\",\"symbol\":\"circle\"},\"mode\":\"markers\",\"name\":\"Boston Partners Long/Short Equity Fund\",\"orientation\":\"v\",\"showlegend\":true,\"x\":[14.299337387084961],\"xaxis\":\"x\",\"y\":[9.996777534484863],\"yaxis\":\"y\",\"type\":\"scatter\"},{\"hovertemplate\":\"color=Boston Partners Long/Short Research Fund<br>0=%{x}<br>1=%{y}<extra></extra>\",\"legendgroup\":\"Boston Partners Long/Short Research Fund\",\"marker\":{\"color\":\"#EF553B\",\"symbol\":\"circle\"},\"mode\":\"markers\",\"name\":\"Boston Partners Long/Short Research Fund\",\"orientation\":\"v\",\"showlegend\":true,\"x\":[6.681135654449463],\"xaxis\":\"x\",\"y\":[18.31122398376465],\"yaxis\":\"y\",\"type\":\"scatter\"},{\"hovertemplate\":\"color=CRM Long/Short Opportunities Fund<br>0=%{x}<br>1=%{y}<extra></extra>\",\"legendgroup\":\"CRM Long/Short Opportunities Fund\",\"marker\":{\"color\":\"#00cc96\",\"symbol\":\"circle\"},\"mode\":\"markers\",\"name\":\"CRM Long/Short Opportunities Fund\",\"orientation\":\"v\",\"showlegend\":true,\"x\":[1.2064005136489868],\"xaxis\":\"x\",\"y\":[4.573643684387207],\"yaxis\":\"y\",\"type\":\"scatter\"},{\"hovertemplate\":\"color=Calamos Phineus Long/Short Fund<br>0=%{x}<br>1=%{y}<extra></extra>\",\"legendgroup\":\"Calamos Phineus Long/Short Fund\",\"marker\":{\"color\":\"#ab63fa\",\"symbol\":\"circle\"},\"mode\":\"markers\",\"name\":\"Calamos Phineus Long/Short Fund\",\"orientation\":\"v\",\"showlegend\":true,\"x\":[-11.98662281036377],\"xaxis\":\"x\",\"y\":[3.5455379486083984],\"yaxis\":\"y\",\"type\":\"scatter\"},{\"hovertemplate\":\"color=Caldwell & Orkin - Gator Capital L/S Fd<br>0=%{x}<br>1=%{y}<extra></extra>\",\"legendgroup\":\"Caldwell & Orkin - Gator Capital L/S Fd\",\"marker\":{\"color\":\"#FFA15A\",\"symbol\":\"circle\"},\"mode\":\"markers\",\"name\":\"Caldwell & Orkin - Gator Capital L/S Fd\",\"orientation\":\"v\",\"showlegend\":true,\"x\":[15.97848892211914],\"xaxis\":\"x\",\"y\":[9.549808502197266],\"yaxis\":\"y\",\"type\":\"scatter\"},{\"hovertemplate\":\"color=Cambria Value and Momentum ETF<br>0=%{x}<br>1=%{y}<extra></extra>\",\"legendgroup\":\"Cambria Value and Momentum ETF\",\"marker\":{\"color\":\"#19d3f3\",\"symbol\":\"circle\"},\"mode\":\"markers\",\"name\":\"Cambria Value and Momentum ETF\",\"orientation\":\"v\",\"showlegend\":true,\"x\":[7.102349758148193],\"xaxis\":\"x\",\"y\":[5.947603702545166],\"yaxis\":\"y\",\"type\":\"scatter\"},{\"hovertemplate\":\"color=Clough Global Long/Short Fund<br>0=%{x}<br>1=%{y}<extra></extra>\",\"legendgroup\":\"Clough Global Long/Short Fund\",\"marker\":{\"color\":\"#FF6692\",\"symbol\":\"circle\"},\"mode\":\"markers\",\"name\":\"Clough Global Long/Short Fund\",\"orientation\":\"v\",\"showlegend\":true,\"x\":[-0.6629086136817932],\"xaxis\":\"x\",\"y\":[-8.319143295288086],\"yaxis\":\"y\",\"type\":\"scatter\"},{\"hovertemplate\":\"color=Counterpoint Tactical Equity Fund<br>0=%{x}<br>1=%{y}<extra></extra>\",\"legendgroup\":\"Counterpoint Tactical Equity Fund\",\"marker\":{\"color\":\"#B6E880\",\"symbol\":\"circle\"},\"mode\":\"markers\",\"name\":\"Counterpoint Tactical Equity Fund\",\"orientation\":\"v\",\"showlegend\":true,\"x\":[8.913606643676758],\"xaxis\":\"x\",\"y\":[-1.025567650794983],\"yaxis\":\"y\",\"type\":\"scatter\"},{\"hovertemplate\":\"color=Cromwell Marketfield Long Short Fund<br>0=%{x}<br>1=%{y}<extra></extra>\",\"legendgroup\":\"Cromwell Marketfield Long Short Fund\",\"marker\":{\"color\":\"#FF97FF\",\"symbol\":\"circle\"},\"mode\":\"markers\",\"name\":\"Cromwell Marketfield Long Short Fund\",\"orientation\":\"v\",\"showlegend\":true,\"x\":[8.2211332321167],\"xaxis\":\"x\",\"y\":[18.068607330322266],\"yaxis\":\"y\",\"type\":\"scatter\"},{\"hovertemplate\":\"color=Diamond Hill Long-Short Fund<br>0=%{x}<br>1=%{y}<extra></extra>\",\"legendgroup\":\"Diamond Hill Long-Short Fund\",\"marker\":{\"color\":\"#FECB52\",\"symbol\":\"circle\"},\"mode\":\"markers\",\"name\":\"Diamond Hill Long-Short Fund\",\"orientation\":\"v\",\"showlegend\":true,\"x\":[4.956101417541504],\"xaxis\":\"x\",\"y\":[19.670244216918945],\"yaxis\":\"y\",\"type\":\"scatter\"},{\"hovertemplate\":\"color=Federated Hermes MDT Market Neutral<br>0=%{x}<br>1=%{y}<extra></extra>\",\"legendgroup\":\"Federated Hermes MDT Market Neutral\",\"marker\":{\"color\":\"#636efa\",\"symbol\":\"circle\"},\"mode\":\"markers\",\"name\":\"Federated Hermes MDT Market Neutral\",\"orientation\":\"v\",\"showlegend\":true,\"x\":[4.956325054168701],\"xaxis\":\"x\",\"y\":[11.775443077087402],\"yaxis\":\"y\",\"type\":\"scatter\"},{\"hovertemplate\":\"color=Fintrust Income and Opportunity Fund<br>0=%{x}<br>1=%{y}<extra></extra>\",\"legendgroup\":\"Fintrust Income and Opportunity Fund\",\"marker\":{\"color\":\"#EF553B\",\"symbol\":\"circle\"},\"mode\":\"markers\",\"name\":\"Fintrust Income and Opportunity Fund\",\"orientation\":\"v\",\"showlegend\":true,\"x\":[13.028538703918457],\"xaxis\":\"x\",\"y\":[-10.108819961547852],\"yaxis\":\"y\",\"type\":\"scatter\"},{\"hovertemplate\":\"color=First Trust Long/Short Equity ETF<br>0=%{x}<br>1=%{y}<extra></extra>\",\"legendgroup\":\"First Trust Long/Short Equity ETF\",\"marker\":{\"color\":\"#00cc96\",\"symbol\":\"circle\"},\"mode\":\"markers\",\"name\":\"First Trust Long/Short Equity ETF\",\"orientation\":\"v\",\"showlegend\":true,\"x\":[0.712104856967926],\"xaxis\":\"x\",\"y\":[9.281291007995605],\"yaxis\":\"y\",\"type\":\"scatter\"},{\"hovertemplate\":\"color=Forester Value Fund<br>0=%{x}<br>1=%{y}<extra></extra>\",\"legendgroup\":\"Forester Value Fund\",\"marker\":{\"color\":\"#ab63fa\",\"symbol\":\"circle\"},\"mode\":\"markers\",\"name\":\"Forester Value Fund\",\"orientation\":\"v\",\"showlegend\":true,\"x\":[7.901816368103027],\"xaxis\":\"x\",\"y\":[-18.136375427246094],\"yaxis\":\"y\",\"type\":\"scatter\"},{\"hovertemplate\":\"color=Gotham Defensive Long 500 Fund<br>0=%{x}<br>1=%{y}<extra></extra>\",\"legendgroup\":\"Gotham Defensive Long 500 Fund\",\"marker\":{\"color\":\"#FFA15A\",\"symbol\":\"circle\"},\"mode\":\"markers\",\"name\":\"Gotham Defensive Long 500 Fund\",\"orientation\":\"v\",\"showlegend\":true,\"x\":[-12.040911674499512],\"xaxis\":\"x\",\"y\":[0.5126085877418518],\"yaxis\":\"y\",\"type\":\"scatter\"},{\"hovertemplate\":\"color=Gotham Hedged Core Fund<br>0=%{x}<br>1=%{y}<extra></extra>\",\"legendgroup\":\"Gotham Hedged Core Fund\",\"marker\":{\"color\":\"#19d3f3\",\"symbol\":\"circle\"},\"mode\":\"markers\",\"name\":\"Gotham Hedged Core Fund\",\"orientation\":\"v\",\"showlegend\":true,\"x\":[-7.749495029449463],\"xaxis\":\"x\",\"y\":[5.51237154006958],\"yaxis\":\"y\",\"type\":\"scatter\"},{\"hovertemplate\":\"color=Gotham Hedged Plus Fund<br>0=%{x}<br>1=%{y}<extra></extra>\",\"legendgroup\":\"Gotham Hedged Plus Fund\",\"marker\":{\"color\":\"#FF6692\",\"symbol\":\"circle\"},\"mode\":\"markers\",\"name\":\"Gotham Hedged Plus Fund\",\"orientation\":\"v\",\"showlegend\":true,\"x\":[-11.739079475402832],\"xaxis\":\"x\",\"y\":[-1.6485990285873413],\"yaxis\":\"y\",\"type\":\"scatter\"},{\"hovertemplate\":\"color=Gotham Total Return Fund<br>0=%{x}<br>1=%{y}<extra></extra>\",\"legendgroup\":\"Gotham Total Return Fund\",\"marker\":{\"color\":\"#B6E880\",\"symbol\":\"circle\"},\"mode\":\"markers\",\"name\":\"Gotham Total Return Fund\",\"orientation\":\"v\",\"showlegend\":true,\"x\":[-14.811639785766602],\"xaxis\":\"x\",\"y\":[-1.7618515491485596],\"yaxis\":\"y\",\"type\":\"scatter\"},{\"hovertemplate\":\"color=Guggenheim Alpha Opportunity Fund<br>0=%{x}<br>1=%{y}<extra></extra>\",\"legendgroup\":\"Guggenheim Alpha Opportunity Fund\",\"marker\":{\"color\":\"#FF97FF\",\"symbol\":\"circle\"},\"mode\":\"markers\",\"name\":\"Guggenheim Alpha Opportunity Fund\",\"orientation\":\"v\",\"showlegend\":true,\"x\":[-3.6522316932678223],\"xaxis\":\"x\",\"y\":[-4.845205307006836],\"yaxis\":\"y\",\"type\":\"scatter\"},{\"hovertemplate\":\"color=Guggenheim Long Short Equity Fund<br>0=%{x}<br>1=%{y}<extra></extra>\",\"legendgroup\":\"Guggenheim Long Short Equity Fund\",\"marker\":{\"color\":\"#FECB52\",\"symbol\":\"circle\"},\"mode\":\"markers\",\"name\":\"Guggenheim Long Short Equity Fund\",\"orientation\":\"v\",\"showlegend\":true,\"x\":[-6.2365803718566895],\"xaxis\":\"x\",\"y\":[-3.4849250316619873],\"yaxis\":\"y\",\"type\":\"scatter\"},{\"hovertemplate\":\"color=Hull Tactical US ETF<br>0=%{x}<br>1=%{y}<extra></extra>\",\"legendgroup\":\"Hull Tactical US ETF\",\"marker\":{\"color\":\"#636efa\",\"symbol\":\"circle\"},\"mode\":\"markers\",\"name\":\"Hull Tactical US ETF\",\"orientation\":\"v\",\"showlegend\":true,\"x\":[-9.837669372558594],\"xaxis\":\"x\",\"y\":[7.03875732421875],\"yaxis\":\"y\",\"type\":\"scatter\"},{\"hovertemplate\":\"color=Invesco S&P 500\\u00ae Downside Hedged ETF<br>0=%{x}<br>1=%{y}<extra></extra>\",\"legendgroup\":\"Invesco S&P 500\\u00ae Downside Hedged ETF\",\"marker\":{\"color\":\"#EF553B\",\"symbol\":\"circle\"},\"mode\":\"markers\",\"name\":\"Invesco S&P 500\\u00ae Downside Hedged ETF\",\"orientation\":\"v\",\"showlegend\":true,\"x\":[-9.02956771850586],\"xaxis\":\"x\",\"y\":[13.494316101074219],\"yaxis\":\"y\",\"type\":\"scatter\"},{\"hovertemplate\":\"color=JHancock Seaport Long/Short Fund<br>0=%{x}<br>1=%{y}<extra></extra>\",\"legendgroup\":\"JHancock Seaport Long/Short Fund\",\"marker\":{\"color\":\"#00cc96\",\"symbol\":\"circle\"},\"mode\":\"markers\",\"name\":\"JHancock Seaport Long/Short Fund\",\"orientation\":\"v\",\"showlegend\":true,\"x\":[2.676173210144043],\"xaxis\":\"x\",\"y\":[-17.523693084716797],\"yaxis\":\"y\",\"type\":\"scatter\"},{\"hovertemplate\":\"color=JPMorgan Opportunistic Equity L/S Fd<br>0=%{x}<br>1=%{y}<extra></extra>\",\"legendgroup\":\"JPMorgan Opportunistic Equity L/S Fd\",\"marker\":{\"color\":\"#ab63fa\",\"symbol\":\"circle\"},\"mode\":\"markers\",\"name\":\"JPMorgan Opportunistic Equity L/S Fd\",\"orientation\":\"v\",\"showlegend\":true,\"x\":[2.8562355041503906],\"xaxis\":\"x\",\"y\":[-1.503489375114441],\"yaxis\":\"y\",\"type\":\"scatter\"},{\"hovertemplate\":\"color=LS Opportunity Fund Institutional Class<br>0=%{x}<br>1=%{y}<extra></extra>\",\"legendgroup\":\"LS Opportunity Fund Institutional Class\",\"marker\":{\"color\":\"#FFA15A\",\"symbol\":\"circle\"},\"mode\":\"markers\",\"name\":\"LS Opportunity Fund Institutional Class\",\"orientation\":\"v\",\"showlegend\":true,\"x\":[1.487139344215393],\"xaxis\":\"x\",\"y\":[7.559602737426758],\"yaxis\":\"y\",\"type\":\"scatter\"},{\"hovertemplate\":\"color=LoCorr Dynamic Opportunity Fund<br>0=%{x}<br>1=%{y}<extra></extra>\",\"legendgroup\":\"LoCorr Dynamic Opportunity Fund\",\"marker\":{\"color\":\"#19d3f3\",\"symbol\":\"circle\"},\"mode\":\"markers\",\"name\":\"LoCorr Dynamic Opportunity Fund\",\"orientation\":\"v\",\"showlegend\":true,\"x\":[9.741409301757812],\"xaxis\":\"x\",\"y\":[-4.351133823394775],\"yaxis\":\"y\",\"type\":\"scatter\"},{\"hovertemplate\":\"color=Longboard Fund<br>0=%{x}<br>1=%{y}<extra></extra>\",\"legendgroup\":\"Longboard Fund\",\"marker\":{\"color\":\"#FF6692\",\"symbol\":\"circle\"},\"mode\":\"markers\",\"name\":\"Longboard Fund\",\"orientation\":\"v\",\"showlegend\":true,\"x\":[-5.079740524291992],\"xaxis\":\"x\",\"y\":[5.635507583618164],\"yaxis\":\"y\",\"type\":\"scatter\"},{\"hovertemplate\":\"color=MFS Managed Wealth Fund<br>0=%{x}<br>1=%{y}<extra></extra>\",\"legendgroup\":\"MFS Managed Wealth Fund\",\"marker\":{\"color\":\"#B6E880\",\"symbol\":\"circle\"},\"mode\":\"markers\",\"name\":\"MFS Managed Wealth Fund\",\"orientation\":\"v\",\"showlegend\":true,\"x\":[5.667322158813477],\"xaxis\":\"x\",\"y\":[-21.73368263244629],\"yaxis\":\"y\",\"type\":\"scatter\"},{\"hovertemplate\":\"color=Meeder Spectrum Fund<br>0=%{x}<br>1=%{y}<extra></extra>\",\"legendgroup\":\"Meeder Spectrum Fund\",\"marker\":{\"color\":\"#FF97FF\",\"symbol\":\"circle\"},\"mode\":\"markers\",\"name\":\"Meeder Spectrum Fund\",\"orientation\":\"v\",\"showlegend\":true,\"x\":[-0.32754790782928467],\"xaxis\":\"x\",\"y\":[-2.9288344383239746],\"yaxis\":\"y\",\"type\":\"scatter\"},{\"hovertemplate\":\"color=Multi-Manager Directional Alt Strat Fd<br>0=%{x}<br>1=%{y}<extra></extra>\",\"legendgroup\":\"Multi-Manager Directional Alt Strat Fd\",\"marker\":{\"color\":\"#FECB52\",\"symbol\":\"circle\"},\"mode\":\"markers\",\"name\":\"Multi-Manager Directional Alt Strat Fd\",\"orientation\":\"v\",\"showlegend\":true,\"x\":[6.48877477645874],\"xaxis\":\"x\",\"y\":[-4.799280166625977],\"yaxis\":\"y\",\"type\":\"scatter\"},{\"hovertemplate\":\"color=Navigator Equity Hedged Fund<br>0=%{x}<br>1=%{y}<extra></extra>\",\"legendgroup\":\"Navigator Equity Hedged Fund\",\"marker\":{\"color\":\"#636efa\",\"symbol\":\"circle\"},\"mode\":\"markers\",\"name\":\"Navigator Equity Hedged Fund\",\"orientation\":\"v\",\"showlegend\":true,\"x\":[-6.617310523986816],\"xaxis\":\"x\",\"y\":[-0.9157110452651978],\"yaxis\":\"y\",\"type\":\"scatter\"},{\"hovertemplate\":\"color=Neuberger Berman Long Short Fund<br>0=%{x}<br>1=%{y}<extra></extra>\",\"legendgroup\":\"Neuberger Berman Long Short Fund\",\"marker\":{\"color\":\"#EF553B\",\"symbol\":\"circle\"},\"mode\":\"markers\",\"name\":\"Neuberger Berman Long Short Fund\",\"orientation\":\"v\",\"showlegend\":true,\"x\":[-0.4001379907131195],\"xaxis\":\"x\",\"y\":[16.414369583129883],\"yaxis\":\"y\",\"type\":\"scatter\"},{\"hovertemplate\":\"color=NexPoint Event Driven Fund<br>0=%{x}<br>1=%{y}<extra></extra>\",\"legendgroup\":\"NexPoint Event Driven Fund\",\"marker\":{\"color\":\"#00cc96\",\"symbol\":\"circle\"},\"mode\":\"markers\",\"name\":\"NexPoint Event Driven Fund\",\"orientation\":\"v\",\"showlegend\":true,\"x\":[11.49178695678711],\"xaxis\":\"x\",\"y\":[-4.264620304107666],\"yaxis\":\"y\",\"type\":\"scatter\"},{\"hovertemplate\":\"color=Nuance Concentrated Value Lg-Shrt Fd<br>0=%{x}<br>1=%{y}<extra></extra>\",\"legendgroup\":\"Nuance Concentrated Value Lg-Shrt Fd\",\"marker\":{\"color\":\"#ab63fa\",\"symbol\":\"circle\"},\"mode\":\"markers\",\"name\":\"Nuance Concentrated Value Lg-Shrt Fd\",\"orientation\":\"v\",\"showlegend\":true,\"x\":[6.056528091430664],\"xaxis\":\"x\",\"y\":[-9.722960472106934],\"yaxis\":\"y\",\"type\":\"scatter\"},{\"hovertemplate\":\"color=Nuveen Equity Long/Short Fund<br>0=%{x}<br>1=%{y}<extra></extra>\",\"legendgroup\":\"Nuveen Equity Long/Short Fund\",\"marker\":{\"color\":\"#FFA15A\",\"symbol\":\"circle\"},\"mode\":\"markers\",\"name\":\"Nuveen Equity Long/Short Fund\",\"orientation\":\"v\",\"showlegend\":true,\"x\":[-5.579286575317383],\"xaxis\":\"x\",\"y\":[2.199296474456787],\"yaxis\":\"y\",\"type\":\"scatter\"},{\"hovertemplate\":\"color=PIMCO RAE Worldwide Long/Short PLUS Fd<br>0=%{x}<br>1=%{y}<extra></extra>\",\"legendgroup\":\"PIMCO RAE Worldwide Long/Short PLUS Fd\",\"marker\":{\"color\":\"#19d3f3\",\"symbol\":\"circle\"},\"mode\":\"markers\",\"name\":\"PIMCO RAE Worldwide Long/Short PLUS Fd\",\"orientation\":\"v\",\"showlegend\":true,\"x\":[6.39917516708374],\"xaxis\":\"x\",\"y\":[-7.113222599029541],\"yaxis\":\"y\",\"type\":\"scatter\"},{\"hovertemplate\":\"color=Persimmon Long/Short Fund<br>0=%{x}<br>1=%{y}<extra></extra>\",\"legendgroup\":\"Persimmon Long/Short Fund\",\"marker\":{\"color\":\"#FF6692\",\"symbol\":\"circle\"},\"mode\":\"markers\",\"name\":\"Persimmon Long/Short Fund\",\"orientation\":\"v\",\"showlegend\":true,\"x\":[-1.9598716497421265],\"xaxis\":\"x\",\"y\":[-0.8084205985069275],\"yaxis\":\"y\",\"type\":\"scatter\"},{\"hovertemplate\":\"color=RiverPark Long/Short Opportunity Fund<br>0=%{x}<br>1=%{y}<extra></extra>\",\"legendgroup\":\"RiverPark Long/Short Opportunity Fund\",\"marker\":{\"color\":\"#B6E880\",\"symbol\":\"circle\"},\"mode\":\"markers\",\"name\":\"RiverPark Long/Short Opportunity Fund\",\"orientation\":\"v\",\"showlegend\":true,\"x\":[-12.488929748535156],\"xaxis\":\"x\",\"y\":[-6.0369672775268555],\"yaxis\":\"y\",\"type\":\"scatter\"},{\"hovertemplate\":\"color=Securian AM Equity Stabilization Fd<br>0=%{x}<br>1=%{y}<extra></extra>\",\"legendgroup\":\"Securian AM Equity Stabilization Fd\",\"marker\":{\"color\":\"#FF97FF\",\"symbol\":\"circle\"},\"mode\":\"markers\",\"name\":\"Securian AM Equity Stabilization Fd\",\"orientation\":\"v\",\"showlegend\":true,\"x\":[1.7516343593597412],\"xaxis\":\"x\",\"y\":[-7.77461576461792],\"yaxis\":\"y\",\"type\":\"scatter\"},{\"hovertemplate\":\"color=Toews Hedged Oceana Fd<br>0=%{x}<br>1=%{y}<extra></extra>\",\"legendgroup\":\"Toews Hedged Oceana Fd\",\"marker\":{\"color\":\"#FECB52\",\"symbol\":\"circle\"},\"mode\":\"markers\",\"name\":\"Toews Hedged Oceana Fd\",\"orientation\":\"v\",\"showlegend\":true,\"x\":[3.9005637168884277],\"xaxis\":\"x\",\"y\":[-14.813002586364746],\"yaxis\":\"y\",\"type\":\"scatter\"},{\"hovertemplate\":\"color=Toews Hedged U.S. Fd<br>0=%{x}<br>1=%{y}<extra></extra>\",\"legendgroup\":\"Toews Hedged U.S. Fd\",\"marker\":{\"color\":\"#636efa\",\"symbol\":\"circle\"},\"mode\":\"markers\",\"name\":\"Toews Hedged U.S. Fd\",\"orientation\":\"v\",\"showlegend\":true,\"x\":[-6.545036315917969],\"xaxis\":\"x\",\"y\":[14.204668998718262],\"yaxis\":\"y\",\"type\":\"scatter\"},{\"hovertemplate\":\"color=Toews Hedged U.S. Opportunity Fd<br>0=%{x}<br>1=%{y}<extra></extra>\",\"legendgroup\":\"Toews Hedged U.S. Opportunity Fd\",\"marker\":{\"color\":\"#EF553B\",\"symbol\":\"circle\"},\"mode\":\"markers\",\"name\":\"Toews Hedged U.S. Opportunity Fd\",\"orientation\":\"v\",\"showlegend\":true,\"x\":[-3.9018001556396484],\"xaxis\":\"x\",\"y\":[-12.500922203063965],\"yaxis\":\"y\",\"type\":\"scatter\"},{\"hovertemplate\":\"color=Toews Tactical Defensive Alpha Fund<br>0=%{x}<br>1=%{y}<extra></extra>\",\"legendgroup\":\"Toews Tactical Defensive Alpha Fund\",\"marker\":{\"color\":\"#00cc96\",\"symbol\":\"circle\"},\"mode\":\"markers\",\"name\":\"Toews Tactical Defensive Alpha Fund\",\"orientation\":\"v\",\"showlegend\":true,\"x\":[-9.036787986755371],\"xaxis\":\"x\",\"y\":[-0.1723901331424713],\"yaxis\":\"y\",\"type\":\"scatter\"},{\"hovertemplate\":\"color=Waycross Long/Short Equity Fund<br>0=%{x}<br>1=%{y}<extra></extra>\",\"legendgroup\":\"Waycross Long/Short Equity Fund\",\"marker\":{\"color\":\"#ab63fa\",\"symbol\":\"circle\"},\"mode\":\"markers\",\"name\":\"Waycross Long/Short Equity Fund\",\"orientation\":\"v\",\"showlegend\":true,\"x\":[-2.653919219970703],\"xaxis\":\"x\",\"y\":[6.1047682762146],\"yaxis\":\"y\",\"type\":\"scatter\"},{\"hovertemplate\":\"color=Weitz Partners III Opportunity Fund<br>0=%{x}<br>1=%{y}<extra></extra>\",\"legendgroup\":\"Weitz Partners III Opportunity Fund\",\"marker\":{\"color\":\"#FFA15A\",\"symbol\":\"circle\"},\"mode\":\"markers\",\"name\":\"Weitz Partners III Opportunity Fund\",\"orientation\":\"v\",\"showlegend\":true,\"x\":[-9.09655475616455],\"xaxis\":\"x\",\"y\":[-4.334922790527344],\"yaxis\":\"y\",\"type\":\"scatter\"},{\"hovertemplate\":\"color=Westwood Broadmark Tactical Growth Fund<br>0=%{x}<br>1=%{y}<extra></extra>\",\"legendgroup\":\"Westwood Broadmark Tactical Growth Fund\",\"marker\":{\"color\":\"#19d3f3\",\"symbol\":\"circle\"},\"mode\":\"markers\",\"name\":\"Westwood Broadmark Tactical Growth Fund\",\"orientation\":\"v\",\"showlegend\":true,\"x\":[4.365649700164795],\"xaxis\":\"x\",\"y\":[-19.54197883605957],\"yaxis\":\"y\",\"type\":\"scatter\"},{\"hovertemplate\":\"color=Westwood Broadmark Tactical Plus Fund<br>0=%{x}<br>1=%{y}<extra></extra>\",\"legendgroup\":\"Westwood Broadmark Tactical Plus Fund\",\"marker\":{\"color\":\"#FF6692\",\"symbol\":\"circle\"},\"mode\":\"markers\",\"name\":\"Westwood Broadmark Tactical Plus Fund\",\"orientation\":\"v\",\"showlegend\":true,\"x\":[2.3289780616760254],\"xaxis\":\"x\",\"y\":[-20.4735050201416],\"yaxis\":\"y\",\"type\":\"scatter\"},{\"hovertemplate\":\"color=Wilmington Global Alpha Equities Fund<br>0=%{x}<br>1=%{y}<extra></extra>\",\"legendgroup\":\"Wilmington Global Alpha Equities Fund\",\"marker\":{\"color\":\"#B6E880\",\"symbol\":\"circle\"},\"mode\":\"markers\",\"name\":\"Wilmington Global Alpha Equities Fund\",\"orientation\":\"v\",\"showlegend\":true,\"x\":[5.118680477142334],\"xaxis\":\"x\",\"y\":[-17.245819091796875],\"yaxis\":\"y\",\"type\":\"scatter\"}],                        {\"template\":{\"data\":{\"histogram2dcontour\":[{\"type\":\"histogram2dcontour\",\"colorbar\":{\"outlinewidth\":0,\"ticks\":\"\"},\"colorscale\":[[0.0,\"#0d0887\"],[0.1111111111111111,\"#46039f\"],[0.2222222222222222,\"#7201a8\"],[0.3333333333333333,\"#9c179e\"],[0.4444444444444444,\"#bd3786\"],[0.5555555555555556,\"#d8576b\"],[0.6666666666666666,\"#ed7953\"],[0.7777777777777778,\"#fb9f3a\"],[0.8888888888888888,\"#fdca26\"],[1.0,\"#f0f921\"]]}],\"choropleth\":[{\"type\":\"choropleth\",\"colorbar\":{\"outlinewidth\":0,\"ticks\":\"\"}}],\"histogram2d\":[{\"type\":\"histogram2d\",\"colorbar\":{\"outlinewidth\":0,\"ticks\":\"\"},\"colorscale\":[[0.0,\"#0d0887\"],[0.1111111111111111,\"#46039f\"],[0.2222222222222222,\"#7201a8\"],[0.3333333333333333,\"#9c179e\"],[0.4444444444444444,\"#bd3786\"],[0.5555555555555556,\"#d8576b\"],[0.6666666666666666,\"#ed7953\"],[0.7777777777777778,\"#fb9f3a\"],[0.8888888888888888,\"#fdca26\"],[1.0,\"#f0f921\"]]}],\"heatmap\":[{\"type\":\"heatmap\",\"colorbar\":{\"outlinewidth\":0,\"ticks\":\"\"},\"colorscale\":[[0.0,\"#0d0887\"],[0.1111111111111111,\"#46039f\"],[0.2222222222222222,\"#7201a8\"],[0.3333333333333333,\"#9c179e\"],[0.4444444444444444,\"#bd3786\"],[0.5555555555555556,\"#d8576b\"],[0.6666666666666666,\"#ed7953\"],[0.7777777777777778,\"#fb9f3a\"],[0.8888888888888888,\"#fdca26\"],[1.0,\"#f0f921\"]]}],\"heatmapgl\":[{\"type\":\"heatmapgl\",\"colorbar\":{\"outlinewidth\":0,\"ticks\":\"\"},\"colorscale\":[[0.0,\"#0d0887\"],[0.1111111111111111,\"#46039f\"],[0.2222222222222222,\"#7201a8\"],[0.3333333333333333,\"#9c179e\"],[0.4444444444444444,\"#bd3786\"],[0.5555555555555556,\"#d8576b\"],[0.6666666666666666,\"#ed7953\"],[0.7777777777777778,\"#fb9f3a\"],[0.8888888888888888,\"#fdca26\"],[1.0,\"#f0f921\"]]}],\"contourcarpet\":[{\"type\":\"contourcarpet\",\"colorbar\":{\"outlinewidth\":0,\"ticks\":\"\"}}],\"contour\":[{\"type\":\"contour\",\"colorbar\":{\"outlinewidth\":0,\"ticks\":\"\"},\"colorscale\":[[0.0,\"#0d0887\"],[0.1111111111111111,\"#46039f\"],[0.2222222222222222,\"#7201a8\"],[0.3333333333333333,\"#9c179e\"],[0.4444444444444444,\"#bd3786\"],[0.5555555555555556,\"#d8576b\"],[0.6666666666666666,\"#ed7953\"],[0.7777777777777778,\"#fb9f3a\"],[0.8888888888888888,\"#fdca26\"],[1.0,\"#f0f921\"]]}],\"surface\":[{\"type\":\"surface\",\"colorbar\":{\"outlinewidth\":0,\"ticks\":\"\"},\"colorscale\":[[0.0,\"#0d0887\"],[0.1111111111111111,\"#46039f\"],[0.2222222222222222,\"#7201a8\"],[0.3333333333333333,\"#9c179e\"],[0.4444444444444444,\"#bd3786\"],[0.5555555555555556,\"#d8576b\"],[0.6666666666666666,\"#ed7953\"],[0.7777777777777778,\"#fb9f3a\"],[0.8888888888888888,\"#fdca26\"],[1.0,\"#f0f921\"]]}],\"mesh3d\":[{\"type\":\"mesh3d\",\"colorbar\":{\"outlinewidth\":0,\"ticks\":\"\"}}],\"scatter\":[{\"fillpattern\":{\"fillmode\":\"overlay\",\"size\":10,\"solidity\":0.2},\"type\":\"scatter\"}],\"parcoords\":[{\"type\":\"parcoords\",\"line\":{\"colorbar\":{\"outlinewidth\":0,\"ticks\":\"\"}}}],\"scatterpolargl\":[{\"type\":\"scatterpolargl\",\"marker\":{\"colorbar\":{\"outlinewidth\":0,\"ticks\":\"\"}}}],\"bar\":[{\"error_x\":{\"color\":\"#2a3f5f\"},\"error_y\":{\"color\":\"#2a3f5f\"},\"marker\":{\"line\":{\"color\":\"#E5ECF6\",\"width\":0.5},\"pattern\":{\"fillmode\":\"overlay\",\"size\":10,\"solidity\":0.2}},\"type\":\"bar\"}],\"scattergeo\":[{\"type\":\"scattergeo\",\"marker\":{\"colorbar\":{\"outlinewidth\":0,\"ticks\":\"\"}}}],\"scatterpolar\":[{\"type\":\"scatterpolar\",\"marker\":{\"colorbar\":{\"outlinewidth\":0,\"ticks\":\"\"}}}],\"histogram\":[{\"marker\":{\"pattern\":{\"fillmode\":\"overlay\",\"size\":10,\"solidity\":0.2}},\"type\":\"histogram\"}],\"scattergl\":[{\"type\":\"scattergl\",\"marker\":{\"colorbar\":{\"outlinewidth\":0,\"ticks\":\"\"}}}],\"scatter3d\":[{\"type\":\"scatter3d\",\"line\":{\"colorbar\":{\"outlinewidth\":0,\"ticks\":\"\"}},\"marker\":{\"colorbar\":{\"outlinewidth\":0,\"ticks\":\"\"}}}],\"scattermapbox\":[{\"type\":\"scattermapbox\",\"marker\":{\"colorbar\":{\"outlinewidth\":0,\"ticks\":\"\"}}}],\"scatterternary\":[{\"type\":\"scatterternary\",\"marker\":{\"colorbar\":{\"outlinewidth\":0,\"ticks\":\"\"}}}],\"scattercarpet\":[{\"type\":\"scattercarpet\",\"marker\":{\"colorbar\":{\"outlinewidth\":0,\"ticks\":\"\"}}}],\"carpet\":[{\"aaxis\":{\"endlinecolor\":\"#2a3f5f\",\"gridcolor\":\"white\",\"linecolor\":\"white\",\"minorgridcolor\":\"white\",\"startlinecolor\":\"#2a3f5f\"},\"baxis\":{\"endlinecolor\":\"#2a3f5f\",\"gridcolor\":\"white\",\"linecolor\":\"white\",\"minorgridcolor\":\"white\",\"startlinecolor\":\"#2a3f5f\"},\"type\":\"carpet\"}],\"table\":[{\"cells\":{\"fill\":{\"color\":\"#EBF0F8\"},\"line\":{\"color\":\"white\"}},\"header\":{\"fill\":{\"color\":\"#C8D4E3\"},\"line\":{\"color\":\"white\"}},\"type\":\"table\"}],\"barpolar\":[{\"marker\":{\"line\":{\"color\":\"#E5ECF6\",\"width\":0.5},\"pattern\":{\"fillmode\":\"overlay\",\"size\":10,\"solidity\":0.2}},\"type\":\"barpolar\"}],\"pie\":[{\"automargin\":true,\"type\":\"pie\"}]},\"layout\":{\"autotypenumbers\":\"strict\",\"colorway\":[\"#636efa\",\"#EF553B\",\"#00cc96\",\"#ab63fa\",\"#FFA15A\",\"#19d3f3\",\"#FF6692\",\"#B6E880\",\"#FF97FF\",\"#FECB52\"],\"font\":{\"color\":\"#2a3f5f\"},\"hovermode\":\"closest\",\"hoverlabel\":{\"align\":\"left\"},\"paper_bgcolor\":\"white\",\"plot_bgcolor\":\"#E5ECF6\",\"polar\":{\"bgcolor\":\"#E5ECF6\",\"angularaxis\":{\"gridcolor\":\"white\",\"linecolor\":\"white\",\"ticks\":\"\"},\"radialaxis\":{\"gridcolor\":\"white\",\"linecolor\":\"white\",\"ticks\":\"\"}},\"ternary\":{\"bgcolor\":\"#E5ECF6\",\"aaxis\":{\"gridcolor\":\"white\",\"linecolor\":\"white\",\"ticks\":\"\"},\"baxis\":{\"gridcolor\":\"white\",\"linecolor\":\"white\",\"ticks\":\"\"},\"caxis\":{\"gridcolor\":\"white\",\"linecolor\":\"white\",\"ticks\":\"\"}},\"coloraxis\":{\"colorbar\":{\"outlinewidth\":0,\"ticks\":\"\"}},\"colorscale\":{\"sequential\":[[0.0,\"#0d0887\"],[0.1111111111111111,\"#46039f\"],[0.2222222222222222,\"#7201a8\"],[0.3333333333333333,\"#9c179e\"],[0.4444444444444444,\"#bd3786\"],[0.5555555555555556,\"#d8576b\"],[0.6666666666666666,\"#ed7953\"],[0.7777777777777778,\"#fb9f3a\"],[0.8888888888888888,\"#fdca26\"],[1.0,\"#f0f921\"]],\"sequentialminus\":[[0.0,\"#0d0887\"],[0.1111111111111111,\"#46039f\"],[0.2222222222222222,\"#7201a8\"],[0.3333333333333333,\"#9c179e\"],[0.4444444444444444,\"#bd3786\"],[0.5555555555555556,\"#d8576b\"],[0.6666666666666666,\"#ed7953\"],[0.7777777777777778,\"#fb9f3a\"],[0.8888888888888888,\"#fdca26\"],[1.0,\"#f0f921\"]],\"diverging\":[[0,\"#8e0152\"],[0.1,\"#c51b7d\"],[0.2,\"#de77ae\"],[0.3,\"#f1b6da\"],[0.4,\"#fde0ef\"],[0.5,\"#f7f7f7\"],[0.6,\"#e6f5d0\"],[0.7,\"#b8e186\"],[0.8,\"#7fbc41\"],[0.9,\"#4d9221\"],[1,\"#276419\"]]},\"xaxis\":{\"gridcolor\":\"white\",\"linecolor\":\"white\",\"ticks\":\"\",\"title\":{\"standoff\":15},\"zerolinecolor\":\"white\",\"automargin\":true,\"zerolinewidth\":2},\"yaxis\":{\"gridcolor\":\"white\",\"linecolor\":\"white\",\"ticks\":\"\",\"title\":{\"standoff\":15},\"zerolinecolor\":\"white\",\"automargin\":true,\"zerolinewidth\":2},\"scene\":{\"xaxis\":{\"backgroundcolor\":\"#E5ECF6\",\"gridcolor\":\"white\",\"linecolor\":\"white\",\"showbackground\":true,\"ticks\":\"\",\"zerolinecolor\":\"white\",\"gridwidth\":2},\"yaxis\":{\"backgroundcolor\":\"#E5ECF6\",\"gridcolor\":\"white\",\"linecolor\":\"white\",\"showbackground\":true,\"ticks\":\"\",\"zerolinecolor\":\"white\",\"gridwidth\":2},\"zaxis\":{\"backgroundcolor\":\"#E5ECF6\",\"gridcolor\":\"white\",\"linecolor\":\"white\",\"showbackground\":true,\"ticks\":\"\",\"zerolinecolor\":\"white\",\"gridwidth\":2}},\"shapedefaults\":{\"line\":{\"color\":\"#2a3f5f\"}},\"annotationdefaults\":{\"arrowcolor\":\"#2a3f5f\",\"arrowhead\":0,\"arrowwidth\":1},\"geo\":{\"bgcolor\":\"white\",\"landcolor\":\"#E5ECF6\",\"subunitcolor\":\"white\",\"showland\":true,\"showlakes\":true,\"lakecolor\":\"white\"},\"title\":{\"x\":0.05},\"mapbox\":{\"style\":\"light\"}}},\"xaxis\":{\"anchor\":\"y\",\"domain\":[0.0,1.0],\"title\":{\"text\":\"0\"}},\"yaxis\":{\"anchor\":\"x\",\"domain\":[0.0,1.0],\"title\":{\"text\":\"1\"}},\"legend\":{\"title\":{\"text\":\"color\"},\"tracegroupgap\":0},\"margin\":{\"t\":60}},                        {\"responsive\": true}                    )                };                            </script>        </div>\n",
       "</body>\n",
       "</html>"
      ]
     },
     "metadata": {},
     "output_type": "display_data"
    }
   ],
   "source": [
    "# a small perplexity can generate more well-separated results\n",
    "tsne = TSNE(n_components=2, random_state=42, perplexity = 10)\n",
    "projections = tsne.fit_transform(X_scale)\n",
    "projections\n",
    "\n",
    "fig = px.scatter(\n",
    "    projections,x=0,y=1,\n",
    "    color=df.Fund\n",
    ")\n",
    "fig.show()"
   ]
  },
  {
   "cell_type": "code",
   "execution_count": 0,
   "metadata": {
    "application/vnd.databricks.v1+cell": {
     "cellMetadata": {
      "byteLimit": 2048000,
      "rowLimit": 10000
     },
     "inputWidgets": {},
     "nuid": "22762c6e-2247-49b5-a274-98d785f28a2f",
     "showTitle": false,
     "title": ""
    }
   },
   "outputs": [
    {
     "output_type": "display_data",
     "data": {
      "application/vnd.jupyter.widget-view+json": {
       "model_id": "6f687b69b9e048d7b8cf1afa62cc72be",
       "version_major": 2,
       "version_minor": 0
      },
      "text/plain": [
       "Uploading artifacts:   0%|          | 0/5 [00:00<?, ?it/s]"
      ]
     },
     "metadata": {},
     "output_type": "display_data"
    },
    {
     "output_type": "display_data",
     "data": {
      "text/html": [
       "<html>\n",
       "<head><meta charset=\"utf-8\" /></head>\n",
       "<body>\n",
       "    <div>            <script src=\"https://cdnjs.cloudflare.com/ajax/libs/mathjax/2.7.5/MathJax.js?config=TeX-AMS-MML_SVG\"></script><script type=\"text/javascript\">if (window.MathJax && window.MathJax.Hub && window.MathJax.Hub.Config) {window.MathJax.Hub.Config({SVG: {font: \"STIX-Web\"}});}</script>                <script type=\"text/javascript\">window.PlotlyConfig = {MathJaxConfig: 'local'};</script>\n",
       "        <script src=\"https://cdn.plot.ly/plotly-2.12.1.min.js\"></script>                <div id=\"cc8570fa-f9b0-4671-bec0-e541b55bcebf\" class=\"plotly-graph-div\" style=\"height:100%; width:100%;\"></div>            <script type=\"text/javascript\">                                    window.PLOTLYENV=window.PLOTLYENV || {};                                    if (document.getElementById(\"cc8570fa-f9b0-4671-bec0-e541b55bcebf\")) {                    Plotly.newPlot(                        \"cc8570fa-f9b0-4671-bec0-e541b55bcebf\",                        [{\"hovertemplate\":\"color=AB Select US Long/Short Portfolio<br>0=%{x}<br>1=%{y}<br>2=%{z}<extra></extra>\",\"legendgroup\":\"AB Select US Long/Short Portfolio\",\"marker\":{\"color\":\"#636efa\",\"symbol\":\"circle\"},\"mode\":\"markers\",\"name\":\"AB Select US Long/Short Portfolio\",\"scene\":\"scene\",\"showlegend\":true,\"x\":[-34.09853744506836],\"y\":[-20.090879440307617],\"z\":[81.94561004638672],\"type\":\"scatter3d\"},{\"hovertemplate\":\"color=AQR Long-Short Equity Fund<br>0=%{x}<br>1=%{y}<br>2=%{z}<extra></extra>\",\"legendgroup\":\"AQR Long-Short Equity Fund\",\"marker\":{\"color\":\"#EF553B\",\"symbol\":\"circle\"},\"mode\":\"markers\",\"name\":\"AQR Long-Short Equity Fund\",\"scene\":\"scene\",\"showlegend\":true,\"x\":[19.91655921936035],\"y\":[88.55510711669922],\"z\":[19.177946090698242],\"type\":\"scatter3d\"},{\"hovertemplate\":\"color=AXS Dynamic Opportunity Fund<br>0=%{x}<br>1=%{y}<br>2=%{z}<extra></extra>\",\"legendgroup\":\"AXS Dynamic Opportunity Fund\",\"marker\":{\"color\":\"#00cc96\",\"symbol\":\"circle\"},\"mode\":\"markers\",\"name\":\"AXS Dynamic Opportunity Fund\",\"scene\":\"scene\",\"showlegend\":true,\"x\":[-54.888885498046875],\"y\":[-26.13886070251465],\"z\":[6.124004364013672],\"type\":\"scatter3d\"},{\"hovertemplate\":\"color=Alger Dynamic Opportunities Fund<br>0=%{x}<br>1=%{y}<br>2=%{z}<extra></extra>\",\"legendgroup\":\"Alger Dynamic Opportunities Fund\",\"marker\":{\"color\":\"#ab63fa\",\"symbol\":\"circle\"},\"mode\":\"markers\",\"name\":\"Alger Dynamic Opportunities Fund\",\"scene\":\"scene\",\"showlegend\":true,\"x\":[84.25514221191406],\"y\":[41.32655715942383],\"z\":[30.631534576416016],\"type\":\"scatter3d\"},{\"hovertemplate\":\"color=Allspring Global Long/Short Equity Fund<br>0=%{x}<br>1=%{y}<br>2=%{z}<extra></extra>\",\"legendgroup\":\"Allspring Global Long/Short Equity Fund\",\"marker\":{\"color\":\"#FFA15A\",\"symbol\":\"circle\"},\"mode\":\"markers\",\"name\":\"Allspring Global Long/Short Equity Fund\",\"scene\":\"scene\",\"showlegend\":true,\"x\":[-3.5669097900390625],\"y\":[16.774023056030273],\"z\":[-36.7193603515625],\"type\":\"scatter3d\"},{\"hovertemplate\":\"color=Allspring U.S. Long/Short Equity Fund<br>0=%{x}<br>1=%{y}<br>2=%{z}<extra></extra>\",\"legendgroup\":\"Allspring U.S. Long/Short Equity Fund\",\"marker\":{\"color\":\"#19d3f3\",\"symbol\":\"circle\"},\"mode\":\"markers\",\"name\":\"Allspring U.S. Long/Short Equity Fund\",\"scene\":\"scene\",\"showlegend\":true,\"x\":[-17.607513427734375],\"y\":[47.272769927978516],\"z\":[51.30479431152344],\"type\":\"scatter3d\"},{\"hovertemplate\":\"color=AmericaFirst Defensive Growth Fund<br>0=%{x}<br>1=%{y}<br>2=%{z}<extra></extra>\",\"legendgroup\":\"AmericaFirst Defensive Growth Fund\",\"marker\":{\"color\":\"#FF6692\",\"symbol\":\"circle\"},\"mode\":\"markers\",\"name\":\"AmericaFirst Defensive Growth Fund\",\"scene\":\"scene\",\"showlegend\":true,\"x\":[3.5482921600341797],\"y\":[-48.5606575012207],\"z\":[2.5117557048797607],\"type\":\"scatter3d\"},{\"hovertemplate\":\"color=Anchor Risk Managed Equity Strategies Fd<br>0=%{x}<br>1=%{y}<br>2=%{z}<extra></extra>\",\"legendgroup\":\"Anchor Risk Managed Equity Strategies Fd\",\"marker\":{\"color\":\"#B6E880\",\"symbol\":\"circle\"},\"mode\":\"markers\",\"name\":\"Anchor Risk Managed Equity Strategies Fd\",\"scene\":\"scene\",\"showlegend\":true,\"x\":[-11.657228469848633],\"y\":[-21.377473831176758],\"z\":[62.61696243286133],\"type\":\"scatter3d\"},{\"hovertemplate\":\"color=Boston Partners Emerging Mkts Dyn Eq Fd<br>0=%{x}<br>1=%{y}<br>2=%{z}<extra></extra>\",\"legendgroup\":\"Boston Partners Emerging Mkts Dyn Eq Fd\",\"marker\":{\"color\":\"#FF97FF\",\"symbol\":\"circle\"},\"mode\":\"markers\",\"name\":\"Boston Partners Emerging Mkts Dyn Eq Fd\",\"scene\":\"scene\",\"showlegend\":true,\"x\":[34.448917388916016],\"y\":[-88.24665069580078],\"z\":[-40.02041244506836],\"type\":\"scatter3d\"},{\"hovertemplate\":\"color=Boston Partners Global Long/Short Fund<br>0=%{x}<br>1=%{y}<br>2=%{z}<extra></extra>\",\"legendgroup\":\"Boston Partners Global Long/Short Fund\",\"marker\":{\"color\":\"#FECB52\",\"symbol\":\"circle\"},\"mode\":\"markers\",\"name\":\"Boston Partners Global Long/Short Fund\",\"scene\":\"scene\",\"showlegend\":true,\"x\":[35.6088752746582],\"y\":[69.67926025390625],\"z\":[2.0150184631347656],\"type\":\"scatter3d\"},{\"hovertemplate\":\"color=Boston Partners Long/Short Equity Fund<br>0=%{x}<br>1=%{y}<br>2=%{z}<extra></extra>\",\"legendgroup\":\"Boston Partners Long/Short Equity Fund\",\"marker\":{\"color\":\"#636efa\",\"symbol\":\"circle\"},\"mode\":\"markers\",\"name\":\"Boston Partners Long/Short Equity Fund\",\"scene\":\"scene\",\"showlegend\":true,\"x\":[-25.260738372802734],\"y\":[84.18175506591797],\"z\":[26.16842269897461],\"type\":\"scatter3d\"},{\"hovertemplate\":\"color=Boston Partners Long/Short Research Fund<br>0=%{x}<br>1=%{y}<br>2=%{z}<extra></extra>\",\"legendgroup\":\"Boston Partners Long/Short Research Fund\",\"marker\":{\"color\":\"#EF553B\",\"symbol\":\"circle\"},\"mode\":\"markers\",\"name\":\"Boston Partners Long/Short Research Fund\",\"scene\":\"scene\",\"showlegend\":true,\"x\":[-32.140899658203125],\"y\":[103.90033721923828],\"z\":[-50.04460525512695],\"type\":\"scatter3d\"},{\"hovertemplate\":\"color=CRM Long/Short Opportunities Fund<br>0=%{x}<br>1=%{y}<br>2=%{z}<extra></extra>\",\"legendgroup\":\"CRM Long/Short Opportunities Fund\",\"marker\":{\"color\":\"#00cc96\",\"symbol\":\"circle\"},\"mode\":\"markers\",\"name\":\"CRM Long/Short Opportunities Fund\",\"scene\":\"scene\",\"showlegend\":true,\"x\":[22.95547103881836],\"y\":[-132.9195556640625],\"z\":[-13.024375915527344],\"type\":\"scatter3d\"},{\"hovertemplate\":\"color=Calamos Phineus Long/Short Fund<br>0=%{x}<br>1=%{y}<br>2=%{z}<extra></extra>\",\"legendgroup\":\"Calamos Phineus Long/Short Fund\",\"marker\":{\"color\":\"#ab63fa\",\"symbol\":\"circle\"},\"mode\":\"markers\",\"name\":\"Calamos Phineus Long/Short Fund\",\"scene\":\"scene\",\"showlegend\":true,\"x\":[38.371726989746094],\"y\":[58.46268844604492],\"z\":[50.30803680419922],\"type\":\"scatter3d\"},{\"hovertemplate\":\"color=Caldwell & Orkin - Gator Capital L/S Fd<br>0=%{x}<br>1=%{y}<br>2=%{z}<extra></extra>\",\"legendgroup\":\"Caldwell & Orkin - Gator Capital L/S Fd\",\"marker\":{\"color\":\"#FFA15A\",\"symbol\":\"circle\"},\"mode\":\"markers\",\"name\":\"Caldwell & Orkin - Gator Capital L/S Fd\",\"scene\":\"scene\",\"showlegend\":true,\"x\":[-4.807918548583984],\"y\":[67.65550994873047],\"z\":[90.8184585571289],\"type\":\"scatter3d\"},{\"hovertemplate\":\"color=Cambria Value and Momentum ETF<br>0=%{x}<br>1=%{y}<br>2=%{z}<extra></extra>\",\"legendgroup\":\"Cambria Value and Momentum ETF\",\"marker\":{\"color\":\"#19d3f3\",\"symbol\":\"circle\"},\"mode\":\"markers\",\"name\":\"Cambria Value and Momentum ETF\",\"scene\":\"scene\",\"showlegend\":true,\"x\":[10.686699867248535],\"y\":[69.18772888183594],\"z\":[47.41595458984375],\"type\":\"scatter3d\"},{\"hovertemplate\":\"color=Clough Global Long/Short Fund<br>0=%{x}<br>1=%{y}<br>2=%{z}<extra></extra>\",\"legendgroup\":\"Clough Global Long/Short Fund\",\"marker\":{\"color\":\"#FF6692\",\"symbol\":\"circle\"},\"mode\":\"markers\",\"name\":\"Clough Global Long/Short Fund\",\"scene\":\"scene\",\"showlegend\":true,\"x\":[15.881256103515625],\"y\":[16.912818908691406],\"z\":[-72.63870239257812],\"type\":\"scatter3d\"},{\"hovertemplate\":\"color=Counterpoint Tactical Equity Fund<br>0=%{x}<br>1=%{y}<br>2=%{z}<extra></extra>\",\"legendgroup\":\"Counterpoint Tactical Equity Fund\",\"marker\":{\"color\":\"#B6E880\",\"symbol\":\"circle\"},\"mode\":\"markers\",\"name\":\"Counterpoint Tactical Equity Fund\",\"scene\":\"scene\",\"showlegend\":true,\"x\":[-20.425973892211914],\"y\":[-78.5159912109375],\"z\":[-42.34016036987305],\"type\":\"scatter3d\"},{\"hovertemplate\":\"color=Cromwell Marketfield Long Short Fund<br>0=%{x}<br>1=%{y}<br>2=%{z}<extra></extra>\",\"legendgroup\":\"Cromwell Marketfield Long Short Fund\",\"marker\":{\"color\":\"#FF97FF\",\"symbol\":\"circle\"},\"mode\":\"markers\",\"name\":\"Cromwell Marketfield Long Short Fund\",\"scene\":\"scene\",\"showlegend\":true,\"x\":[-26.845121383666992],\"y\":[104.92635345458984],\"z\":[-72.20292663574219],\"type\":\"scatter3d\"},{\"hovertemplate\":\"color=Diamond Hill Long-Short Fund<br>0=%{x}<br>1=%{y}<br>2=%{z}<extra></extra>\",\"legendgroup\":\"Diamond Hill Long-Short Fund\",\"marker\":{\"color\":\"#FECB52\",\"symbol\":\"circle\"},\"mode\":\"markers\",\"name\":\"Diamond Hill Long-Short Fund\",\"scene\":\"scene\",\"showlegend\":true,\"x\":[-6.8675079345703125],\"y\":[102.02469635009766],\"z\":[-40.19087219238281],\"type\":\"scatter3d\"},{\"hovertemplate\":\"color=Federated Hermes MDT Market Neutral<br>0=%{x}<br>1=%{y}<br>2=%{z}<extra></extra>\",\"legendgroup\":\"Federated Hermes MDT Market Neutral\",\"marker\":{\"color\":\"#636efa\",\"symbol\":\"circle\"},\"mode\":\"markers\",\"name\":\"Federated Hermes MDT Market Neutral\",\"scene\":\"scene\",\"showlegend\":true,\"x\":[69.13706970214844],\"y\":[70.3749008178711],\"z\":[-18.937297821044922],\"type\":\"scatter3d\"},{\"hovertemplate\":\"color=Fintrust Income and Opportunity Fund<br>0=%{x}<br>1=%{y}<br>2=%{z}<extra></extra>\",\"legendgroup\":\"Fintrust Income and Opportunity Fund\",\"marker\":{\"color\":\"#EF553B\",\"symbol\":\"circle\"},\"mode\":\"markers\",\"name\":\"Fintrust Income and Opportunity Fund\",\"scene\":\"scene\",\"showlegend\":true,\"x\":[36.729103088378906],\"y\":[-47.618309020996094],\"z\":[-16.797819137573242],\"type\":\"scatter3d\"},{\"hovertemplate\":\"color=First Trust Long/Short Equity ETF<br>0=%{x}<br>1=%{y}<br>2=%{z}<extra></extra>\",\"legendgroup\":\"First Trust Long/Short Equity ETF\",\"marker\":{\"color\":\"#00cc96\",\"symbol\":\"circle\"},\"mode\":\"markers\",\"name\":\"First Trust Long/Short Equity ETF\",\"scene\":\"scene\",\"showlegend\":true,\"x\":[-32.68672180175781],\"y\":[19.84703254699707],\"z\":[64.28612518310547],\"type\":\"scatter3d\"},{\"hovertemplate\":\"color=Forester Value Fund<br>0=%{x}<br>1=%{y}<br>2=%{z}<extra></extra>\",\"legendgroup\":\"Forester Value Fund\",\"marker\":{\"color\":\"#ab63fa\",\"symbol\":\"circle\"},\"mode\":\"markers\",\"name\":\"Forester Value Fund\",\"scene\":\"scene\",\"showlegend\":true,\"x\":[-112.1036148071289],\"y\":[-46.12239074707031],\"z\":[-14.336556434631348],\"type\":\"scatter3d\"},{\"hovertemplate\":\"color=Gotham Defensive Long 500 Fund<br>0=%{x}<br>1=%{y}<br>2=%{z}<extra></extra>\",\"legendgroup\":\"Gotham Defensive Long 500 Fund\",\"marker\":{\"color\":\"#FFA15A\",\"symbol\":\"circle\"},\"mode\":\"markers\",\"name\":\"Gotham Defensive Long 500 Fund\",\"scene\":\"scene\",\"showlegend\":true,\"x\":[54.992950439453125],\"y\":[-31.625900268554688],\"z\":[-32.107147216796875],\"type\":\"scatter3d\"},{\"hovertemplate\":\"color=Gotham Hedged Core Fund<br>0=%{x}<br>1=%{y}<br>2=%{z}<extra></extra>\",\"legendgroup\":\"Gotham Hedged Core Fund\",\"marker\":{\"color\":\"#19d3f3\",\"symbol\":\"circle\"},\"mode\":\"markers\",\"name\":\"Gotham Hedged Core Fund\",\"scene\":\"scene\",\"showlegend\":true,\"x\":[82.73966979980469],\"y\":[-8.284948348999023],\"z\":[-1.6337246894836426],\"type\":\"scatter3d\"},{\"hovertemplate\":\"color=Gotham Hedged Plus Fund<br>0=%{x}<br>1=%{y}<br>2=%{z}<extra></extra>\",\"legendgroup\":\"Gotham Hedged Plus Fund\",\"marker\":{\"color\":\"#FF6692\",\"symbol\":\"circle\"},\"mode\":\"markers\",\"name\":\"Gotham Hedged Plus Fund\",\"scene\":\"scene\",\"showlegend\":true,\"x\":[36.836673736572266],\"y\":[-28.91754722595215],\"z\":[-49.161773681640625],\"type\":\"scatter3d\"},{\"hovertemplate\":\"color=Gotham Total Return Fund<br>0=%{x}<br>1=%{y}<br>2=%{z}<extra></extra>\",\"legendgroup\":\"Gotham Total Return Fund\",\"marker\":{\"color\":\"#B6E880\",\"symbol\":\"circle\"},\"mode\":\"markers\",\"name\":\"Gotham Total Return Fund\",\"scene\":\"scene\",\"showlegend\":true,\"x\":[96.77869415283203],\"y\":[-18.325273513793945],\"z\":[46.00739288330078],\"type\":\"scatter3d\"},{\"hovertemplate\":\"color=Guggenheim Alpha Opportunity Fund<br>0=%{x}<br>1=%{y}<br>2=%{z}<extra></extra>\",\"legendgroup\":\"Guggenheim Alpha Opportunity Fund\",\"marker\":{\"color\":\"#FF97FF\",\"symbol\":\"circle\"},\"mode\":\"markers\",\"name\":\"Guggenheim Alpha Opportunity Fund\",\"scene\":\"scene\",\"showlegend\":true,\"x\":[-27.67796516418457],\"y\":[45.67409896850586],\"z\":[-21.313335418701172],\"type\":\"scatter3d\"},{\"hovertemplate\":\"color=Guggenheim Long Short Equity Fund<br>0=%{x}<br>1=%{y}<br>2=%{z}<extra></extra>\",\"legendgroup\":\"Guggenheim Long Short Equity Fund\",\"marker\":{\"color\":\"#FECB52\",\"symbol\":\"circle\"},\"mode\":\"markers\",\"name\":\"Guggenheim Long Short Equity Fund\",\"scene\":\"scene\",\"showlegend\":true,\"x\":[-35.111305236816406],\"y\":[43.886295318603516],\"z\":[-49.07419967651367],\"type\":\"scatter3d\"},{\"hovertemplate\":\"color=Hull Tactical US ETF<br>0=%{x}<br>1=%{y}<br>2=%{z}<extra></extra>\",\"legendgroup\":\"Hull Tactical US ETF\",\"marker\":{\"color\":\"#636efa\",\"symbol\":\"circle\"},\"mode\":\"markers\",\"name\":\"Hull Tactical US ETF\",\"scene\":\"scene\",\"showlegend\":true,\"x\":[50.59516143798828],\"y\":[-5.9222798347473145],\"z\":[69.96479034423828],\"type\":\"scatter3d\"},{\"hovertemplate\":\"color=Invesco S&P 500\\u00ae Downside Hedged ETF<br>0=%{x}<br>1=%{y}<br>2=%{z}<extra></extra>\",\"legendgroup\":\"Invesco S&P 500\\u00ae Downside Hedged ETF\",\"marker\":{\"color\":\"#EF553B\",\"symbol\":\"circle\"},\"mode\":\"markers\",\"name\":\"Invesco S&P 500\\u00ae Downside Hedged ETF\",\"scene\":\"scene\",\"showlegend\":true,\"x\":[-67.60066986083984],\"y\":[-70.03955078125],\"z\":[57.32633590698242],\"type\":\"scatter3d\"},{\"hovertemplate\":\"color=JHancock Seaport Long/Short Fund<br>0=%{x}<br>1=%{y}<br>2=%{z}<extra></extra>\",\"legendgroup\":\"JHancock Seaport Long/Short Fund\",\"marker\":{\"color\":\"#00cc96\",\"symbol\":\"circle\"},\"mode\":\"markers\",\"name\":\"JHancock Seaport Long/Short Fund\",\"scene\":\"scene\",\"showlegend\":true,\"x\":[-77.33380889892578],\"y\":[-9.438758850097656],\"z\":[-25.93092918395996],\"type\":\"scatter3d\"},{\"hovertemplate\":\"color=JPMorgan Opportunistic Equity L/S Fd<br>0=%{x}<br>1=%{y}<br>2=%{z}<extra></extra>\",\"legendgroup\":\"JPMorgan Opportunistic Equity L/S Fd\",\"marker\":{\"color\":\"#ab63fa\",\"symbol\":\"circle\"},\"mode\":\"markers\",\"name\":\"JPMorgan Opportunistic Equity L/S Fd\",\"scene\":\"scene\",\"showlegend\":true,\"x\":[-17.051380157470703],\"y\":[-12.424455642700195],\"z\":[-10.838565826416016],\"type\":\"scatter3d\"},{\"hovertemplate\":\"color=LS Opportunity Fund Institutional Class<br>0=%{x}<br>1=%{y}<br>2=%{z}<extra></extra>\",\"legendgroup\":\"LS Opportunity Fund Institutional Class\",\"marker\":{\"color\":\"#FFA15A\",\"symbol\":\"circle\"},\"mode\":\"markers\",\"name\":\"LS Opportunity Fund Institutional Class\",\"scene\":\"scene\",\"showlegend\":true,\"x\":[-38.34685516357422],\"y\":[20.75410270690918],\"z\":[41.28221130371094],\"type\":\"scatter3d\"},{\"hovertemplate\":\"color=LoCorr Dynamic Opportunity Fund<br>0=%{x}<br>1=%{y}<br>2=%{z}<extra></extra>\",\"legendgroup\":\"LoCorr Dynamic Opportunity Fund\",\"marker\":{\"color\":\"#19d3f3\",\"symbol\":\"circle\"},\"mode\":\"markers\",\"name\":\"LoCorr Dynamic Opportunity Fund\",\"scene\":\"scene\",\"showlegend\":true,\"x\":[-17.63319969177246],\"y\":[-41.478370666503906],\"z\":[-30.5981388092041],\"type\":\"scatter3d\"},{\"hovertemplate\":\"color=Longboard Fund<br>0=%{x}<br>1=%{y}<br>2=%{z}<extra></extra>\",\"legendgroup\":\"Longboard Fund\",\"marker\":{\"color\":\"#FF6692\",\"symbol\":\"circle\"},\"mode\":\"markers\",\"name\":\"Longboard Fund\",\"scene\":\"scene\",\"showlegend\":true,\"x\":[65.2475814819336],\"y\":[8.094773292541504],\"z\":[-11.911255836486816],\"type\":\"scatter3d\"},{\"hovertemplate\":\"color=MFS Managed Wealth Fund<br>0=%{x}<br>1=%{y}<br>2=%{z}<extra></extra>\",\"legendgroup\":\"MFS Managed Wealth Fund\",\"marker\":{\"color\":\"#B6E880\",\"symbol\":\"circle\"},\"mode\":\"markers\",\"name\":\"MFS Managed Wealth Fund\",\"scene\":\"scene\",\"showlegend\":true,\"x\":[-127.83805084228516],\"y\":[15.054479598999023],\"z\":[-36.724449157714844],\"type\":\"scatter3d\"},{\"hovertemplate\":\"color=Meeder Spectrum Fund<br>0=%{x}<br>1=%{y}<br>2=%{z}<extra></extra>\",\"legendgroup\":\"Meeder Spectrum Fund\",\"marker\":{\"color\":\"#FF97FF\",\"symbol\":\"circle\"},\"mode\":\"markers\",\"name\":\"Meeder Spectrum Fund\",\"scene\":\"scene\",\"showlegend\":true,\"x\":[9.655542373657227],\"y\":[4.13112735748291],\"z\":[-9.89626407623291],\"type\":\"scatter3d\"},{\"hovertemplate\":\"color=Multi-Manager Directional Alt Strat Fd<br>0=%{x}<br>1=%{y}<br>2=%{z}<extra></extra>\",\"legendgroup\":\"Multi-Manager Directional Alt Strat Fd\",\"marker\":{\"color\":\"#FECB52\",\"symbol\":\"circle\"},\"mode\":\"markers\",\"name\":\"Multi-Manager Directional Alt Strat Fd\",\"scene\":\"scene\",\"showlegend\":true,\"x\":[2.438620090484619],\"y\":[-95.69871520996094],\"z\":[-24.183151245117188],\"type\":\"scatter3d\"},{\"hovertemplate\":\"color=Navigator Equity Hedged Fund<br>0=%{x}<br>1=%{y}<br>2=%{z}<extra></extra>\",\"legendgroup\":\"Navigator Equity Hedged Fund\",\"marker\":{\"color\":\"#636efa\",\"symbol\":\"circle\"},\"mode\":\"markers\",\"name\":\"Navigator Equity Hedged Fund\",\"scene\":\"scene\",\"showlegend\":true,\"x\":[28.969072341918945],\"y\":[4.517697811126709],\"z\":[12.952515602111816],\"type\":\"scatter3d\"},{\"hovertemplate\":\"color=Neuberger Berman Long Short Fund<br>0=%{x}<br>1=%{y}<br>2=%{z}<extra></extra>\",\"legendgroup\":\"Neuberger Berman Long Short Fund\",\"marker\":{\"color\":\"#EF553B\",\"symbol\":\"circle\"},\"mode\":\"markers\",\"name\":\"Neuberger Berman Long Short Fund\",\"scene\":\"scene\",\"showlegend\":true,\"x\":[31.833948135375977],\"y\":[113.44624328613281],\"z\":[-43.21232986450195],\"type\":\"scatter3d\"},{\"hovertemplate\":\"color=NexPoint Event Driven Fund<br>0=%{x}<br>1=%{y}<br>2=%{z}<extra></extra>\",\"legendgroup\":\"NexPoint Event Driven Fund\",\"marker\":{\"color\":\"#00cc96\",\"symbol\":\"circle\"},\"mode\":\"markers\",\"name\":\"NexPoint Event Driven Fund\",\"scene\":\"scene\",\"showlegend\":true,\"x\":[-67.10553741455078],\"y\":[46.52739334106445],\"z\":[-5.770638942718506],\"type\":\"scatter3d\"},{\"hovertemplate\":\"color=Nuance Concentrated Value Lg-Shrt Fd<br>0=%{x}<br>1=%{y}<br>2=%{z}<extra></extra>\",\"legendgroup\":\"Nuance Concentrated Value Lg-Shrt Fd\",\"marker\":{\"color\":\"#ab63fa\",\"symbol\":\"circle\"},\"mode\":\"markers\",\"name\":\"Nuance Concentrated Value Lg-Shrt Fd\",\"scene\":\"scene\",\"showlegend\":true,\"x\":[50.835411071777344],\"y\":[-86.93045806884766],\"z\":[-61.95426559448242],\"type\":\"scatter3d\"},{\"hovertemplate\":\"color=Nuveen Equity Long/Short Fund<br>0=%{x}<br>1=%{y}<br>2=%{z}<extra></extra>\",\"legendgroup\":\"Nuveen Equity Long/Short Fund\",\"marker\":{\"color\":\"#FFA15A\",\"symbol\":\"circle\"},\"mode\":\"markers\",\"name\":\"Nuveen Equity Long/Short Fund\",\"scene\":\"scene\",\"showlegend\":true,\"x\":[55.99681091308594],\"y\":[20.42542839050293],\"z\":[12.845589637756348],\"type\":\"scatter3d\"},{\"hovertemplate\":\"color=PIMCO RAE Worldwide Long/Short PLUS Fd<br>0=%{x}<br>1=%{y}<br>2=%{z}<extra></extra>\",\"legendgroup\":\"PIMCO RAE Worldwide Long/Short PLUS Fd\",\"marker\":{\"color\":\"#19d3f3\",\"symbol\":\"circle\"},\"mode\":\"markers\",\"name\":\"PIMCO RAE Worldwide Long/Short PLUS Fd\",\"scene\":\"scene\",\"showlegend\":true,\"x\":[9.209070205688477],\"y\":[-92.42462921142578],\"z\":[-0.5986093282699585],\"type\":\"scatter3d\"},{\"hovertemplate\":\"color=Persimmon Long/Short Fund<br>0=%{x}<br>1=%{y}<br>2=%{z}<extra></extra>\",\"legendgroup\":\"Persimmon Long/Short Fund\",\"marker\":{\"color\":\"#FF6692\",\"symbol\":\"circle\"},\"mode\":\"markers\",\"name\":\"Persimmon Long/Short Fund\",\"scene\":\"scene\",\"showlegend\":true,\"x\":[-2.6531331539154053],\"y\":[26.28416633605957],\"z\":[1.2377102375030518],\"type\":\"scatter3d\"},{\"hovertemplate\":\"color=RiverPark Long/Short Opportunity Fund<br>0=%{x}<br>1=%{y}<br>2=%{z}<extra></extra>\",\"legendgroup\":\"RiverPark Long/Short Opportunity Fund\",\"marker\":{\"color\":\"#B6E880\",\"symbol\":\"circle\"},\"mode\":\"markers\",\"name\":\"RiverPark Long/Short Opportunity Fund\",\"scene\":\"scene\",\"showlegend\":true,\"x\":[67.21179962158203],\"y\":[-63.61090087890625],\"z\":[4.200920104980469],\"type\":\"scatter3d\"},{\"hovertemplate\":\"color=Securian AM Equity Stabilization Fd<br>0=%{x}<br>1=%{y}<br>2=%{z}<extra></extra>\",\"legendgroup\":\"Securian AM Equity Stabilization Fd\",\"marker\":{\"color\":\"#FF97FF\",\"symbol\":\"circle\"},\"mode\":\"markers\",\"name\":\"Securian AM Equity Stabilization Fd\",\"scene\":\"scene\",\"showlegend\":true,\"x\":[21.571020126342773],\"y\":[18.883758544921875],\"z\":[-43.57505416870117],\"type\":\"scatter3d\"},{\"hovertemplate\":\"color=Toews Hedged Oceana Fd<br>0=%{x}<br>1=%{y}<br>2=%{z}<extra></extra>\",\"legendgroup\":\"Toews Hedged Oceana Fd\",\"marker\":{\"color\":\"#FECB52\",\"symbol\":\"circle\"},\"mode\":\"markers\",\"name\":\"Toews Hedged Oceana Fd\",\"scene\":\"scene\",\"showlegend\":true,\"x\":[-86.50492858886719],\"y\":[-3.858419895172119],\"z\":[9.886211395263672],\"type\":\"scatter3d\"},{\"hovertemplate\":\"color=Toews Hedged U.S. Fd<br>0=%{x}<br>1=%{y}<br>2=%{z}<extra></extra>\",\"legendgroup\":\"Toews Hedged U.S. Fd\",\"marker\":{\"color\":\"#636efa\",\"symbol\":\"circle\"},\"mode\":\"markers\",\"name\":\"Toews Hedged U.S. Fd\",\"scene\":\"scene\",\"showlegend\":true,\"x\":[-45.5565299987793],\"y\":[-57.311614990234375],\"z\":[42.762489318847656],\"type\":\"scatter3d\"},{\"hovertemplate\":\"color=Toews Hedged U.S. Opportunity Fd<br>0=%{x}<br>1=%{y}<br>2=%{z}<extra></extra>\",\"legendgroup\":\"Toews Hedged U.S. Opportunity Fd\",\"marker\":{\"color\":\"#EF553B\",\"symbol\":\"circle\"},\"mode\":\"markers\",\"name\":\"Toews Hedged U.S. Opportunity Fd\",\"scene\":\"scene\",\"showlegend\":true,\"x\":[-50.42154312133789],\"y\":[-49.57568359375],\"z\":[20.292734146118164],\"type\":\"scatter3d\"},{\"hovertemplate\":\"color=Toews Tactical Defensive Alpha Fund<br>0=%{x}<br>1=%{y}<br>2=%{z}<extra></extra>\",\"legendgroup\":\"Toews Tactical Defensive Alpha Fund\",\"marker\":{\"color\":\"#00cc96\",\"symbol\":\"circle\"},\"mode\":\"markers\",\"name\":\"Toews Tactical Defensive Alpha Fund\",\"scene\":\"scene\",\"showlegend\":true,\"x\":[44.12689971923828],\"y\":[-16.603116989135742],\"z\":[10.704809188842773],\"type\":\"scatter3d\"},{\"hovertemplate\":\"color=Waycross Long/Short Equity Fund<br>0=%{x}<br>1=%{y}<br>2=%{z}<extra></extra>\",\"legendgroup\":\"Waycross Long/Short Equity Fund\",\"marker\":{\"color\":\"#ab63fa\",\"symbol\":\"circle\"},\"mode\":\"markers\",\"name\":\"Waycross Long/Short Equity Fund\",\"scene\":\"scene\",\"showlegend\":true,\"x\":[-3.850285291671753],\"y\":[-3.078732967376709],\"z\":[40.811256408691406],\"type\":\"scatter3d\"},{\"hovertemplate\":\"color=Weitz Partners III Opportunity Fund<br>0=%{x}<br>1=%{y}<br>2=%{z}<extra></extra>\",\"legendgroup\":\"Weitz Partners III Opportunity Fund\",\"marker\":{\"color\":\"#FFA15A\",\"symbol\":\"circle\"},\"mode\":\"markers\",\"name\":\"Weitz Partners III Opportunity Fund\",\"scene\":\"scene\",\"showlegend\":true,\"x\":[51.45316696166992],\"y\":[-49.335750579833984],\"z\":[36.81018829345703],\"type\":\"scatter3d\"},{\"hovertemplate\":\"color=Westwood Broadmark Tactical Growth Fund<br>0=%{x}<br>1=%{y}<br>2=%{z}<extra></extra>\",\"legendgroup\":\"Westwood Broadmark Tactical Growth Fund\",\"marker\":{\"color\":\"#19d3f3\",\"symbol\":\"circle\"},\"mode\":\"markers\",\"name\":\"Westwood Broadmark Tactical Growth Fund\",\"scene\":\"scene\",\"showlegend\":true,\"x\":[-99.81845092773438],\"y\":[9.579904556274414],\"z\":[-25.263851165771484],\"type\":\"scatter3d\"},{\"hovertemplate\":\"color=Westwood Broadmark Tactical Plus Fund<br>0=%{x}<br>1=%{y}<br>2=%{z}<extra></extra>\",\"legendgroup\":\"Westwood Broadmark Tactical Plus Fund\",\"marker\":{\"color\":\"#FF6692\",\"symbol\":\"circle\"},\"mode\":\"markers\",\"name\":\"Westwood Broadmark Tactical Plus Fund\",\"scene\":\"scene\",\"showlegend\":true,\"x\":[-104.18081665039062],\"y\":[-11.838720321655273],\"z\":[-46.16804504394531],\"type\":\"scatter3d\"},{\"hovertemplate\":\"color=Wilmington Global Alpha Equities Fund<br>0=%{x}<br>1=%{y}<br>2=%{z}<extra></extra>\",\"legendgroup\":\"Wilmington Global Alpha Equities Fund\",\"marker\":{\"color\":\"#B6E880\",\"symbol\":\"circle\"},\"mode\":\"markers\",\"name\":\"Wilmington Global Alpha Equities Fund\",\"scene\":\"scene\",\"showlegend\":true,\"x\":[-99.04334259033203],\"y\":[-19.567739486694336],\"z\":[-15.214020729064941],\"type\":\"scatter3d\"}],                        {\"template\":{\"data\":{\"histogram2dcontour\":[{\"type\":\"histogram2dcontour\",\"colorbar\":{\"outlinewidth\":0,\"ticks\":\"\"},\"colorscale\":[[0.0,\"#0d0887\"],[0.1111111111111111,\"#46039f\"],[0.2222222222222222,\"#7201a8\"],[0.3333333333333333,\"#9c179e\"],[0.4444444444444444,\"#bd3786\"],[0.5555555555555556,\"#d8576b\"],[0.6666666666666666,\"#ed7953\"],[0.7777777777777778,\"#fb9f3a\"],[0.8888888888888888,\"#fdca26\"],[1.0,\"#f0f921\"]]}],\"choropleth\":[{\"type\":\"choropleth\",\"colorbar\":{\"outlinewidth\":0,\"ticks\":\"\"}}],\"histogram2d\":[{\"type\":\"histogram2d\",\"colorbar\":{\"outlinewidth\":0,\"ticks\":\"\"},\"colorscale\":[[0.0,\"#0d0887\"],[0.1111111111111111,\"#46039f\"],[0.2222222222222222,\"#7201a8\"],[0.3333333333333333,\"#9c179e\"],[0.4444444444444444,\"#bd3786\"],[0.5555555555555556,\"#d8576b\"],[0.6666666666666666,\"#ed7953\"],[0.7777777777777778,\"#fb9f3a\"],[0.8888888888888888,\"#fdca26\"],[1.0,\"#f0f921\"]]}],\"heatmap\":[{\"type\":\"heatmap\",\"colorbar\":{\"outlinewidth\":0,\"ticks\":\"\"},\"colorscale\":[[0.0,\"#0d0887\"],[0.1111111111111111,\"#46039f\"],[0.2222222222222222,\"#7201a8\"],[0.3333333333333333,\"#9c179e\"],[0.4444444444444444,\"#bd3786\"],[0.5555555555555556,\"#d8576b\"],[0.6666666666666666,\"#ed7953\"],[0.7777777777777778,\"#fb9f3a\"],[0.8888888888888888,\"#fdca26\"],[1.0,\"#f0f921\"]]}],\"heatmapgl\":[{\"type\":\"heatmapgl\",\"colorbar\":{\"outlinewidth\":0,\"ticks\":\"\"},\"colorscale\":[[0.0,\"#0d0887\"],[0.1111111111111111,\"#46039f\"],[0.2222222222222222,\"#7201a8\"],[0.3333333333333333,\"#9c179e\"],[0.4444444444444444,\"#bd3786\"],[0.5555555555555556,\"#d8576b\"],[0.6666666666666666,\"#ed7953\"],[0.7777777777777778,\"#fb9f3a\"],[0.8888888888888888,\"#fdca26\"],[1.0,\"#f0f921\"]]}],\"contourcarpet\":[{\"type\":\"contourcarpet\",\"colorbar\":{\"outlinewidth\":0,\"ticks\":\"\"}}],\"contour\":[{\"type\":\"contour\",\"colorbar\":{\"outlinewidth\":0,\"ticks\":\"\"},\"colorscale\":[[0.0,\"#0d0887\"],[0.1111111111111111,\"#46039f\"],[0.2222222222222222,\"#7201a8\"],[0.3333333333333333,\"#9c179e\"],[0.4444444444444444,\"#bd3786\"],[0.5555555555555556,\"#d8576b\"],[0.6666666666666666,\"#ed7953\"],[0.7777777777777778,\"#fb9f3a\"],[0.8888888888888888,\"#fdca26\"],[1.0,\"#f0f921\"]]}],\"surface\":[{\"type\":\"surface\",\"colorbar\":{\"outlinewidth\":0,\"ticks\":\"\"},\"colorscale\":[[0.0,\"#0d0887\"],[0.1111111111111111,\"#46039f\"],[0.2222222222222222,\"#7201a8\"],[0.3333333333333333,\"#9c179e\"],[0.4444444444444444,\"#bd3786\"],[0.5555555555555556,\"#d8576b\"],[0.6666666666666666,\"#ed7953\"],[0.7777777777777778,\"#fb9f3a\"],[0.8888888888888888,\"#fdca26\"],[1.0,\"#f0f921\"]]}],\"mesh3d\":[{\"type\":\"mesh3d\",\"colorbar\":{\"outlinewidth\":0,\"ticks\":\"\"}}],\"scatter\":[{\"fillpattern\":{\"fillmode\":\"overlay\",\"size\":10,\"solidity\":0.2},\"type\":\"scatter\"}],\"parcoords\":[{\"type\":\"parcoords\",\"line\":{\"colorbar\":{\"outlinewidth\":0,\"ticks\":\"\"}}}],\"scatterpolargl\":[{\"type\":\"scatterpolargl\",\"marker\":{\"colorbar\":{\"outlinewidth\":0,\"ticks\":\"\"}}}],\"bar\":[{\"error_x\":{\"color\":\"#2a3f5f\"},\"error_y\":{\"color\":\"#2a3f5f\"},\"marker\":{\"line\":{\"color\":\"#E5ECF6\",\"width\":0.5},\"pattern\":{\"fillmode\":\"overlay\",\"size\":10,\"solidity\":0.2}},\"type\":\"bar\"}],\"scattergeo\":[{\"type\":\"scattergeo\",\"marker\":{\"colorbar\":{\"outlinewidth\":0,\"ticks\":\"\"}}}],\"scatterpolar\":[{\"type\":\"scatterpolar\",\"marker\":{\"colorbar\":{\"outlinewidth\":0,\"ticks\":\"\"}}}],\"histogram\":[{\"marker\":{\"pattern\":{\"fillmode\":\"overlay\",\"size\":10,\"solidity\":0.2}},\"type\":\"histogram\"}],\"scattergl\":[{\"type\":\"scattergl\",\"marker\":{\"colorbar\":{\"outlinewidth\":0,\"ticks\":\"\"}}}],\"scatter3d\":[{\"type\":\"scatter3d\",\"line\":{\"colorbar\":{\"outlinewidth\":0,\"ticks\":\"\"}},\"marker\":{\"colorbar\":{\"outlinewidth\":0,\"ticks\":\"\"}}}],\"scattermapbox\":[{\"type\":\"scattermapbox\",\"marker\":{\"colorbar\":{\"outlinewidth\":0,\"ticks\":\"\"}}}],\"scatterternary\":[{\"type\":\"scatterternary\",\"marker\":{\"colorbar\":{\"outlinewidth\":0,\"ticks\":\"\"}}}],\"scattercarpet\":[{\"type\":\"scattercarpet\",\"marker\":{\"colorbar\":{\"outlinewidth\":0,\"ticks\":\"\"}}}],\"carpet\":[{\"aaxis\":{\"endlinecolor\":\"#2a3f5f\",\"gridcolor\":\"white\",\"linecolor\":\"white\",\"minorgridcolor\":\"white\",\"startlinecolor\":\"#2a3f5f\"},\"baxis\":{\"endlinecolor\":\"#2a3f5f\",\"gridcolor\":\"white\",\"linecolor\":\"white\",\"minorgridcolor\":\"white\",\"startlinecolor\":\"#2a3f5f\"},\"type\":\"carpet\"}],\"table\":[{\"cells\":{\"fill\":{\"color\":\"#EBF0F8\"},\"line\":{\"color\":\"white\"}},\"header\":{\"fill\":{\"color\":\"#C8D4E3\"},\"line\":{\"color\":\"white\"}},\"type\":\"table\"}],\"barpolar\":[{\"marker\":{\"line\":{\"color\":\"#E5ECF6\",\"width\":0.5},\"pattern\":{\"fillmode\":\"overlay\",\"size\":10,\"solidity\":0.2}},\"type\":\"barpolar\"}],\"pie\":[{\"automargin\":true,\"type\":\"pie\"}]},\"layout\":{\"autotypenumbers\":\"strict\",\"colorway\":[\"#636efa\",\"#EF553B\",\"#00cc96\",\"#ab63fa\",\"#FFA15A\",\"#19d3f3\",\"#FF6692\",\"#B6E880\",\"#FF97FF\",\"#FECB52\"],\"font\":{\"color\":\"#2a3f5f\"},\"hovermode\":\"closest\",\"hoverlabel\":{\"align\":\"left\"},\"paper_bgcolor\":\"white\",\"plot_bgcolor\":\"#E5ECF6\",\"polar\":{\"bgcolor\":\"#E5ECF6\",\"angularaxis\":{\"gridcolor\":\"white\",\"linecolor\":\"white\",\"ticks\":\"\"},\"radialaxis\":{\"gridcolor\":\"white\",\"linecolor\":\"white\",\"ticks\":\"\"}},\"ternary\":{\"bgcolor\":\"#E5ECF6\",\"aaxis\":{\"gridcolor\":\"white\",\"linecolor\":\"white\",\"ticks\":\"\"},\"baxis\":{\"gridcolor\":\"white\",\"linecolor\":\"white\",\"ticks\":\"\"},\"caxis\":{\"gridcolor\":\"white\",\"linecolor\":\"white\",\"ticks\":\"\"}},\"coloraxis\":{\"colorbar\":{\"outlinewidth\":0,\"ticks\":\"\"}},\"colorscale\":{\"sequential\":[[0.0,\"#0d0887\"],[0.1111111111111111,\"#46039f\"],[0.2222222222222222,\"#7201a8\"],[0.3333333333333333,\"#9c179e\"],[0.4444444444444444,\"#bd3786\"],[0.5555555555555556,\"#d8576b\"],[0.6666666666666666,\"#ed7953\"],[0.7777777777777778,\"#fb9f3a\"],[0.8888888888888888,\"#fdca26\"],[1.0,\"#f0f921\"]],\"sequentialminus\":[[0.0,\"#0d0887\"],[0.1111111111111111,\"#46039f\"],[0.2222222222222222,\"#7201a8\"],[0.3333333333333333,\"#9c179e\"],[0.4444444444444444,\"#bd3786\"],[0.5555555555555556,\"#d8576b\"],[0.6666666666666666,\"#ed7953\"],[0.7777777777777778,\"#fb9f3a\"],[0.8888888888888888,\"#fdca26\"],[1.0,\"#f0f921\"]],\"diverging\":[[0,\"#8e0152\"],[0.1,\"#c51b7d\"],[0.2,\"#de77ae\"],[0.3,\"#f1b6da\"],[0.4,\"#fde0ef\"],[0.5,\"#f7f7f7\"],[0.6,\"#e6f5d0\"],[0.7,\"#b8e186\"],[0.8,\"#7fbc41\"],[0.9,\"#4d9221\"],[1,\"#276419\"]]},\"xaxis\":{\"gridcolor\":\"white\",\"linecolor\":\"white\",\"ticks\":\"\",\"title\":{\"standoff\":15},\"zerolinecolor\":\"white\",\"automargin\":true,\"zerolinewidth\":2},\"yaxis\":{\"gridcolor\":\"white\",\"linecolor\":\"white\",\"ticks\":\"\",\"title\":{\"standoff\":15},\"zerolinecolor\":\"white\",\"automargin\":true,\"zerolinewidth\":2},\"scene\":{\"xaxis\":{\"backgroundcolor\":\"#E5ECF6\",\"gridcolor\":\"white\",\"linecolor\":\"white\",\"showbackground\":true,\"ticks\":\"\",\"zerolinecolor\":\"white\",\"gridwidth\":2},\"yaxis\":{\"backgroundcolor\":\"#E5ECF6\",\"gridcolor\":\"white\",\"linecolor\":\"white\",\"showbackground\":true,\"ticks\":\"\",\"zerolinecolor\":\"white\",\"gridwidth\":2},\"zaxis\":{\"backgroundcolor\":\"#E5ECF6\",\"gridcolor\":\"white\",\"linecolor\":\"white\",\"showbackground\":true,\"ticks\":\"\",\"zerolinecolor\":\"white\",\"gridwidth\":2}},\"shapedefaults\":{\"line\":{\"color\":\"#2a3f5f\"}},\"annotationdefaults\":{\"arrowcolor\":\"#2a3f5f\",\"arrowhead\":0,\"arrowwidth\":1},\"geo\":{\"bgcolor\":\"white\",\"landcolor\":\"#E5ECF6\",\"subunitcolor\":\"white\",\"showland\":true,\"showlakes\":true,\"lakecolor\":\"white\"},\"title\":{\"x\":0.05},\"mapbox\":{\"style\":\"light\"}}},\"scene\":{\"domain\":{\"x\":[0.0,1.0],\"y\":[0.0,1.0]},\"xaxis\":{\"title\":{\"text\":\"0\"}},\"yaxis\":{\"title\":{\"text\":\"1\"}},\"zaxis\":{\"title\":{\"text\":\"2\"}}},\"legend\":{\"title\":{\"text\":\"color\"},\"tracegroupgap\":0},\"margin\":{\"t\":60}},                        {\"responsive\": true}                    )                };                            </script>        </div>\n",
       "</body>\n",
       "</html>"
      ]
     },
     "metadata": {},
     "output_type": "display_data"
    }
   ],
   "source": [
    "tsne = TSNE(n_components=3, random_state=42, perplexity=6)\n",
    "projections = tsne.fit_transform(X_scale,)\n",
    "\n",
    "fig = px.scatter_3d(\n",
    "    projections,x=0,y=1,z=2,\n",
    "    color=df.Fund\n",
    ")\n",
    "fig.show()"
   ]
  },
  {
   "cell_type": "code",
   "execution_count": 0,
   "metadata": {
    "application/vnd.databricks.v1+cell": {
     "cellMetadata": {
      "byteLimit": 2048000,
      "rowLimit": 10000
     },
     "inputWidgets": {},
     "nuid": "baca21e0-e92a-4ec4-924c-eb19621ad862",
     "showTitle": false,
     "title": ""
    }
   },
   "outputs": [
    {
     "output_type": "display_data",
     "data": {
      "application/vnd.jupyter.widget-view+json": {
       "model_id": "5a02efdf835b4dea93f2497e79b4da07",
       "version_major": 2,
       "version_minor": 0
      },
      "text/plain": [
       "Uploading artifacts:   0%|          | 0/5 [00:00<?, ?it/s]"
      ]
     },
     "metadata": {},
     "output_type": "display_data"
    },
    {
     "output_type": "stream",
     "name": "stdout",
     "output_type": "stream",
     "text": [
      "Component 1: 30.47% of the variance\nComponent 2: 20.88% of the variance\nComponent 3: 13.67% of the variance\nComponent 4: 10.21% of the variance\nComponent 5: 7.25% of the variance\nComponent 6: 6.96% of the variance\nComponent 7: 2.78% of the variance\nComponent 8: 2.73% of the variance\nComponent 9: 2.28% of the variance\nComponent 10: 1.22% of the variance\nComponent 11: 1.08% of the variance\nComponent 12: 0.33% of the variance\nComponent 13: 0.14% of the variance\n"
     ]
    }
   ],
   "source": [
    "from sklearn.decomposition import PCA\n",
    "\n",
    "# Create PCA object\n",
    "pca = PCA()\n",
    "\n",
    "# Fit the PCA model on the scaled data\n",
    "pca.fit(X_scale)\n",
    "\n",
    "# Transform the data into the new coordinate system defined by the principal components\n",
    "X_pca = pca.transform(X_scale)\n",
    "\n",
    "# Get the explained variance ratio for each component\n",
    "explained_variance_ratio = pca.explained_variance_ratio_\n",
    "\n",
    "# Print out the saying of each component\n",
    "for i, ratio in enumerate(explained_variance_ratio):\n",
    "    print(f\"Component {i+1}: {ratio:.2%} of the variance\")"
   ]
  },
  {
   "cell_type": "code",
   "execution_count": 0,
   "metadata": {
    "application/vnd.databricks.v1+cell": {
     "cellMetadata": {
      "byteLimit": 2048000,
      "rowLimit": 10000
     },
     "inputWidgets": {},
     "nuid": "940d558a-7baf-4e50-9b20-c4a33ee8601e",
     "showTitle": false,
     "title": ""
    }
   },
   "outputs": [
    {
     "output_type": "display_data",
     "data": {
      "application/vnd.jupyter.widget-view+json": {
       "model_id": "071cb095628d4c94814aead6814c5d34",
       "version_major": 2,
       "version_minor": 0
      },
      "text/plain": [
       "Uploading artifacts:   0%|          | 0/5 [00:00<?, ?it/s]"
      ]
     },
     "metadata": {},
     "output_type": "display_data"
    }
   ],
   "source": [
    "pca = PCA(n_components=6)\n",
    "X_pca = pca.fit_transform(X_scale)"
   ]
  },
  {
   "cell_type": "markdown",
   "metadata": {
    "application/vnd.databricks.v1+cell": {
     "cellMetadata": {
      "byteLimit": 2048000,
      "rowLimit": 10000
     },
     "inputWidgets": {},
     "nuid": "30b2752d-88a6-4f72-8173-531fccbfa74d",
     "showTitle": false,
     "title": ""
    }
   },
   "source": [
    "### Agglomerative Clustering\n"
   ]
  },
  {
   "cell_type": "markdown",
   "metadata": {
    "application/vnd.databricks.v1+cell": {
     "cellMetadata": {
      "byteLimit": 2048000,
      "rowLimit": 10000
     },
     "inputWidgets": {},
     "nuid": "24f94d7b-9c9c-493a-bd16-5abde5999e63",
     "showTitle": false,
     "title": ""
    }
   },
   "source": [
    " - It doesn't require to specify the number of clusters in advance (although you can).\n",
    " - It's particularly adept at revealing hierarchical structures within the data, which could be insightful given the nature of financial products.\n",
    " - It can accommodate the mixed data types (continuous and binary variables) that come from feature engineering."
   ]
  },
  {
   "cell_type": "code",
   "execution_count": 0,
   "metadata": {
    "application/vnd.databricks.v1+cell": {
     "cellMetadata": {
      "byteLimit": 2048000,
      "rowLimit": 10000
     },
     "inputWidgets": {},
     "nuid": "8796651d-c7ae-48ee-84c9-b92a30a10dc3",
     "showTitle": false,
     "title": ""
    }
   },
   "outputs": [
    {
     "output_type": "display_data",
     "data": {
      "application/vnd.jupyter.widget-view+json": {
       "model_id": "6387321d15e44d29a515a1ed539f068a",
       "version_major": 2,
       "version_minor": 0
      },
      "text/plain": [
       "Uploading artifacts:   0%|          | 0/5 [00:00<?, ?it/s]"
      ]
     },
     "metadata": {},
     "output_type": "display_data"
    },
    {
     "output_type": "stream",
     "name": "stdout",
     "output_type": "stream",
     "text": [
      "For n_clusters = 2 The average silhouette_score is : 0.20580621076645658\n"
     ]
    },
    {
     "output_type": "display_data",
     "data": {
      "application/vnd.jupyter.widget-view+json": {
       "model_id": "fa99be91bdd04901b47bd8f35678eb21",
       "version_major": 2,
       "version_minor": 0
      },
      "text/plain": [
       "Uploading artifacts:   0%|          | 0/5 [00:00<?, ?it/s]"
      ]
     },
     "metadata": {},
     "output_type": "display_data"
    },
    {
     "output_type": "stream",
     "name": "stdout",
     "output_type": "stream",
     "text": [
      "For n_clusters = 3 The average silhouette_score is : 0.14865620338631827\n"
     ]
    },
    {
     "output_type": "display_data",
     "data": {
      "application/vnd.jupyter.widget-view+json": {
       "model_id": "115c38d143964dbd9ad43eb5de84e7b9",
       "version_major": 2,
       "version_minor": 0
      },
      "text/plain": [
       "Uploading artifacts:   0%|          | 0/5 [00:00<?, ?it/s]"
      ]
     },
     "metadata": {},
     "output_type": "display_data"
    },
    {
     "output_type": "stream",
     "name": "stdout",
     "output_type": "stream",
     "text": [
      "For n_clusters = 4 The average silhouette_score is : 0.17196718202812508\n"
     ]
    },
    {
     "output_type": "display_data",
     "data": {
      "application/vnd.jupyter.widget-view+json": {
       "model_id": "c18e549fc0344904a3bc990ae14669e7",
       "version_major": 2,
       "version_minor": 0
      },
      "text/plain": [
       "Uploading artifacts:   0%|          | 0/5 [00:00<?, ?it/s]"
      ]
     },
     "metadata": {},
     "output_type": "display_data"
    },
    {
     "output_type": "stream",
     "name": "stdout",
     "output_type": "stream",
     "text": [
      "For n_clusters = 5 The average silhouette_score is : 0.1823087154292241\n"
     ]
    },
    {
     "output_type": "display_data",
     "data": {
      "application/vnd.jupyter.widget-view+json": {
       "model_id": "36cecb3470b8447fa2481d26e3fc577d",
       "version_major": 2,
       "version_minor": 0
      },
      "text/plain": [
       "Uploading artifacts:   0%|          | 0/5 [00:00<?, ?it/s]"
      ]
     },
     "metadata": {},
     "output_type": "display_data"
    },
    {
     "output_type": "stream",
     "name": "stdout",
     "output_type": "stream",
     "text": [
      "For n_clusters = 6 The average silhouette_score is : 0.1880366365701289\n"
     ]
    },
    {
     "output_type": "display_data",
     "data": {
      "application/vnd.jupyter.widget-view+json": {
       "model_id": "5befd8986bfe44d097655d69c3f8864f",
       "version_major": 2,
       "version_minor": 0
      },
      "text/plain": [
       "Uploading artifacts:   0%|          | 0/5 [00:00<?, ?it/s]"
      ]
     },
     "metadata": {},
     "output_type": "display_data"
    },
    {
     "output_type": "stream",
     "name": "stdout",
     "output_type": "stream",
     "text": [
      "For n_clusters = 7 The average silhouette_score is : 0.20495449353883682\n"
     ]
    },
    {
     "output_type": "display_data",
     "data": {
      "application/vnd.jupyter.widget-view+json": {
       "model_id": "be469a6babe146f68ab9956a191439da",
       "version_major": 2,
       "version_minor": 0
      },
      "text/plain": [
       "Uploading artifacts:   0%|          | 0/5 [00:00<?, ?it/s]"
      ]
     },
     "metadata": {},
     "output_type": "display_data"
    },
    {
     "output_type": "stream",
     "name": "stdout",
     "output_type": "stream",
     "text": [
      "For n_clusters = 8 The average silhouette_score is : 0.19942917178051864\n"
     ]
    },
    {
     "output_type": "display_data",
     "data": {
      "application/vnd.jupyter.widget-view+json": {
       "model_id": "851e1ce8111842b3ad62b0dd170425a2",
       "version_major": 2,
       "version_minor": 0
      },
      "text/plain": [
       "Uploading artifacts:   0%|          | 0/5 [00:00<?, ?it/s]"
      ]
     },
     "metadata": {},
     "output_type": "display_data"
    },
    {
     "output_type": "stream",
     "name": "stdout",
     "output_type": "stream",
     "text": [
      "For n_clusters = 9 The average silhouette_score is : 0.20491719078088033\n"
     ]
    },
    {
     "output_type": "display_data",
     "data": {
      "application/vnd.jupyter.widget-view+json": {
       "model_id": "be88c5e3ca174baeb1437164e62ae8cb",
       "version_major": 2,
       "version_minor": 0
      },
      "text/plain": [
       "Uploading artifacts:   0%|          | 0/5 [00:00<?, ?it/s]"
      ]
     },
     "metadata": {},
     "output_type": "display_data"
    },
    {
     "output_type": "stream",
     "name": "stdout",
     "output_type": "stream",
     "text": [
      "For n_clusters = 10 The average silhouette_score is : 0.1776838867011109\n"
     ]
    },
    {
     "output_type": "display_data",
     "data": {
      "application/vnd.jupyter.widget-view+json": {
       "model_id": "bb63795a4d344816bf8c7df4a2bc550e",
       "version_major": 2,
       "version_minor": 0
      },
      "text/plain": [
       "Uploading artifacts:   0%|          | 0/5 [00:00<?, ?it/s]"
      ]
     },
     "metadata": {},
     "output_type": "display_data"
    },
    {
     "output_type": "stream",
     "name": "stdout",
     "output_type": "stream",
     "text": [
      "For n_clusters = 11 The average silhouette_score is : 0.19002362100374334\n"
     ]
    },
    {
     "output_type": "display_data",
     "data": {
      "application/vnd.jupyter.widget-view+json": {
       "model_id": "8e8c58ef8e704a80960930d8424171c5",
       "version_major": 2,
       "version_minor": 0
      },
      "text/plain": [
       "Uploading artifacts:   0%|          | 0/5 [00:00<?, ?it/s]"
      ]
     },
     "metadata": {},
     "output_type": "display_data"
    },
    {
     "output_type": "stream",
     "name": "stdout",
     "output_type": "stream",
     "text": [
      "For n_clusters = 12 The average silhouette_score is : 0.1921949221887902\n"
     ]
    },
    {
     "output_type": "display_data",
     "data": {
      "application/vnd.jupyter.widget-view+json": {
       "model_id": "18be38211f034213a7923f9110af7ace",
       "version_major": 2,
       "version_minor": 0
      },
      "text/plain": [
       "Uploading artifacts:   0%|          | 0/5 [00:00<?, ?it/s]"
      ]
     },
     "metadata": {},
     "output_type": "display_data"
    },
    {
     "output_type": "stream",
     "name": "stdout",
     "output_type": "stream",
     "text": [
      "For n_clusters = 13 The average silhouette_score is : 0.197347093689496\n"
     ]
    },
    {
     "output_type": "display_data",
     "data": {
      "application/vnd.jupyter.widget-view+json": {
       "model_id": "4bf2471d4d774cdabdfeaec07e514343",
       "version_major": 2,
       "version_minor": 0
      },
      "text/plain": [
       "Uploading artifacts:   0%|          | 0/5 [00:00<?, ?it/s]"
      ]
     },
     "metadata": {},
     "output_type": "display_data"
    },
    {
     "output_type": "stream",
     "name": "stdout",
     "output_type": "stream",
     "text": [
      "For n_clusters = 14 The average silhouette_score is : 0.1956848496837139\n"
     ]
    },
    {
     "output_type": "display_data",
     "data": {
      "application/vnd.jupyter.widget-view+json": {
       "model_id": "9b69db49059b41479d69964cea2ff3f4",
       "version_major": 2,
       "version_minor": 0
      },
      "text/plain": [
       "Uploading artifacts:   0%|          | 0/5 [00:00<?, ?it/s]"
      ]
     },
     "metadata": {},
     "output_type": "display_data"
    },
    {
     "output_type": "stream",
     "name": "stdout",
     "output_type": "stream",
     "text": [
      "For n_clusters = 15 The average silhouette_score is : 0.19204212840488202\n"
     ]
    },
    {
     "output_type": "display_data",
     "data": {
      "application/vnd.jupyter.widget-view+json": {
       "model_id": "479e770d57de4c57b253080af5099d29",
       "version_major": 2,
       "version_minor": 0
      },
      "text/plain": [
       "Uploading artifacts:   0%|          | 0/5 [00:00<?, ?it/s]"
      ]
     },
     "metadata": {},
     "output_type": "display_data"
    },
    {
     "output_type": "stream",
     "name": "stdout",
     "output_type": "stream",
     "text": [
      "For n_clusters = 16 The average silhouette_score is : 0.1965893608220972\n"
     ]
    },
    {
     "output_type": "display_data",
     "data": {
      "application/vnd.jupyter.widget-view+json": {
       "model_id": "14f4c790647e463db9858cc708a64012",
       "version_major": 2,
       "version_minor": 0
      },
      "text/plain": [
       "Uploading artifacts:   0%|          | 0/5 [00:00<?, ?it/s]"
      ]
     },
     "metadata": {},
     "output_type": "display_data"
    },
    {
     "output_type": "stream",
     "name": "stdout",
     "output_type": "stream",
     "text": [
      "For n_clusters = 17 The average silhouette_score is : 0.18671480931522055\n"
     ]
    },
    {
     "output_type": "display_data",
     "data": {
      "application/vnd.jupyter.widget-view+json": {
       "model_id": "76252cbf784e45c79ccdca29ade1ee0a",
       "version_major": 2,
       "version_minor": 0
      },
      "text/plain": [
       "Uploading artifacts:   0%|          | 0/5 [00:00<?, ?it/s]"
      ]
     },
     "metadata": {},
     "output_type": "display_data"
    },
    {
     "output_type": "stream",
     "name": "stdout",
     "output_type": "stream",
     "text": [
      "For n_clusters = 18 The average silhouette_score is : 0.18523265273154815\n"
     ]
    },
    {
     "output_type": "display_data",
     "data": {
      "application/vnd.jupyter.widget-view+json": {
       "model_id": "0bada8d0c1ac4e4ba311a949205ea109",
       "version_major": 2,
       "version_minor": 0
      },
      "text/plain": [
       "Uploading artifacts:   0%|          | 0/5 [00:00<?, ?it/s]"
      ]
     },
     "metadata": {},
     "output_type": "display_data"
    },
    {
     "output_type": "stream",
     "name": "stdout",
     "output_type": "stream",
     "text": [
      "For n_clusters = 19 The average silhouette_score is : 0.19129145248968893\n"
     ]
    },
    {
     "output_type": "display_data",
     "data": {
      "application/vnd.jupyter.widget-view+json": {
       "model_id": "81174975853444d2adad14b4c85ec573",
       "version_major": 2,
       "version_minor": 0
      },
      "text/plain": [
       "Uploading artifacts:   0%|          | 0/5 [00:00<?, ?it/s]"
      ]
     },
     "metadata": {},
     "output_type": "display_data"
    },
    {
     "output_type": "stream",
     "name": "stdout",
     "output_type": "stream",
     "text": [
      "For n_clusters = 20 The average silhouette_score is : 0.1857111056920654\n"
     ]
    },
    {
     "output_type": "display_data",
     "data": {
      "application/vnd.jupyter.widget-view+json": {
       "model_id": "76346e27544447e2a6b328dbb3b7e8ee",
       "version_major": 2,
       "version_minor": 0
      },
      "text/plain": [
       "Uploading artifacts:   0%|          | 0/5 [00:00<?, ?it/s]"
      ]
     },
     "metadata": {},
     "output_type": "display_data"
    },
    {
     "output_type": "stream",
     "name": "stdout",
     "output_type": "stream",
     "text": [
      "For n_clusters = 21 The average silhouette_score is : 0.18583377221229094\n"
     ]
    },
    {
     "output_type": "display_data",
     "data": {
      "application/vnd.jupyter.widget-view+json": {
       "model_id": "0b5ff1b1c1f8406c9e71ac6b0ef5b3d4",
       "version_major": 2,
       "version_minor": 0
      },
      "text/plain": [
       "Uploading artifacts:   0%|          | 0/5 [00:00<?, ?it/s]"
      ]
     },
     "metadata": {},
     "output_type": "display_data"
    },
    {
     "output_type": "stream",
     "name": "stdout",
     "output_type": "stream",
     "text": [
      "For n_clusters = 22 The average silhouette_score is : 0.19114525804246202\n"
     ]
    },
    {
     "output_type": "display_data",
     "data": {
      "application/vnd.jupyter.widget-view+json": {
       "model_id": "9e44ee3785f34ec68d69209c44322759",
       "version_major": 2,
       "version_minor": 0
      },
      "text/plain": [
       "Uploading artifacts:   0%|          | 0/5 [00:00<?, ?it/s]"
      ]
     },
     "metadata": {},
     "output_type": "display_data"
    },
    {
     "output_type": "stream",
     "name": "stdout",
     "output_type": "stream",
     "text": [
      "For n_clusters = 23 The average silhouette_score is : 0.18784863104275196\n"
     ]
    },
    {
     "output_type": "display_data",
     "data": {
      "application/vnd.jupyter.widget-view+json": {
       "model_id": "229427d194744d4b985fba2ee4b920fc",
       "version_major": 2,
       "version_minor": 0
      },
      "text/plain": [
       "Uploading artifacts:   0%|          | 0/5 [00:00<?, ?it/s]"
      ]
     },
     "metadata": {},
     "output_type": "display_data"
    },
    {
     "output_type": "stream",
     "name": "stdout",
     "output_type": "stream",
     "text": [
      "For n_clusters = 24 The average silhouette_score is : 0.18122050046913132\n"
     ]
    },
    {
     "output_type": "display_data",
     "data": {
      "application/vnd.jupyter.widget-view+json": {
       "model_id": "2b50b951852240c18a62665bbf2a6e63",
       "version_major": 2,
       "version_minor": 0
      },
      "text/plain": [
       "Uploading artifacts:   0%|          | 0/5 [00:00<?, ?it/s]"
      ]
     },
     "metadata": {},
     "output_type": "display_data"
    },
    {
     "output_type": "stream",
     "name": "stdout",
     "output_type": "stream",
     "text": [
      "For n_clusters = 25 The average silhouette_score is : 0.17326270640647543\n"
     ]
    },
    {
     "output_type": "display_data",
     "data": {
      "application/vnd.jupyter.widget-view+json": {
       "model_id": "9b0d3f8178a9442594f89da8f4fd90a5",
       "version_major": 2,
       "version_minor": 0
      },
      "text/plain": [
       "Uploading artifacts:   0%|          | 0/5 [00:00<?, ?it/s]"
      ]
     },
     "metadata": {},
     "output_type": "display_data"
    },
    {
     "output_type": "stream",
     "name": "stdout",
     "output_type": "stream",
     "text": [
      "For n_clusters = 26 The average silhouette_score is : 0.17287038421540898\n"
     ]
    },
    {
     "output_type": "display_data",
     "data": {
      "application/vnd.jupyter.widget-view+json": {
       "model_id": "0caf855e4bb74a6c95b9feb06832d1be",
       "version_major": 2,
       "version_minor": 0
      },
      "text/plain": [
       "Uploading artifacts:   0%|          | 0/5 [00:00<?, ?it/s]"
      ]
     },
     "metadata": {},
     "output_type": "display_data"
    },
    {
     "output_type": "stream",
     "name": "stdout",
     "output_type": "stream",
     "text": [
      "For n_clusters = 27 The average silhouette_score is : 0.17194207618303983\n"
     ]
    },
    {
     "output_type": "display_data",
     "data": {
      "application/vnd.jupyter.widget-view+json": {
       "model_id": "ad7a9ec56855482e85f6eef9d3f8a5ef",
       "version_major": 2,
       "version_minor": 0
      },
      "text/plain": [
       "Uploading artifacts:   0%|          | 0/5 [00:00<?, ?it/s]"
      ]
     },
     "metadata": {},
     "output_type": "display_data"
    },
    {
     "output_type": "stream",
     "name": "stdout",
     "output_type": "stream",
     "text": [
      "For n_clusters = 28 The average silhouette_score is : 0.16853991762750858\n"
     ]
    },
    {
     "output_type": "display_data",
     "data": {
      "application/vnd.jupyter.widget-view+json": {
       "model_id": "81cd8aa0f146440baa1f657966934c4b",
       "version_major": 2,
       "version_minor": 0
      },
      "text/plain": [
       "Uploading artifacts:   0%|          | 0/5 [00:00<?, ?it/s]"
      ]
     },
     "metadata": {},
     "output_type": "display_data"
    },
    {
     "output_type": "stream",
     "name": "stdout",
     "output_type": "stream",
     "text": [
      "For n_clusters = 29 The average silhouette_score is : 0.15918763517411327\n"
     ]
    },
    {
     "output_type": "display_data",
     "data": {
      "image/png": "[encoded data removed]",
      "text/plain": [
       "<Figure size 1000x600 with 1 Axes>"
      ]
     },
     "metadata": {},
     "output_type": "display_data"
    },
    {
     "output_type": "stream",
     "name": "stdout",
     "output_type": "stream",
     "text": [
      "The optimal number of clusters is: 2\n"
     ]
    }
   ],
   "source": [
    "from sklearn.metrics import silhouette_score\n",
    "from sklearn.cluster import AgglomerativeClustering\n",
    "import matplotlib.pyplot as plt\n",
    "\n",
    "\n",
    "silhouette_scores = []\n",
    "range_n_clusters = list(range(2, 30))  \n",
    "\n",
    "for n_clusters in range_n_clusters:\n",
    "    # Initialize the clusterer with n_clusters value and fit it\n",
    "    clusterer = AgglomerativeClustering(n_clusters=n_clusters)\n",
    "    cluster_labels = clusterer.fit_predict(X_pca)\n",
    "    silhouette_avg = silhouette_score(X_pca, cluster_labels)\n",
    "    silhouette_scores.append(silhouette_avg)\n",
    "    print(\"For n_clusters =\", n_clusters, \"The average silhouette_score is :\", silhouette_avg)\n",
    "\n",
    "# Plot the silhouette scores\n",
    "plt.figure(figsize=(10, 6))\n",
    "plt.plot(range_n_clusters, silhouette_scores, marker='o')\n",
    "plt.title('Silhouette scores for different numbers of clusters')\n",
    "plt.xlabel('Number of clusters')\n",
    "plt.ylabel('Silhouette score')\n",
    "plt.grid(True)\n",
    "plt.show()\n",
    "\n",
    "# The optimal cluster number is the one with the highest silhouette score\n",
    "optimal_n_clusters = range_n_clusters[silhouette_scores.index(max(silhouette_scores))]\n",
    "print(\"The optimal number of clusters is:\", optimal_n_clusters)\n"
   ]
  },
  {
   "cell_type": "code",
   "execution_count": 0,
   "metadata": {
    "application/vnd.databricks.v1+cell": {
     "cellMetadata": {
      "byteLimit": 2048000,
      "rowLimit": 10000
     },
     "inputWidgets": {},
     "nuid": "aee7fe6f-ab37-40d7-ab60-29a26b82cad6",
     "showTitle": false,
     "title": ""
    }
   },
   "outputs": [
    {
     "output_type": "display_data",
     "data": {
      "application/vnd.jupyter.widget-view+json": {
       "model_id": "147d93b398a647ee82750d521e636523",
       "version_major": 2,
       "version_minor": 0
      },
      "text/plain": [
       "Uploading artifacts:   0%|          | 0/5 [00:00<?, ?it/s]"
      ]
     },
     "metadata": {},
     "output_type": "display_data"
    },
    {
     "output_type": "display_data",
     "data": {
      "text/html": [
       "<html>\n",
       "<head><meta charset=\"utf-8\" /></head>\n",
       "<body>\n",
       "    <div>            <script src=\"https://cdnjs.cloudflare.com/ajax/libs/mathjax/2.7.5/MathJax.js?config=TeX-AMS-MML_SVG\"></script><script type=\"text/javascript\">if (window.MathJax && window.MathJax.Hub && window.MathJax.Hub.Config) {window.MathJax.Hub.Config({SVG: {font: \"STIX-Web\"}});}</script>                <script type=\"text/javascript\">window.PlotlyConfig = {MathJaxConfig: 'local'};</script>\n",
       "        <script src=\"https://cdn.plot.ly/plotly-2.12.1.min.js\"></script>                <div id=\"5ce0b76c-c39e-4bd6-b646-977615f5bd23\" class=\"plotly-graph-div\" style=\"height:100%; width:100%;\"></div>            <script type=\"text/javascript\">                                    window.PLOTLYENV=window.PLOTLYENV || {};                                    if (document.getElementById(\"5ce0b76c-c39e-4bd6-b646-977615f5bd23\")) {                    Plotly.newPlot(                        \"5ce0b76c-c39e-4bd6-b646-977615f5bd23\",                        [{\"hovertemplate\":\"x=%{x}<br>y=%{y}<br>z=%{z}<br>cluster=%{marker.color}<extra></extra>\",\"legendgroup\":\"\",\"marker\":{\"color\":[0,5,4,3,2,0,1,0,1,5,5,6,1,5,0,5,2,1,6,6,3,1,0,4,1,3,1,3,2,2,3,0,4,1,0,1,3,4,2,1,3,6,2,1,3,1,2,3,2,4,0,0,3,0,3,4,4,4],\"coloraxis\":\"coloraxis\",\"opacity\":0.7,\"symbol\":\"circle\"},\"mode\":\"markers\",\"name\":\"\",\"scene\":\"scene\",\"showlegend\":false,\"x\":[-34.09853744506836,19.91655921936035,-54.888885498046875,84.25514221191406,-3.5669097900390625,-17.607513427734375,3.5482921600341797,-11.657228469848633,34.448917388916016,35.6088752746582,-25.260738372802734,-32.140899658203125,22.95547103881836,38.371726989746094,-4.807918548583984,10.686699867248535,15.881256103515625,-20.425973892211914,-26.845121383666992,-6.8675079345703125,69.13706970214844,36.729103088378906,-32.68672180175781,-112.1036148071289,54.992950439453125,82.73966979980469,36.836673736572266,96.77869415283203,-27.67796516418457,-35.111305236816406,50.59516143798828,-67.60066986083984,-77.33380889892578,-17.051380157470703,-38.34685516357422,-17.63319969177246,65.2475814819336,-127.83805084228516,9.655542373657227,2.438620090484619,28.969072341918945,31.833948135375977,-67.10553741455078,50.835411071777344,55.99681091308594,9.209070205688477,-2.6531331539154053,67.21179962158203,21.571020126342773,-86.50492858886719,-45.5565299987793,-50.42154312133789,44.12689971923828,-3.850285291671753,51.45316696166992,-99.81845092773438,-104.18081665039062,-99.04334259033203],\"y\":[-20.090879440307617,88.55510711669922,-26.13886070251465,41.32655715942383,16.774023056030273,47.272769927978516,-48.5606575012207,-21.377473831176758,-88.24665069580078,69.67926025390625,84.18175506591797,103.90033721923828,-132.9195556640625,58.46268844604492,67.65550994873047,69.18772888183594,16.912818908691406,-78.5159912109375,104.92635345458984,102.02469635009766,70.3749008178711,-47.618309020996094,19.84703254699707,-46.12239074707031,-31.625900268554688,-8.284948348999023,-28.91754722595215,-18.325273513793945,45.67409896850586,43.886295318603516,-5.9222798347473145,-70.03955078125,-9.438758850097656,-12.424455642700195,20.75410270690918,-41.478370666503906,8.094773292541504,15.054479598999023,4.13112735748291,-95.69871520996094,4.517697811126709,113.44624328613281,46.52739334106445,-86.93045806884766,20.42542839050293,-92.42462921142578,26.28416633605957,-63.61090087890625,18.883758544921875,-3.858419895172119,-57.311614990234375,-49.57568359375,-16.603116989135742,-3.078732967376709,-49.335750579833984,9.579904556274414,-11.838720321655273,-19.567739486694336],\"z\":[81.94561004638672,19.177946090698242,6.124004364013672,30.631534576416016,-36.7193603515625,51.30479431152344,2.5117557048797607,62.61696243286133,-40.02041244506836,2.0150184631347656,26.16842269897461,-50.04460525512695,-13.024375915527344,50.30803680419922,90.8184585571289,47.41595458984375,-72.63870239257812,-42.34016036987305,-72.20292663574219,-40.19087219238281,-18.937297821044922,-16.797819137573242,64.28612518310547,-14.336556434631348,-32.107147216796875,-1.6337246894836426,-49.161773681640625,46.00739288330078,-21.313335418701172,-49.07419967651367,69.96479034423828,57.32633590698242,-25.93092918395996,-10.838565826416016,41.28221130371094,-30.5981388092041,-11.911255836486816,-36.724449157714844,-9.89626407623291,-24.183151245117188,12.952515602111816,-43.21232986450195,-5.770638942718506,-61.95426559448242,12.845589637756348,-0.5986093282699585,1.2377102375030518,4.200920104980469,-43.57505416870117,9.886211395263672,42.762489318847656,20.292734146118164,10.704809188842773,40.811256408691406,36.81018829345703,-25.263851165771484,-46.16804504394531,-15.214020729064941],\"type\":\"scatter3d\"}],                        {\"template\":{\"data\":{\"histogram2dcontour\":[{\"type\":\"histogram2dcontour\",\"colorbar\":{\"outlinewidth\":0,\"ticks\":\"\"},\"colorscale\":[[0.0,\"#0d0887\"],[0.1111111111111111,\"#46039f\"],[0.2222222222222222,\"#7201a8\"],[0.3333333333333333,\"#9c179e\"],[0.4444444444444444,\"#bd3786\"],[0.5555555555555556,\"#d8576b\"],[0.6666666666666666,\"#ed7953\"],[0.7777777777777778,\"#fb9f3a\"],[0.8888888888888888,\"#fdca26\"],[1.0,\"#f0f921\"]]}],\"choropleth\":[{\"type\":\"choropleth\",\"colorbar\":{\"outlinewidth\":0,\"ticks\":\"\"}}],\"histogram2d\":[{\"type\":\"histogram2d\",\"colorbar\":{\"outlinewidth\":0,\"ticks\":\"\"},\"colorscale\":[[0.0,\"#0d0887\"],[0.1111111111111111,\"#46039f\"],[0.2222222222222222,\"#7201a8\"],[0.3333333333333333,\"#9c179e\"],[0.4444444444444444,\"#bd3786\"],[0.5555555555555556,\"#d8576b\"],[0.6666666666666666,\"#ed7953\"],[0.7777777777777778,\"#fb9f3a\"],[0.8888888888888888,\"#fdca26\"],[1.0,\"#f0f921\"]]}],\"heatmap\":[{\"type\":\"heatmap\",\"colorbar\":{\"outlinewidth\":0,\"ticks\":\"\"},\"colorscale\":[[0.0,\"#0d0887\"],[0.1111111111111111,\"#46039f\"],[0.2222222222222222,\"#7201a8\"],[0.3333333333333333,\"#9c179e\"],[0.4444444444444444,\"#bd3786\"],[0.5555555555555556,\"#d8576b\"],[0.6666666666666666,\"#ed7953\"],[0.7777777777777778,\"#fb9f3a\"],[0.8888888888888888,\"#fdca26\"],[1.0,\"#f0f921\"]]}],\"heatmapgl\":[{\"type\":\"heatmapgl\",\"colorbar\":{\"outlinewidth\":0,\"ticks\":\"\"},\"colorscale\":[[0.0,\"#0d0887\"],[0.1111111111111111,\"#46039f\"],[0.2222222222222222,\"#7201a8\"],[0.3333333333333333,\"#9c179e\"],[0.4444444444444444,\"#bd3786\"],[0.5555555555555556,\"#d8576b\"],[0.6666666666666666,\"#ed7953\"],[0.7777777777777778,\"#fb9f3a\"],[0.8888888888888888,\"#fdca26\"],[1.0,\"#f0f921\"]]}],\"contourcarpet\":[{\"type\":\"contourcarpet\",\"colorbar\":{\"outlinewidth\":0,\"ticks\":\"\"}}],\"contour\":[{\"type\":\"contour\",\"colorbar\":{\"outlinewidth\":0,\"ticks\":\"\"},\"colorscale\":[[0.0,\"#0d0887\"],[0.1111111111111111,\"#46039f\"],[0.2222222222222222,\"#7201a8\"],[0.3333333333333333,\"#9c179e\"],[0.4444444444444444,\"#bd3786\"],[0.5555555555555556,\"#d8576b\"],[0.6666666666666666,\"#ed7953\"],[0.7777777777777778,\"#fb9f3a\"],[0.8888888888888888,\"#fdca26\"],[1.0,\"#f0f921\"]]}],\"surface\":[{\"type\":\"surface\",\"colorbar\":{\"outlinewidth\":0,\"ticks\":\"\"},\"colorscale\":[[0.0,\"#0d0887\"],[0.1111111111111111,\"#46039f\"],[0.2222222222222222,\"#7201a8\"],[0.3333333333333333,\"#9c179e\"],[0.4444444444444444,\"#bd3786\"],[0.5555555555555556,\"#d8576b\"],[0.6666666666666666,\"#ed7953\"],[0.7777777777777778,\"#fb9f3a\"],[0.8888888888888888,\"#fdca26\"],[1.0,\"#f0f921\"]]}],\"mesh3d\":[{\"type\":\"mesh3d\",\"colorbar\":{\"outlinewidth\":0,\"ticks\":\"\"}}],\"scatter\":[{\"fillpattern\":{\"fillmode\":\"overlay\",\"size\":10,\"solidity\":0.2},\"type\":\"scatter\"}],\"parcoords\":[{\"type\":\"parcoords\",\"line\":{\"colorbar\":{\"outlinewidth\":0,\"ticks\":\"\"}}}],\"scatterpolargl\":[{\"type\":\"scatterpolargl\",\"marker\":{\"colorbar\":{\"outlinewidth\":0,\"ticks\":\"\"}}}],\"bar\":[{\"error_x\":{\"color\":\"#2a3f5f\"},\"error_y\":{\"color\":\"#2a3f5f\"},\"marker\":{\"line\":{\"color\":\"#E5ECF6\",\"width\":0.5},\"pattern\":{\"fillmode\":\"overlay\",\"size\":10,\"solidity\":0.2}},\"type\":\"bar\"}],\"scattergeo\":[{\"type\":\"scattergeo\",\"marker\":{\"colorbar\":{\"outlinewidth\":0,\"ticks\":\"\"}}}],\"scatterpolar\":[{\"type\":\"scatterpolar\",\"marker\":{\"colorbar\":{\"outlinewidth\":0,\"ticks\":\"\"}}}],\"histogram\":[{\"marker\":{\"pattern\":{\"fillmode\":\"overlay\",\"size\":10,\"solidity\":0.2}},\"type\":\"histogram\"}],\"scattergl\":[{\"type\":\"scattergl\",\"marker\":{\"colorbar\":{\"outlinewidth\":0,\"ticks\":\"\"}}}],\"scatter3d\":[{\"type\":\"scatter3d\",\"line\":{\"colorbar\":{\"outlinewidth\":0,\"ticks\":\"\"}},\"marker\":{\"colorbar\":{\"outlinewidth\":0,\"ticks\":\"\"}}}],\"scattermapbox\":[{\"type\":\"scattermapbox\",\"marker\":{\"colorbar\":{\"outlinewidth\":0,\"ticks\":\"\"}}}],\"scatterternary\":[{\"type\":\"scatterternary\",\"marker\":{\"colorbar\":{\"outlinewidth\":0,\"ticks\":\"\"}}}],\"scattercarpet\":[{\"type\":\"scattercarpet\",\"marker\":{\"colorbar\":{\"outlinewidth\":0,\"ticks\":\"\"}}}],\"carpet\":[{\"aaxis\":{\"endlinecolor\":\"#2a3f5f\",\"gridcolor\":\"white\",\"linecolor\":\"white\",\"minorgridcolor\":\"white\",\"startlinecolor\":\"#2a3f5f\"},\"baxis\":{\"endlinecolor\":\"#2a3f5f\",\"gridcolor\":\"white\",\"linecolor\":\"white\",\"minorgridcolor\":\"white\",\"startlinecolor\":\"#2a3f5f\"},\"type\":\"carpet\"}],\"table\":[{\"cells\":{\"fill\":{\"color\":\"#EBF0F8\"},\"line\":{\"color\":\"white\"}},\"header\":{\"fill\":{\"color\":\"#C8D4E3\"},\"line\":{\"color\":\"white\"}},\"type\":\"table\"}],\"barpolar\":[{\"marker\":{\"line\":{\"color\":\"#E5ECF6\",\"width\":0.5},\"pattern\":{\"fillmode\":\"overlay\",\"size\":10,\"solidity\":0.2}},\"type\":\"barpolar\"}],\"pie\":[{\"automargin\":true,\"type\":\"pie\"}]},\"layout\":{\"autotypenumbers\":\"strict\",\"colorway\":[\"#636efa\",\"#EF553B\",\"#00cc96\",\"#ab63fa\",\"#FFA15A\",\"#19d3f3\",\"#FF6692\",\"#B6E880\",\"#FF97FF\",\"#FECB52\"],\"font\":{\"color\":\"#2a3f5f\"},\"hovermode\":\"closest\",\"hoverlabel\":{\"align\":\"left\"},\"paper_bgcolor\":\"white\",\"plot_bgcolor\":\"#E5ECF6\",\"polar\":{\"bgcolor\":\"#E5ECF6\",\"angularaxis\":{\"gridcolor\":\"white\",\"linecolor\":\"white\",\"ticks\":\"\"},\"radialaxis\":{\"gridcolor\":\"white\",\"linecolor\":\"white\",\"ticks\":\"\"}},\"ternary\":{\"bgcolor\":\"#E5ECF6\",\"aaxis\":{\"gridcolor\":\"white\",\"linecolor\":\"white\",\"ticks\":\"\"},\"baxis\":{\"gridcolor\":\"white\",\"linecolor\":\"white\",\"ticks\":\"\"},\"caxis\":{\"gridcolor\":\"white\",\"linecolor\":\"white\",\"ticks\":\"\"}},\"coloraxis\":{\"colorbar\":{\"outlinewidth\":0,\"ticks\":\"\"}},\"colorscale\":{\"sequential\":[[0.0,\"#0d0887\"],[0.1111111111111111,\"#46039f\"],[0.2222222222222222,\"#7201a8\"],[0.3333333333333333,\"#9c179e\"],[0.4444444444444444,\"#bd3786\"],[0.5555555555555556,\"#d8576b\"],[0.6666666666666666,\"#ed7953\"],[0.7777777777777778,\"#fb9f3a\"],[0.8888888888888888,\"#fdca26\"],[1.0,\"#f0f921\"]],\"sequentialminus\":[[0.0,\"#0d0887\"],[0.1111111111111111,\"#46039f\"],[0.2222222222222222,\"#7201a8\"],[0.3333333333333333,\"#9c179e\"],[0.4444444444444444,\"#bd3786\"],[0.5555555555555556,\"#d8576b\"],[0.6666666666666666,\"#ed7953\"],[0.7777777777777778,\"#fb9f3a\"],[0.8888888888888888,\"#fdca26\"],[1.0,\"#f0f921\"]],\"diverging\":[[0,\"#8e0152\"],[0.1,\"#c51b7d\"],[0.2,\"#de77ae\"],[0.3,\"#f1b6da\"],[0.4,\"#fde0ef\"],[0.5,\"#f7f7f7\"],[0.6,\"#e6f5d0\"],[0.7,\"#b8e186\"],[0.8,\"#7fbc41\"],[0.9,\"#4d9221\"],[1,\"#276419\"]]},\"xaxis\":{\"gridcolor\":\"white\",\"linecolor\":\"white\",\"ticks\":\"\",\"title\":{\"standoff\":15},\"zerolinecolor\":\"white\",\"automargin\":true,\"zerolinewidth\":2},\"yaxis\":{\"gridcolor\":\"white\",\"linecolor\":\"white\",\"ticks\":\"\",\"title\":{\"standoff\":15},\"zerolinecolor\":\"white\",\"automargin\":true,\"zerolinewidth\":2},\"scene\":{\"xaxis\":{\"backgroundcolor\":\"#E5ECF6\",\"gridcolor\":\"white\",\"linecolor\":\"white\",\"showbackground\":true,\"ticks\":\"\",\"zerolinecolor\":\"white\",\"gridwidth\":2},\"yaxis\":{\"backgroundcolor\":\"#E5ECF6\",\"gridcolor\":\"white\",\"linecolor\":\"white\",\"showbackground\":true,\"ticks\":\"\",\"zerolinecolor\":\"white\",\"gridwidth\":2},\"zaxis\":{\"backgroundcolor\":\"#E5ECF6\",\"gridcolor\":\"white\",\"linecolor\":\"white\",\"showbackground\":true,\"ticks\":\"\",\"zerolinecolor\":\"white\",\"gridwidth\":2}},\"shapedefaults\":{\"line\":{\"color\":\"#2a3f5f\"}},\"annotationdefaults\":{\"arrowcolor\":\"#2a3f5f\",\"arrowhead\":0,\"arrowwidth\":1},\"geo\":{\"bgcolor\":\"white\",\"landcolor\":\"#E5ECF6\",\"subunitcolor\":\"white\",\"showland\":true,\"showlakes\":true,\"lakecolor\":\"white\"},\"title\":{\"x\":0.05},\"mapbox\":{\"style\":\"light\"}}},\"scene\":{\"domain\":{\"x\":[0.0,1.0],\"y\":[0.0,1.0]},\"xaxis\":{\"title\":{\"text\":\"x\"}},\"yaxis\":{\"title\":{\"text\":\"y\"}},\"zaxis\":{\"title\":{\"text\":\"z\"}}},\"coloraxis\":{\"colorbar\":{\"title\":{\"text\":\"cluster\"}},\"colorscale\":[[0.0,\"rgb(228,26,28)\"],[0.125,\"rgb(55,126,184)\"],[0.25,\"rgb(77,175,74)\"],[0.375,\"rgb(152,78,163)\"],[0.5,\"rgb(255,127,0)\"],[0.625,\"rgb(255,255,51)\"],[0.75,\"rgb(166,86,40)\"],[0.875,\"rgb(247,129,191)\"],[1.0,\"rgb(153,153,153)\"]]},\"legend\":{\"tracegroupgap\":0},\"margin\":{\"t\":60}},                        {\"responsive\": true}                    )                };                            </script>        </div>\n",
       "</body>\n",
       "</html>"
      ]
     },
     "metadata": {},
     "output_type": "display_data"
    }
   ],
   "source": [
    "from sklearn.cluster import AgglomerativeClustering\n",
    "import plotly.express as px\n",
    "\n",
    "n_clusters = 7\n",
    "# Perform Agglomerative Clustering on t-SNE projections\n",
    "agg_clustering = AgglomerativeClustering(n_clusters=n_clusters)\n",
    "agg_clusters = agg_clustering.fit_predict(projections)\n",
    "\n",
    "# Convert projections and cluster labels into a DataFrame for visualization\n",
    "import pandas as pd\n",
    "df_clusters = pd.DataFrame(projections, columns=['x', 'y', 'z'])\n",
    "df_clusters['cluster'] = agg_clusters\n",
    "\n",
    "fig = px.scatter_3d(df_clusters, x='x', y='y', z='z',\n",
    "                    color='cluster',\n",
    "                    color_continuous_scale=px.colors.qualitative.Set1,\n",
    "                    opacity=0.7)  # Adjust opacity as needed\n",
    "fig.show()"
   ]
  },
  {
   "cell_type": "code",
   "execution_count": 0,
   "metadata": {
    "application/vnd.databricks.v1+cell": {
     "cellMetadata": {
      "byteLimit": 2048000,
      "rowLimit": 10000
     },
     "inputWidgets": {},
     "nuid": "1bb5f6f6-8ebe-46ad-8013-4078d386f944",
     "showTitle": false,
     "title": ""
    }
   },
   "outputs": [
    {
     "output_type": "execute_result",
     "data": {
      "text/html": [
       "<div>\n",
       "<style scoped>\n",
       "    .dataframe tbody tr th:only-of-type {\n",
       "        vertical-align: middle;\n",
       "    }\n",
       "\n",
       "    .dataframe tbody tr th {\n",
       "        vertical-align: top;\n",
       "    }\n",
       "\n",
       "    .dataframe thead th {\n",
       "        text-align: right;\n",
       "    }\n",
       "</style>\n",
       "<table border=\"1\" class=\"dataframe\">\n",
       "  <thead>\n",
       "    <tr style=\"text-align: right;\">\n",
       "      <th></th>\n",
       "      <th>AUM</th>\n",
       "      <th>NetFlows</th>\n",
       "      <th>Return</th>\n",
       "      <th>Fund</th>\n",
       "      <th>NetExpenseRatio</th>\n",
       "      <th>MorningstarRating</th>\n",
       "      <th>AvgMorningstarRatingLast12M</th>\n",
       "      <th>Longevity</th>\n",
       "      <th>SumAUM</th>\n",
       "      <th>SumNetFlows</th>\n",
       "      <th>StdDev_1Y</th>\n",
       "      <th>StdDev_Percentile_1Y</th>\n",
       "      <th>StdDev_3Y</th>\n",
       "      <th>StdDev_Percentile_3Y</th>\n",
       "      <th>PercentileRank1YrReturn</th>\n",
       "      <th>PercentileRank3YrReturn</th>\n",
       "      <th>cluster</th>\n",
       "    </tr>\n",
       "  </thead>\n",
       "  <tbody>\n",
       "    <tr>\n",
       "      <th>0</th>\n",
       "      <td>1.517838e+09</td>\n",
       "      <td>-1.024069e+08</td>\n",
       "      <td>-0.000290</td>\n",
       "      <td>AB Select US Long/Short Portfolio</td>\n",
       "      <td>1.55</td>\n",
       "      <td>5.0</td>\n",
       "      <td>5.000000</td>\n",
       "      <td>3671</td>\n",
       "      <td>1.422658e+11</td>\n",
       "      <td>1.032871e+09</td>\n",
       "      <td>0.000272</td>\n",
       "      <td>0.531086</td>\n",
       "      <td>0.000307</td>\n",
       "      <td>0.646922</td>\n",
       "      <td>31.034483</td>\n",
       "      <td>63.793103</td>\n",
       "      <td>0</td>\n",
       "    </tr>\n",
       "    <tr>\n",
       "      <th>1</th>\n",
       "      <td>5.677665e+08</td>\n",
       "      <td>1.062613e+07</td>\n",
       "      <td>0.000182</td>\n",
       "      <td>AQR Long-Short Equity Fund</td>\n",
       "      <td>1.31</td>\n",
       "      <td>3.0</td>\n",
       "      <td>2.750000</td>\n",
       "      <td>3455</td>\n",
       "      <td>1.647134e+11</td>\n",
       "      <td>7.278099e+08</td>\n",
       "      <td>0.000530</td>\n",
       "      <td>0.935973</td>\n",
       "      <td>0.000472</td>\n",
       "      <td>0.920662</td>\n",
       "      <td>100.000000</td>\n",
       "      <td>93.103448</td>\n",
       "      <td>5</td>\n",
       "    </tr>\n",
       "    <tr>\n",
       "      <th>2</th>\n",
       "      <td>7.869107e+07</td>\n",
       "      <td>-2.098664e+05</td>\n",
       "      <td>-0.000306</td>\n",
       "      <td>AXS Dynamic Opportunity Fund</td>\n",
       "      <td>1.72</td>\n",
       "      <td>3.0</td>\n",
       "      <td>3.000000</td>\n",
       "      <td>2902</td>\n",
       "      <td>6.873105e+09</td>\n",
       "      <td>6.973458e+07</td>\n",
       "      <td>0.000175</td>\n",
       "      <td>0.207238</td>\n",
       "      <td>0.000310</td>\n",
       "      <td>0.658985</td>\n",
       "      <td>17.241379</td>\n",
       "      <td>32.758621</td>\n",
       "      <td>4</td>\n",
       "    </tr>\n",
       "    <tr>\n",
       "      <th>3</th>\n",
       "      <td>4.679206e+08</td>\n",
       "      <td>-1.321287e+07</td>\n",
       "      <td>-0.000208</td>\n",
       "      <td>Alger Dynamic Opportunities Fund</td>\n",
       "      <td>0.87</td>\n",
       "      <td>5.0</td>\n",
       "      <td>5.000000</td>\n",
       "      <td>4807</td>\n",
       "      <td>2.764655e+10</td>\n",
       "      <td>4.306798e+08</td>\n",
       "      <td>0.000333</td>\n",
       "      <td>0.700742</td>\n",
       "      <td>0.000397</td>\n",
       "      <td>0.825240</td>\n",
       "      <td>15.517241</td>\n",
       "      <td>87.931034</td>\n",
       "      <td>3</td>\n",
       "    </tr>\n",
       "    <tr>\n",
       "      <th>4</th>\n",
       "      <td>6.273995e+08</td>\n",
       "      <td>-8.593926e+06</td>\n",
       "      <td>-0.000170</td>\n",
       "      <td>Allspring Global Long/Short Equity Fund</td>\n",
       "      <td>1.47</td>\n",
       "      <td>2.0</td>\n",
       "      <td>2.416667</td>\n",
       "      <td>2941</td>\n",
       "      <td>5.532944e+10</td>\n",
       "      <td>5.297114e+08</td>\n",
       "      <td>0.000420</td>\n",
       "      <td>0.852614</td>\n",
       "      <td>0.000368</td>\n",
       "      <td>0.777297</td>\n",
       "      <td>55.172414</td>\n",
       "      <td>34.482759</td>\n",
       "      <td>2</td>\n",
       "    </tr>\n",
       "  </tbody>\n",
       "</table>\n",
       "</div>"
      ],
      "text/plain": [
       "            AUM      NetFlows  ...  PercentileRank3YrReturn cluster\n",
       "0  1.517838e+09 -1.024069e+08  ...                63.793103       0\n",
       "1  5.677665e+08  1.062613e+07  ...                93.103448       5\n",
       "2  7.869107e+07 -2.098664e+05  ...                32.758621       4\n",
       "3  4.679206e+08 -1.321287e+07  ...                87.931034       3\n",
       "4  6.273995e+08 -8.593926e+06  ...                34.482759       2\n",
       "\n",
       "[5 rows x 17 columns]"
      ]
     },
     "execution_count": 32,
     "metadata": {},
     "output_type": "execute_result"
    }
   ],
   "source": [
    "joined_df = df.merge(df_clusters[['cluster']], left_index=True, right_index=True)\n",
    "joined_df.head()#join the cluster column to original dataframe\n"
   ]
  },
  {
   "cell_type": "code",
   "execution_count": 0,
   "metadata": {
    "application/vnd.databricks.v1+cell": {
     "cellMetadata": {
      "byteLimit": 2048000,
      "rowLimit": 10000
     },
     "inputWidgets": {},
     "nuid": "dac2394e-af4d-4d05-81ac-d4b92030d8b3",
     "showTitle": false,
     "title": ""
    }
   },
   "outputs": [
    {
     "output_type": "execute_result",
     "data": {
      "text/html": [
       "<div>\n",
       "<style scoped>\n",
       "    .dataframe tbody tr th:only-of-type {\n",
       "        vertical-align: middle;\n",
       "    }\n",
       "\n",
       "    .dataframe tbody tr th {\n",
       "        vertical-align: top;\n",
       "    }\n",
       "\n",
       "    .dataframe thead th {\n",
       "        text-align: right;\n",
       "    }\n",
       "</style>\n",
       "<table border=\"1\" class=\"dataframe\">\n",
       "  <thead>\n",
       "    <tr style=\"text-align: right;\">\n",
       "      <th></th>\n",
       "      <th>Fund</th>\n",
       "      <th>cluster</th>\n",
       "    </tr>\n",
       "  </thead>\n",
       "  <tbody>\n",
       "    <tr>\n",
       "      <th>13</th>\n",
       "      <td>Calamos Phineus Long/Short Fund</td>\n",
       "      <td>5</td>\n",
       "    </tr>\n",
       "  </tbody>\n",
       "</table>\n",
       "</div>"
      ],
      "text/plain": [
       "                               Fund  cluster\n",
       "13  Calamos Phineus Long/Short Fund        5"
      ]
     },
     "execution_count": 34,
     "metadata": {},
     "output_type": "execute_result"
    }
   ],
   "source": [
    "calamos_rows = joined_df[joined_df['Fund'].str.contains('calamos', case=False)]\n",
    "calamos_rows[['Fund','cluster']]"
   ]
  },
  {
   "cell_type": "code",
   "execution_count": 0,
   "metadata": {
    "application/vnd.databricks.v1+cell": {
     "cellMetadata": {
      "byteLimit": 2048000,
      "rowLimit": 10000
     },
     "inputWidgets": {},
     "nuid": "b832f230-4d38-47e1-85a7-8350022e1a3a",
     "showTitle": false,
     "title": ""
    }
   },
   "outputs": [
    {
     "output_type": "execute_result",
     "data": {
      "text/html": [
       "<div>\n",
       "<style scoped>\n",
       "    .dataframe tbody tr th:only-of-type {\n",
       "        vertical-align: middle;\n",
       "    }\n",
       "\n",
       "    .dataframe tbody tr th {\n",
       "        vertical-align: top;\n",
       "    }\n",
       "\n",
       "    .dataframe thead th {\n",
       "        text-align: right;\n",
       "    }\n",
       "</style>\n",
       "<table border=\"1\" class=\"dataframe\">\n",
       "  <thead>\n",
       "    <tr style=\"text-align: right;\">\n",
       "      <th></th>\n",
       "      <th>AUM</th>\n",
       "      <th>NetFlows</th>\n",
       "      <th>Return</th>\n",
       "      <th>Fund</th>\n",
       "      <th>NetExpenseRatio</th>\n",
       "      <th>MorningstarRating</th>\n",
       "      <th>AvgMorningstarRatingLast12M</th>\n",
       "      <th>Longevity</th>\n",
       "      <th>SumAUM</th>\n",
       "      <th>SumNetFlows</th>\n",
       "      <th>StdDev_1Y</th>\n",
       "      <th>StdDev_Percentile_1Y</th>\n",
       "      <th>StdDev_3Y</th>\n",
       "      <th>StdDev_Percentile_3Y</th>\n",
       "      <th>PercentileRank1YrReturn</th>\n",
       "      <th>PercentileRank3YrReturn</th>\n",
       "      <th>cluster</th>\n",
       "    </tr>\n",
       "  </thead>\n",
       "  <tbody>\n",
       "    <tr>\n",
       "      <th>1</th>\n",
       "      <td>567766501.0</td>\n",
       "      <td>1.062613e+07</td>\n",
       "      <td>0.000182</td>\n",
       "      <td>AQR Long-Short Equity Fund</td>\n",
       "      <td>1.31</td>\n",
       "      <td>3.0</td>\n",
       "      <td>2.750000</td>\n",
       "      <td>3455</td>\n",
       "      <td>1.647134e+11</td>\n",
       "      <td>7.278099e+08</td>\n",
       "      <td>0.000530</td>\n",
       "      <td>0.935973</td>\n",
       "      <td>0.000472</td>\n",
       "      <td>0.920662</td>\n",
       "      <td>100.000000</td>\n",
       "      <td>93.103448</td>\n",
       "      <td>5</td>\n",
       "    </tr>\n",
       "    <tr>\n",
       "      <th>9</th>\n",
       "      <td>164904207.0</td>\n",
       "      <td>1.614381e+07</td>\n",
       "      <td>0.000027</td>\n",
       "      <td>Boston Partners Global Long/Short Fund</td>\n",
       "      <td>1.81</td>\n",
       "      <td>4.0</td>\n",
       "      <td>3.500000</td>\n",
       "      <td>3287</td>\n",
       "      <td>5.134130e+10</td>\n",
       "      <td>1.308930e+08</td>\n",
       "      <td>0.000319</td>\n",
       "      <td>0.667337</td>\n",
       "      <td>0.000395</td>\n",
       "      <td>0.820755</td>\n",
       "      <td>98.275862</td>\n",
       "      <td>94.827586</td>\n",
       "      <td>5</td>\n",
       "    </tr>\n",
       "    <tr>\n",
       "      <th>10</th>\n",
       "      <td>67593224.0</td>\n",
       "      <td>-8.708738e+05</td>\n",
       "      <td>-0.000075</td>\n",
       "      <td>Boston Partners Long/Short Equity Fund</td>\n",
       "      <td>1.96</td>\n",
       "      <td>3.0</td>\n",
       "      <td>3.000000</td>\n",
       "      <td>8810</td>\n",
       "      <td>8.168282e+10</td>\n",
       "      <td>-2.217951e+08</td>\n",
       "      <td>0.000447</td>\n",
       "      <td>0.885555</td>\n",
       "      <td>0.000526</td>\n",
       "      <td>0.961027</td>\n",
       "      <td>89.655172</td>\n",
       "      <td>89.655172</td>\n",
       "      <td>5</td>\n",
       "    </tr>\n",
       "    <tr>\n",
       "      <th>13</th>\n",
       "      <td>822855415.0</td>\n",
       "      <td>1.541100e+07</td>\n",
       "      <td>-0.000412</td>\n",
       "      <td>Calamos Phineus Long/Short Fund</td>\n",
       "      <td>1.44</td>\n",
       "      <td>3.0</td>\n",
       "      <td>3.166667</td>\n",
       "      <td>2461</td>\n",
       "      <td>4.917781e+10</td>\n",
       "      <td>7.128040e+08</td>\n",
       "      <td>0.000491</td>\n",
       "      <td>0.916022</td>\n",
       "      <td>0.000576</td>\n",
       "      <td>0.969997</td>\n",
       "      <td>79.310345</td>\n",
       "      <td>86.206897</td>\n",
       "      <td>5</td>\n",
       "    </tr>\n",
       "    <tr>\n",
       "      <th>15</th>\n",
       "      <td>141184587.0</td>\n",
       "      <td>5.407000e+06</td>\n",
       "      <td>-0.000217</td>\n",
       "      <td>Cambria Value and Momentum ETF</td>\n",
       "      <td>0.59</td>\n",
       "      <td>4.0</td>\n",
       "      <td>2.916667</td>\n",
       "      <td>2671</td>\n",
       "      <td>1.467342e+09</td>\n",
       "      <td>9.844343e+07</td>\n",
       "      <td>0.000409</td>\n",
       "      <td>0.839468</td>\n",
       "      <td>0.000441</td>\n",
       "      <td>0.893752</td>\n",
       "      <td>91.379310</td>\n",
       "      <td>96.551724</td>\n",
       "      <td>5</td>\n",
       "    </tr>\n",
       "  </tbody>\n",
       "</table>\n",
       "</div>"
      ],
      "text/plain": [
       "            AUM      NetFlows  ...  PercentileRank3YrReturn cluster\n",
       "1   567766501.0  1.062613e+07  ...                93.103448       5\n",
       "9   164904207.0  1.614381e+07  ...                94.827586       5\n",
       "10   67593224.0 -8.708738e+05  ...                89.655172       5\n",
       "13  822855415.0  1.541100e+07  ...                86.206897       5\n",
       "15  141184587.0  5.407000e+06  ...                96.551724       5\n",
       "\n",
       "[5 rows x 17 columns]"
      ]
     },
     "execution_count": 38,
     "metadata": {},
     "output_type": "execute_result"
    }
   ],
   "source": [
    "joined_df[joined_df['cluster'] == 5]"
   ]
  },
  {
   "cell_type": "code",
   "execution_count": 0,
   "metadata": {
    "application/vnd.databricks.v1+cell": {
     "cellMetadata": {
      "byteLimit": 2048000,
      "rowLimit": 10000
     },
     "inputWidgets": {},
     "nuid": "a9d53f38-94ec-451c-9316-6d02157a3d3a",
     "showTitle": false,
     "title": ""
    }
   },
   "outputs": [
    {
     "output_type": "execute_result",
     "data": {
      "text/html": [
       "<div>\n",
       "<style scoped>\n",
       "    .dataframe tbody tr th:only-of-type {\n",
       "        vertical-align: middle;\n",
       "    }\n",
       "\n",
       "    .dataframe tbody tr th {\n",
       "        vertical-align: top;\n",
       "    }\n",
       "\n",
       "    .dataframe thead th {\n",
       "        text-align: right;\n",
       "    }\n",
       "</style>\n",
       "<table border=\"1\" class=\"dataframe\">\n",
       "  <thead>\n",
       "    <tr style=\"text-align: right;\">\n",
       "      <th></th>\n",
       "      <th>Fund</th>\n",
       "      <th>cluster</th>\n",
       "    </tr>\n",
       "  </thead>\n",
       "  <tbody>\n",
       "    <tr>\n",
       "      <th>33</th>\n",
       "      <td>JPMorgan Opportunistic Equity L/S Fd</td>\n",
       "      <td>1</td>\n",
       "    </tr>\n",
       "  </tbody>\n",
       "</table>\n",
       "</div>"
      ],
      "text/plain": [
       "                                    Fund  cluster\n",
       "33  JPMorgan Opportunistic Equity L/S Fd        1"
      ]
     },
     "execution_count": 39,
     "metadata": {},
     "output_type": "execute_result"
    }
   ],
   "source": [
    "calamos_rows = joined_df[joined_df['Fund'].str.contains('JP', case=False)]\n",
    "calamos_rows[['Fund','cluster']]"
   ]
  },
  {
   "cell_type": "code",
   "execution_count": 0,
   "metadata": {
    "application/vnd.databricks.v1+cell": {
     "cellMetadata": {
      "byteLimit": 2048000,
      "rowLimit": 10000
     },
     "inputWidgets": {},
     "nuid": "1f8c0827-70a8-42b8-b56c-8cee8174623a",
     "showTitle": false,
     "title": ""
    }
   },
   "outputs": [
    {
     "output_type": "execute_result",
     "data": {
      "text/html": [
       "<div>\n",
       "<style scoped>\n",
       "    .dataframe tbody tr th:only-of-type {\n",
       "        vertical-align: middle;\n",
       "    }\n",
       "\n",
       "    .dataframe tbody tr th {\n",
       "        vertical-align: top;\n",
       "    }\n",
       "\n",
       "    .dataframe thead th {\n",
       "        text-align: right;\n",
       "    }\n",
       "</style>\n",
       "<table border=\"1\" class=\"dataframe\">\n",
       "  <thead>\n",
       "    <tr style=\"text-align: right;\">\n",
       "      <th></th>\n",
       "      <th>Fund</th>\n",
       "      <th>cluster</th>\n",
       "    </tr>\n",
       "  </thead>\n",
       "  <tbody>\n",
       "    <tr>\n",
       "      <th>6</th>\n",
       "      <td>AmericaFirst Defensive Growth Fund</td>\n",
       "      <td>1</td>\n",
       "    </tr>\n",
       "    <tr>\n",
       "      <th>8</th>\n",
       "      <td>Boston Partners Emerging Mkts Dyn Eq Fd</td>\n",
       "      <td>1</td>\n",
       "    </tr>\n",
       "    <tr>\n",
       "      <th>12</th>\n",
       "      <td>CRM Long/Short Opportunities Fund</td>\n",
       "      <td>1</td>\n",
       "    </tr>\n",
       "    <tr>\n",
       "      <th>17</th>\n",
       "      <td>Counterpoint Tactical Equity Fund</td>\n",
       "      <td>1</td>\n",
       "    </tr>\n",
       "    <tr>\n",
       "      <th>21</th>\n",
       "      <td>Fintrust Income and Opportunity Fund</td>\n",
       "      <td>1</td>\n",
       "    </tr>\n",
       "    <tr>\n",
       "      <th>24</th>\n",
       "      <td>Gotham Defensive Long 500 Fund</td>\n",
       "      <td>1</td>\n",
       "    </tr>\n",
       "    <tr>\n",
       "      <th>26</th>\n",
       "      <td>Gotham Hedged Plus Fund</td>\n",
       "      <td>1</td>\n",
       "    </tr>\n",
       "    <tr>\n",
       "      <th>33</th>\n",
       "      <td>JPMorgan Opportunistic Equity L/S Fd</td>\n",
       "      <td>1</td>\n",
       "    </tr>\n",
       "    <tr>\n",
       "      <th>35</th>\n",
       "      <td>LoCorr Dynamic Opportunity Fund</td>\n",
       "      <td>1</td>\n",
       "    </tr>\n",
       "    <tr>\n",
       "      <th>39</th>\n",
       "      <td>Multi-Manager Directional Alt Strat Fd</td>\n",
       "      <td>1</td>\n",
       "    </tr>\n",
       "    <tr>\n",
       "      <th>43</th>\n",
       "      <td>Nuance Concentrated Value Lg-Shrt Fd</td>\n",
       "      <td>1</td>\n",
       "    </tr>\n",
       "    <tr>\n",
       "      <th>45</th>\n",
       "      <td>PIMCO RAE Worldwide Long/Short PLUS Fd</td>\n",
       "      <td>1</td>\n",
       "    </tr>\n",
       "  </tbody>\n",
       "</table>\n",
       "</div>"
      ],
      "text/plain": [
       "                                       Fund  cluster\n",
       "6        AmericaFirst Defensive Growth Fund        1\n",
       "8   Boston Partners Emerging Mkts Dyn Eq Fd        1\n",
       "12        CRM Long/Short Opportunities Fund        1\n",
       "17        Counterpoint Tactical Equity Fund        1\n",
       "21     Fintrust Income and Opportunity Fund        1\n",
       "24           Gotham Defensive Long 500 Fund        1\n",
       "26                  Gotham Hedged Plus Fund        1\n",
       "33     JPMorgan Opportunistic Equity L/S Fd        1\n",
       "35          LoCorr Dynamic Opportunity Fund        1\n",
       "39   Multi-Manager Directional Alt Strat Fd        1\n",
       "43     Nuance Concentrated Value Lg-Shrt Fd        1\n",
       "45   PIMCO RAE Worldwide Long/Short PLUS Fd        1"
      ]
     },
     "execution_count": 40,
     "metadata": {},
     "output_type": "execute_result"
    }
   ],
   "source": [
    "joined_df[joined_df['cluster'] == 1][['Fund','cluster']]"
   ]
  },
  {
   "cell_type": "code",
   "execution_count": 0,
   "metadata": {
    "application/vnd.databricks.v1+cell": {
     "cellMetadata": {
      "byteLimit": 2048000,
      "rowLimit": 10000
     },
     "inputWidgets": {},
     "nuid": "d68c99da-79d0-444f-a62b-7fdd3c2067ac",
     "showTitle": false,
     "title": ""
    }
   },
   "outputs": [
    {
     "output_type": "execute_result",
     "data": {
      "text/html": [
       "<div>\n",
       "<style scoped>\n",
       "    .dataframe tbody tr th:only-of-type {\n",
       "        vertical-align: middle;\n",
       "    }\n",
       "\n",
       "    .dataframe tbody tr th {\n",
       "        vertical-align: top;\n",
       "    }\n",
       "\n",
       "    .dataframe thead th {\n",
       "        text-align: right;\n",
       "    }\n",
       "</style>\n",
       "<table border=\"1\" class=\"dataframe\">\n",
       "  <thead>\n",
       "    <tr style=\"text-align: right;\">\n",
       "      <th></th>\n",
       "      <th>AUM</th>\n",
       "      <th>NetFlows</th>\n",
       "      <th>Return</th>\n",
       "      <th>NetExpenseRatio</th>\n",
       "      <th>MorningstarRating</th>\n",
       "      <th>AvgMorningstarRatingLast12M</th>\n",
       "      <th>Longevity</th>\n",
       "      <th>SumAUM</th>\n",
       "      <th>SumNetFlows</th>\n",
       "      <th>StdDev_1Y</th>\n",
       "      <th>StdDev_Percentile_1Y</th>\n",
       "      <th>StdDev_3Y</th>\n",
       "      <th>StdDev_Percentile_3Y</th>\n",
       "      <th>PercentileRank1YrReturn</th>\n",
       "      <th>PercentileRank3YrReturn</th>\n",
       "      <th>cluster</th>\n",
       "      <th>Decile</th>\n",
       "    </tr>\n",
       "  </thead>\n",
       "  <tbody>\n",
       "    <tr>\n",
       "      <th>0</th>\n",
       "      <td>1.517838e+09</td>\n",
       "      <td>-1.024069e+08</td>\n",
       "      <td>-0.000290</td>\n",
       "      <td>1.55</td>\n",
       "      <td>5.0</td>\n",
       "      <td>5.000000</td>\n",
       "      <td>3671</td>\n",
       "      <td>1.422658e+11</td>\n",
       "      <td>1.032871e+09</td>\n",
       "      <td>0.000272</td>\n",
       "      <td>0.531086</td>\n",
       "      <td>0.000307</td>\n",
       "      <td>0.646922</td>\n",
       "      <td>31.034483</td>\n",
       "      <td>63.793103</td>\n",
       "      <td>0</td>\n",
       "      <td>1</td>\n",
       "    </tr>\n",
       "    <tr>\n",
       "      <th>1</th>\n",
       "      <td>5.677665e+08</td>\n",
       "      <td>1.062613e+07</td>\n",
       "      <td>0.000182</td>\n",
       "      <td>1.31</td>\n",
       "      <td>3.0</td>\n",
       "      <td>2.750000</td>\n",
       "      <td>3455</td>\n",
       "      <td>1.647134e+11</td>\n",
       "      <td>7.278099e+08</td>\n",
       "      <td>0.000530</td>\n",
       "      <td>0.935973</td>\n",
       "      <td>0.000472</td>\n",
       "      <td>0.920662</td>\n",
       "      <td>100.000000</td>\n",
       "      <td>93.103448</td>\n",
       "      <td>5</td>\n",
       "      <td>1</td>\n",
       "    </tr>\n",
       "    <tr>\n",
       "      <th>2</th>\n",
       "      <td>7.869107e+07</td>\n",
       "      <td>-2.098664e+05</td>\n",
       "      <td>-0.000306</td>\n",
       "      <td>1.72</td>\n",
       "      <td>3.0</td>\n",
       "      <td>3.000000</td>\n",
       "      <td>2902</td>\n",
       "      <td>6.873105e+09</td>\n",
       "      <td>6.973458e+07</td>\n",
       "      <td>0.000175</td>\n",
       "      <td>0.207238</td>\n",
       "      <td>0.000310</td>\n",
       "      <td>0.658985</td>\n",
       "      <td>17.241379</td>\n",
       "      <td>32.758621</td>\n",
       "      <td>4</td>\n",
       "      <td>5</td>\n",
       "    </tr>\n",
       "    <tr>\n",
       "      <th>3</th>\n",
       "      <td>4.679206e+08</td>\n",
       "      <td>-1.321287e+07</td>\n",
       "      <td>-0.000208</td>\n",
       "      <td>0.87</td>\n",
       "      <td>5.0</td>\n",
       "      <td>5.000000</td>\n",
       "      <td>4807</td>\n",
       "      <td>2.764655e+10</td>\n",
       "      <td>4.306798e+08</td>\n",
       "      <td>0.000333</td>\n",
       "      <td>0.700742</td>\n",
       "      <td>0.000397</td>\n",
       "      <td>0.825240</td>\n",
       "      <td>15.517241</td>\n",
       "      <td>87.931034</td>\n",
       "      <td>3</td>\n",
       "      <td>2</td>\n",
       "    </tr>\n",
       "    <tr>\n",
       "      <th>4</th>\n",
       "      <td>6.273995e+08</td>\n",
       "      <td>-8.593926e+06</td>\n",
       "      <td>-0.000170</td>\n",
       "      <td>1.47</td>\n",
       "      <td>2.0</td>\n",
       "      <td>2.416667</td>\n",
       "      <td>2941</td>\n",
       "      <td>5.532944e+10</td>\n",
       "      <td>5.297114e+08</td>\n",
       "      <td>0.000420</td>\n",
       "      <td>0.852614</td>\n",
       "      <td>0.000368</td>\n",
       "      <td>0.777297</td>\n",
       "      <td>55.172414</td>\n",
       "      <td>34.482759</td>\n",
       "      <td>2</td>\n",
       "      <td>1</td>\n",
       "    </tr>\n",
       "  </tbody>\n",
       "</table>\n",
       "</div>"
      ],
      "text/plain": [
       "            AUM      NetFlows  ...  cluster  Decile\n",
       "0  1.517838e+09 -1.024069e+08  ...        0       1\n",
       "1  5.677665e+08  1.062613e+07  ...        5       1\n",
       "2  7.869107e+07 -2.098664e+05  ...        4       5\n",
       "3  4.679206e+08 -1.321287e+07  ...        3       2\n",
       "4  6.273995e+08 -8.593926e+06  ...        2       1\n",
       "\n",
       "[5 rows x 17 columns]"
      ]
     },
     "execution_count": 28,
     "metadata": {},
     "output_type": "execute_result"
    }
   ],
   "source": [
    "import pandas as pd\n",
    "\n",
    "\n",
    "# We use qcut with 10 bins to create the deciles. Labels are assigned such that the highest values fall into the 1st decile\n",
    "joined_df['Decile'] = pd.qcut(joined_df['SumNetFlows'], 10, labels=range(10, 0, -1))\n",
    "\n",
    "# Check the created decile column\n",
    "joined_df.head()\n"
   ]
  },
  {
   "cell_type": "code",
   "execution_count": 0,
   "metadata": {
    "application/vnd.databricks.v1+cell": {
     "cellMetadata": {
      "byteLimit": 2048000,
      "rowLimit": 10000
     },
     "inputWidgets": {},
     "nuid": "419b77c2-eb59-4725-b576-9a7b7d505fa4",
     "showTitle": false,
     "title": ""
    }
   },
   "outputs": [
    {
     "output_type": "execute_result",
     "data": {
      "text/html": [
       "<div>\n",
       "<style scoped>\n",
       "    .dataframe tbody tr th:only-of-type {\n",
       "        vertical-align: middle;\n",
       "    }\n",
       "\n",
       "    .dataframe tbody tr th {\n",
       "        vertical-align: top;\n",
       "    }\n",
       "\n",
       "    .dataframe thead th {\n",
       "        text-align: right;\n",
       "    }\n",
       "</style>\n",
       "<table border=\"1\" class=\"dataframe\">\n",
       "  <thead>\n",
       "    <tr style=\"text-align: right;\">\n",
       "      <th></th>\n",
       "      <th>AUM</th>\n",
       "      <th>NetFlows</th>\n",
       "      <th>Return</th>\n",
       "      <th>NetExpenseRatio</th>\n",
       "      <th>MorningstarRating</th>\n",
       "      <th>AvgMorningstarRatingLast12M</th>\n",
       "      <th>Longevity</th>\n",
       "      <th>SumAUM</th>\n",
       "      <th>SumNetFlows</th>\n",
       "      <th>StdDev_1Y</th>\n",
       "      <th>StdDev_Percentile_1Y</th>\n",
       "      <th>StdDev_3Y</th>\n",
       "      <th>StdDev_Percentile_3Y</th>\n",
       "      <th>PercentileRank1YrReturn</th>\n",
       "      <th>PercentileRank3YrReturn</th>\n",
       "      <th>cluster</th>\n",
       "      <th>Decile</th>\n",
       "      <th>Quartile</th>\n",
       "    </tr>\n",
       "  </thead>\n",
       "  <tbody>\n",
       "    <tr>\n",
       "      <th>0</th>\n",
       "      <td>1.517838e+09</td>\n",
       "      <td>-1.024069e+08</td>\n",
       "      <td>-0.000290</td>\n",
       "      <td>1.55</td>\n",
       "      <td>5.0</td>\n",
       "      <td>5.000000</td>\n",
       "      <td>3671</td>\n",
       "      <td>1.422658e+11</td>\n",
       "      <td>1.032871e+09</td>\n",
       "      <td>0.000272</td>\n",
       "      <td>0.531086</td>\n",
       "      <td>0.000307</td>\n",
       "      <td>0.646922</td>\n",
       "      <td>31.034483</td>\n",
       "      <td>63.793103</td>\n",
       "      <td>0</td>\n",
       "      <td>1</td>\n",
       "      <td>Q1</td>\n",
       "    </tr>\n",
       "    <tr>\n",
       "      <th>1</th>\n",
       "      <td>5.677665e+08</td>\n",
       "      <td>1.062613e+07</td>\n",
       "      <td>0.000182</td>\n",
       "      <td>1.31</td>\n",
       "      <td>3.0</td>\n",
       "      <td>2.750000</td>\n",
       "      <td>3455</td>\n",
       "      <td>1.647134e+11</td>\n",
       "      <td>7.278099e+08</td>\n",
       "      <td>0.000530</td>\n",
       "      <td>0.935973</td>\n",
       "      <td>0.000472</td>\n",
       "      <td>0.920662</td>\n",
       "      <td>100.000000</td>\n",
       "      <td>93.103448</td>\n",
       "      <td>5</td>\n",
       "      <td>1</td>\n",
       "      <td>Q1</td>\n",
       "    </tr>\n",
       "    <tr>\n",
       "      <th>2</th>\n",
       "      <td>7.869107e+07</td>\n",
       "      <td>-2.098664e+05</td>\n",
       "      <td>-0.000306</td>\n",
       "      <td>1.72</td>\n",
       "      <td>3.0</td>\n",
       "      <td>3.000000</td>\n",
       "      <td>2902</td>\n",
       "      <td>6.873105e+09</td>\n",
       "      <td>6.973458e+07</td>\n",
       "      <td>0.000175</td>\n",
       "      <td>0.207238</td>\n",
       "      <td>0.000310</td>\n",
       "      <td>0.658985</td>\n",
       "      <td>17.241379</td>\n",
       "      <td>32.758621</td>\n",
       "      <td>4</td>\n",
       "      <td>5</td>\n",
       "      <td>Q2</td>\n",
       "    </tr>\n",
       "    <tr>\n",
       "      <th>3</th>\n",
       "      <td>4.679206e+08</td>\n",
       "      <td>-1.321287e+07</td>\n",
       "      <td>-0.000208</td>\n",
       "      <td>0.87</td>\n",
       "      <td>5.0</td>\n",
       "      <td>5.000000</td>\n",
       "      <td>4807</td>\n",
       "      <td>2.764655e+10</td>\n",
       "      <td>4.306798e+08</td>\n",
       "      <td>0.000333</td>\n",
       "      <td>0.700742</td>\n",
       "      <td>0.000397</td>\n",
       "      <td>0.825240</td>\n",
       "      <td>15.517241</td>\n",
       "      <td>87.931034</td>\n",
       "      <td>3</td>\n",
       "      <td>2</td>\n",
       "      <td>Q1</td>\n",
       "    </tr>\n",
       "    <tr>\n",
       "      <th>4</th>\n",
       "      <td>6.273995e+08</td>\n",
       "      <td>-8.593926e+06</td>\n",
       "      <td>-0.000170</td>\n",
       "      <td>1.47</td>\n",
       "      <td>2.0</td>\n",
       "      <td>2.416667</td>\n",
       "      <td>2941</td>\n",
       "      <td>5.532944e+10</td>\n",
       "      <td>5.297114e+08</td>\n",
       "      <td>0.000420</td>\n",
       "      <td>0.852614</td>\n",
       "      <td>0.000368</td>\n",
       "      <td>0.777297</td>\n",
       "      <td>55.172414</td>\n",
       "      <td>34.482759</td>\n",
       "      <td>2</td>\n",
       "      <td>1</td>\n",
       "      <td>Q1</td>\n",
       "    </tr>\n",
       "  </tbody>\n",
       "</table>\n",
       "</div>"
      ],
      "text/plain": [
       "            AUM      NetFlows    Return  ...  cluster  Decile  Quartile\n",
       "0  1.517838e+09 -1.024069e+08 -0.000290  ...        0       1        Q1\n",
       "1  5.677665e+08  1.062613e+07  0.000182  ...        5       1        Q1\n",
       "2  7.869107e+07 -2.098664e+05 -0.000306  ...        4       5        Q2\n",
       "3  4.679206e+08 -1.321287e+07 -0.000208  ...        3       2        Q1\n",
       "4  6.273995e+08 -8.593926e+06 -0.000170  ...        2       1        Q1\n",
       "\n",
       "[5 rows x 18 columns]"
      ]
     },
     "execution_count": 29,
     "metadata": {},
     "output_type": "execute_result"
    }
   ],
   "source": [
    "import pandas as pd\n",
    "\n",
    "\n",
    "# Define the quartile labels. The highest values will be in Q1, the lowest in Q4.\n",
    "quartile_labels = ['Q1', 'Q2', 'Q3', 'Q4']\n",
    "\n",
    "# Use qcut to assign each 'SumNetFlows' value to a quartile, with quartile labels\n",
    "joined_df['Quartile'] = pd.qcut(joined_df['SumNetFlows'], 4, labels=quartile_labels[::-1])\n",
    "\n",
    "# The DataFrame now has a 'Quartile' column with the quartile group for each row\n",
    "joined_df.head()\n"
   ]
  },
  {
   "cell_type": "code",
   "execution_count": 0,
   "metadata": {
    "application/vnd.databricks.v1+cell": {
     "cellMetadata": {
      "byteLimit": 2048000,
      "rowLimit": 10000
     },
     "inputWidgets": {},
     "nuid": "604fc155-e2c7-4f4c-98e4-e6122d7ebc6c",
     "showTitle": false,
     "title": ""
    }
   },
   "outputs": [
    {
     "output_type": "stream",
     "name": "stdout",
     "output_type": "stream",
     "text": [
      "cluster\n1    12\n3    11\n0    10\n4     8\n2     8\n5     5\n6     4\nName: count, dtype: int64\n"
     ]
    }
   ],
   "source": [
    "import pandas as pd\n",
    "\n",
    "# Count the number of rows in each cluster\n",
    "cluster_counts = joined_df['cluster'].value_counts()\n",
    "\n",
    "# Print the number of rows in each cluster\n",
    "print(cluster_counts)\n"
   ]
  },
  {
   "cell_type": "code",
   "execution_count": 0,
   "metadata": {
    "application/vnd.databricks.v1+cell": {
     "cellMetadata": {
      "byteLimit": 2048000,
      "rowLimit": 10000
     },
     "inputWidgets": {},
     "nuid": "896cfe4a-374d-4727-8b3a-1419363b0388",
     "showTitle": false,
     "title": ""
    }
   },
   "outputs": [
    {
     "output_type": "display_data",
     "data": {
      "text/plain": [
       "<Figure size 1000x600 with 0 Axes>"
      ]
     },
     "metadata": {},
     "output_type": "display_data"
    },
    {
     "output_type": "display_data",
     "data": {
      "image/png": "[encoded data removed]",
      "text/plain": [
       "<Figure size 640x480 with 1 Axes>"
      ]
     },
     "metadata": {},
     "output_type": "display_data"
    }
   ],
   "source": [
    "cluster_distribution = joined_df.groupby('Quartile')['cluster'].value_counts().unstack(fill_value=0)\n",
    "\n",
    "# Plotting the distribution of clusters in each quartile\n",
    "plt.figure(figsize=(10, 6))\n",
    "cluster_distribution.plot(kind='bar', stacked=True)\n",
    "plt.title('Distribution of Clusters in Each Quartile')\n",
    "plt.xlabel('Quartile')\n",
    "plt.ylabel('Frequency of Clusters')\n",
    "plt.xticks(rotation=0)  # Keep the Quartile labels horizontal\n",
    "plt.legend(title='Cluster')\n",
    "plt.tight_layout()"
   ]
  },
  {
   "cell_type": "code",
   "execution_count": 0,
   "metadata": {
    "application/vnd.databricks.v1+cell": {
     "cellMetadata": {
      "byteLimit": 2048000,
      "rowLimit": 10000
     },
     "inputWidgets": {},
     "nuid": "cd332a1d-84aa-48b6-b86c-4a1648845558",
     "showTitle": false,
     "title": ""
    }
   },
   "outputs": [
    {
     "output_type": "display_data",
     "data": {
      "text/plain": [
       "\u001B[0;31m---------------------------------------------------------------------------\u001B[0m\n",
       "\u001B[0;31mNameError\u001B[0m                                 Traceback (most recent call last)\n",
       "File \u001B[0;32m<command-2241051161917221>, line 1\u001B[0m\n",
       "\u001B[0;32m----> 1\u001B[0m stop\n",
       "\n",
       "\u001B[0;31mNameError\u001B[0m: name 'stop' is not defined"
      ]
     },
     "metadata": {
      "application/vnd.databricks.v1+output": {
       "addedWidgets": {},
       "arguments": {},
       "datasetInfos": [],
       "jupyterProps": {
        "ename": "NameError",
        "evalue": "name 'stop' is not defined"
       },
       "metadata": {
        "errorSummary": "Command skipped"
       },
       "removedWidgets": [],
       "sqlProps": null,
       "stackFrames": [
        "\u001B[0;31m---------------------------------------------------------------------------\u001B[0m",
        "\u001B[0;31mNameError\u001B[0m                                 Traceback (most recent call last)",
        "File \u001B[0;32m<command-2241051161917221>, line 1\u001B[0m\n\u001B[0;32m----> 1\u001B[0m stop\n",
        "\u001B[0;31mNameError\u001B[0m: name 'stop' is not defined"
       ],
       "type": "baseError"
      }
     },
     "output_type": "display_data"
    }
   ],
   "source": [
    "distribution = (joined_df.groupby('cluster')['Quartile']\n",
    "                            .value_counts(normalize=True)  # This computes the relative frequencies\n",
    "                             # Converts fractions to percentages\n",
    "                            .unstack(fill_value=0))\n",
    "distribution"
   ]
  },
  {
   "cell_type": "code",
   "execution_count": 0,
   "metadata": {
    "application/vnd.databricks.v1+cell": {
     "cellMetadata": {
      "byteLimit": 2048000,
      "rowLimit": 10000
     },
     "inputWidgets": {},
     "nuid": "d5e48f03-f607-4370-a0ef-815599768c6a",
     "showTitle": false,
     "title": ""
    }
   },
   "outputs": [
    {
     "output_type": "display_data",
     "data": {
      "text/plain": [
       "\u001B[0;31m---------------------------------------------------------------------------\u001B[0m\n",
       "\u001B[0;31mNameError\u001B[0m                                 Traceback (most recent call last)\n",
       "File \u001B[0;32m<command-2241051161917221>, line 1\u001B[0m\n",
       "\u001B[0;32m----> 1\u001B[0m stop\n",
       "\n",
       "\u001B[0;31mNameError\u001B[0m: name 'stop' is not defined"
      ]
     },
     "metadata": {
      "application/vnd.databricks.v1+output": {
       "addedWidgets": {},
       "arguments": {},
       "datasetInfos": [],
       "jupyterProps": {
        "ename": "NameError",
        "evalue": "name 'stop' is not defined"
       },
       "metadata": {
        "errorSummary": "Command skipped"
       },
       "removedWidgets": [],
       "sqlProps": null,
       "stackFrames": [
        "\u001B[0;31m---------------------------------------------------------------------------\u001B[0m",
        "\u001B[0;31mNameError\u001B[0m                                 Traceback (most recent call last)",
        "File \u001B[0;32m<command-2241051161917221>, line 1\u001B[0m\n\u001B[0;32m----> 1\u001B[0m stop\n",
        "\u001B[0;31mNameError\u001B[0m: name 'stop' is not defined"
       ],
       "type": "baseError"
      }
     },
     "output_type": "display_data"
    }
   ],
   "source": [
    "distribution1 = (joined_df.groupby('cluster')['Decile']\n",
    "                            .value_counts(normalize=True)  # This computes the relative frequencies\n",
    "                             # Converts fractions to percentages\n",
    "                            .unstack(fill_value=0))\n",
    "distribution1"
   ]
  },
  {
   "cell_type": "code",
   "execution_count": 0,
   "metadata": {
    "application/vnd.databricks.v1+cell": {
     "cellMetadata": {
      "byteLimit": 2048000,
      "rowLimit": 10000
     },
     "inputWidgets": {},
     "nuid": "f628407c-db28-4097-92a9-a7af2021ee18",
     "showTitle": false,
     "title": ""
    }
   },
   "outputs": [
    {
     "output_type": "display_data",
     "data": {
      "text/plain": [
       "\u001B[0;31m---------------------------------------------------------------------------\u001B[0m\n",
       "\u001B[0;31mNameError\u001B[0m                                 Traceback (most recent call last)\n",
       "File \u001B[0;32m<command-2241051161917221>, line 1\u001B[0m\n",
       "\u001B[0;32m----> 1\u001B[0m stop\n",
       "\n",
       "\u001B[0;31mNameError\u001B[0m: name 'stop' is not defined"
      ]
     },
     "metadata": {
      "application/vnd.databricks.v1+output": {
       "addedWidgets": {},
       "arguments": {},
       "datasetInfos": [],
       "jupyterProps": {
        "ename": "NameError",
        "evalue": "name 'stop' is not defined"
       },
       "metadata": {
        "errorSummary": "Command skipped"
       },
       "removedWidgets": [],
       "sqlProps": null,
       "stackFrames": [
        "\u001B[0;31m---------------------------------------------------------------------------\u001B[0m",
        "\u001B[0;31mNameError\u001B[0m                                 Traceback (most recent call last)",
        "File \u001B[0;32m<command-2241051161917221>, line 1\u001B[0m\n\u001B[0;32m----> 1\u001B[0m stop\n",
        "\u001B[0;31mNameError\u001B[0m: name 'stop' is not defined"
       ],
       "type": "baseError"
      }
     },
     "output_type": "display_data"
    }
   ],
   "source": [
    "cluster_distribution1 = joined_df.groupby('Decile')['cluster'].value_counts().unstack(fill_value=0)\n",
    "\n",
    "# Plotting the distribution of clusters in each quartile\n",
    "plt.figure(figsize=(10, 6))\n",
    "cluster_distribution1.plot(kind='bar', stacked=True)\n",
    "plt.title('Distribution of Clusters in Each Decile')\n",
    "plt.xlabel('Quartile')\n",
    "plt.ylabel('Frequency of Clusters')\n",
    "plt.xticks(rotation=0)  # Keep the Quartile labels horizontal\n",
    "plt.legend(title='Cluster')\n",
    "plt.tight_layout()"
   ]
  },
  {
   "cell_type": "markdown",
   "metadata": {
    "application/vnd.databricks.v1+cell": {
     "cellMetadata": {
      "byteLimit": 2048000,
      "rowLimit": 10000
     },
     "inputWidgets": {},
     "nuid": "c4b7e480-675e-44b8-8c15-1d21b547159d",
     "showTitle": false,
     "title": ""
    }
   },
   "source": [
    "## 3. Try again but log AUM and AUMSUM"
   ]
  },
  {
   "cell_type": "code",
   "execution_count": 0,
   "metadata": {
    "application/vnd.databricks.v1+cell": {
     "cellMetadata": {
      "byteLimit": 2048000,
      "rowLimit": 10000
     },
     "inputWidgets": {},
     "nuid": "4a46ce7e-797b-4903-b892-90f54b2e37ad",
     "showTitle": false,
     "title": ""
    }
   },
   "outputs": [
    {
     "output_type": "display_data",
     "data": {
      "text/plain": [
       "\u001B[0;31m---------------------------------------------------------------------------\u001B[0m\n",
       "\u001B[0;31mNameError\u001B[0m                                 Traceback (most recent call last)\n",
       "File \u001B[0;32m<command-2241051161917221>, line 1\u001B[0m\n",
       "\u001B[0;32m----> 1\u001B[0m stop\n",
       "\n",
       "\u001B[0;31mNameError\u001B[0m: name 'stop' is not defined"
      ]
     },
     "metadata": {
      "application/vnd.databricks.v1+output": {
       "addedWidgets": {},
       "arguments": {},
       "datasetInfos": [],
       "jupyterProps": {
        "ename": "NameError",
        "evalue": "name 'stop' is not defined"
       },
       "metadata": {
        "errorSummary": "Command skipped"
       },
       "removedWidgets": [],
       "sqlProps": null,
       "stackFrames": [
        "\u001B[0;31m---------------------------------------------------------------------------\u001B[0m",
        "\u001B[0;31mNameError\u001B[0m                                 Traceback (most recent call last)",
        "File \u001B[0;32m<command-2241051161917221>, line 1\u001B[0m\n\u001B[0;32m----> 1\u001B[0m stop\n",
        "\u001B[0;31mNameError\u001B[0m: name 'stop' is not defined"
       ],
       "type": "baseError"
      }
     },
     "output_type": "display_data"
    }
   ],
   "source": [
    "df_2 = df.copy()\n",
    "df_2.hist()"
   ]
  },
  {
   "cell_type": "code",
   "execution_count": 0,
   "metadata": {
    "application/vnd.databricks.v1+cell": {
     "cellMetadata": {
      "byteLimit": 2048000,
      "rowLimit": 10000
     },
     "inputWidgets": {},
     "nuid": "44021cd9-6e8c-48b7-bec2-6418b31ec4ea",
     "showTitle": false,
     "title": ""
    }
   },
   "outputs": [
    {
     "output_type": "display_data",
     "data": {
      "text/plain": [
       "\u001B[0;31m---------------------------------------------------------------------------\u001B[0m\n",
       "\u001B[0;31mNameError\u001B[0m                                 Traceback (most recent call last)\n",
       "File \u001B[0;32m<command-2241051161917221>, line 1\u001B[0m\n",
       "\u001B[0;32m----> 1\u001B[0m stop\n",
       "\n",
       "\u001B[0;31mNameError\u001B[0m: name 'stop' is not defined"
      ]
     },
     "metadata": {
      "application/vnd.databricks.v1+output": {
       "addedWidgets": {},
       "arguments": {},
       "datasetInfos": [],
       "jupyterProps": {
        "ename": "NameError",
        "evalue": "name 'stop' is not defined"
       },
       "metadata": {
        "errorSummary": "Command skipped"
       },
       "removedWidgets": [],
       "sqlProps": null,
       "stackFrames": [
        "\u001B[0;31m---------------------------------------------------------------------------\u001B[0m",
        "\u001B[0;31mNameError\u001B[0m                                 Traceback (most recent call last)",
        "File \u001B[0;32m<command-2241051161917221>, line 1\u001B[0m\n\u001B[0;32m----> 1\u001B[0m stop\n",
        "\u001B[0;31mNameError\u001B[0m: name 'stop' is not defined"
       ],
       "type": "baseError"
      }
     },
     "output_type": "display_data"
    }
   ],
   "source": [
    "df_2.columns"
   ]
  },
  {
   "cell_type": "code",
   "execution_count": 0,
   "metadata": {
    "application/vnd.databricks.v1+cell": {
     "cellMetadata": {
      "byteLimit": 2048000,
      "rowLimit": 10000
     },
     "inputWidgets": {},
     "nuid": "a1fefba1-604b-4b3e-8872-487a3412f130",
     "showTitle": false,
     "title": ""
    }
   },
   "outputs": [
    {
     "output_type": "display_data",
     "data": {
      "text/plain": [
       "\u001B[0;31m---------------------------------------------------------------------------\u001B[0m\n",
       "\u001B[0;31mNameError\u001B[0m                                 Traceback (most recent call last)\n",
       "File \u001B[0;32m<command-2241051161917221>, line 1\u001B[0m\n",
       "\u001B[0;32m----> 1\u001B[0m stop\n",
       "\n",
       "\u001B[0;31mNameError\u001B[0m: name 'stop' is not defined"
      ]
     },
     "metadata": {
      "application/vnd.databricks.v1+output": {
       "addedWidgets": {},
       "arguments": {},
       "datasetInfos": [],
       "jupyterProps": {
        "ename": "NameError",
        "evalue": "name 'stop' is not defined"
       },
       "metadata": {
        "errorSummary": "Command skipped"
       },
       "removedWidgets": [],
       "sqlProps": null,
       "stackFrames": [
        "\u001B[0;31m---------------------------------------------------------------------------\u001B[0m",
        "\u001B[0;31mNameError\u001B[0m                                 Traceback (most recent call last)",
        "File \u001B[0;32m<command-2241051161917221>, line 1\u001B[0m\n\u001B[0;32m----> 1\u001B[0m stop\n",
        "\u001B[0;31mNameError\u001B[0m: name 'stop' is not defined"
       ],
       "type": "baseError"
      }
     },
     "output_type": "display_data"
    }
   ],
   "source": [
    "df_2['AUM'] =df_2['AUM'] = np.log(df_2['AUM'])\n",
    "df_2['SumAUM'] = df_2['SumAUM'] = np.log(df_2['SumAUM'])"
   ]
  },
  {
   "cell_type": "code",
   "execution_count": 0,
   "metadata": {
    "application/vnd.databricks.v1+cell": {
     "cellMetadata": {
      "byteLimit": 2048000,
      "rowLimit": 10000
     },
     "inputWidgets": {},
     "nuid": "f46077a5-6159-493a-8fea-dfd13a6c6a9a",
     "showTitle": false,
     "title": ""
    }
   },
   "outputs": [
    {
     "output_type": "display_data",
     "data": {
      "text/plain": [
       "\u001B[0;31m---------------------------------------------------------------------------\u001B[0m\n",
       "\u001B[0;31mNameError\u001B[0m                                 Traceback (most recent call last)\n",
       "File \u001B[0;32m<command-2241051161917221>, line 1\u001B[0m\n",
       "\u001B[0;32m----> 1\u001B[0m stop\n",
       "\n",
       "\u001B[0;31mNameError\u001B[0m: name 'stop' is not defined"
      ]
     },
     "metadata": {
      "application/vnd.databricks.v1+output": {
       "addedWidgets": {},
       "arguments": {},
       "datasetInfos": [],
       "jupyterProps": {
        "ename": "NameError",
        "evalue": "name 'stop' is not defined"
       },
       "metadata": {
        "errorSummary": "Command skipped"
       },
       "removedWidgets": [],
       "sqlProps": null,
       "stackFrames": [
        "\u001B[0;31m---------------------------------------------------------------------------\u001B[0m",
        "\u001B[0;31mNameError\u001B[0m                                 Traceback (most recent call last)",
        "File \u001B[0;32m<command-2241051161917221>, line 1\u001B[0m\n\u001B[0;32m----> 1\u001B[0m stop\n",
        "\u001B[0;31mNameError\u001B[0m: name 'stop' is not defined"
       ],
       "type": "baseError"
      }
     },
     "output_type": "display_data"
    }
   ],
   "source": [
    "df_2.hist()"
   ]
  },
  {
   "cell_type": "code",
   "execution_count": 0,
   "metadata": {
    "application/vnd.databricks.v1+cell": {
     "cellMetadata": {
      "byteLimit": 2048000,
      "rowLimit": 10000
     },
     "inputWidgets": {},
     "nuid": "e22331bd-2fd0-4396-b55a-e45b8c80b294",
     "showTitle": false,
     "title": ""
    }
   },
   "outputs": [
    {
     "output_type": "display_data",
     "data": {
      "text/plain": [
       "\u001B[0;31m---------------------------------------------------------------------------\u001B[0m\n",
       "\u001B[0;31mNameError\u001B[0m                                 Traceback (most recent call last)\n",
       "File \u001B[0;32m<command-2241051161917221>, line 1\u001B[0m\n",
       "\u001B[0;32m----> 1\u001B[0m stop\n",
       "\n",
       "\u001B[0;31mNameError\u001B[0m: name 'stop' is not defined"
      ]
     },
     "metadata": {
      "application/vnd.databricks.v1+output": {
       "addedWidgets": {},
       "arguments": {},
       "datasetInfos": [],
       "jupyterProps": {
        "ename": "NameError",
        "evalue": "name 'stop' is not defined"
       },
       "metadata": {
        "errorSummary": "Command skipped"
       },
       "removedWidgets": [],
       "sqlProps": null,
       "stackFrames": [
        "\u001B[0;31m---------------------------------------------------------------------------\u001B[0m",
        "\u001B[0;31mNameError\u001B[0m                                 Traceback (most recent call last)",
        "File \u001B[0;32m<command-2241051161917221>, line 1\u001B[0m\n\u001B[0;32m----> 1\u001B[0m stop\n",
        "\u001B[0;31mNameError\u001B[0m: name 'stop' is not defined"
       ],
       "type": "baseError"
      }
     },
     "output_type": "display_data"
    }
   ],
   "source": [
    "X_2 = df_2.copy()\n",
    "X_2.drop(['Fund'], axis=1, inplace=True)"
   ]
  },
  {
   "cell_type": "code",
   "execution_count": 0,
   "metadata": {
    "application/vnd.databricks.v1+cell": {
     "cellMetadata": {
      "byteLimit": 2048000,
      "rowLimit": 10000
     },
     "inputWidgets": {},
     "nuid": "91c1ff04-3ab4-4869-8af4-f06aab75d498",
     "showTitle": false,
     "title": ""
    }
   },
   "outputs": [
    {
     "output_type": "display_data",
     "data": {
      "text/plain": [
       "\u001B[0;31m---------------------------------------------------------------------------\u001B[0m\n",
       "\u001B[0;31mNameError\u001B[0m                                 Traceback (most recent call last)\n",
       "File \u001B[0;32m<command-2241051161917221>, line 1\u001B[0m\n",
       "\u001B[0;32m----> 1\u001B[0m stop\n",
       "\n",
       "\u001B[0;31mNameError\u001B[0m: name 'stop' is not defined"
      ]
     },
     "metadata": {
      "application/vnd.databricks.v1+output": {
       "addedWidgets": {},
       "arguments": {},
       "datasetInfos": [],
       "jupyterProps": {
        "ename": "NameError",
        "evalue": "name 'stop' is not defined"
       },
       "metadata": {
        "errorSummary": "Command skipped"
       },
       "removedWidgets": [],
       "sqlProps": null,
       "stackFrames": [
        "\u001B[0;31m---------------------------------------------------------------------------\u001B[0m",
        "\u001B[0;31mNameError\u001B[0m                                 Traceback (most recent call last)",
        "File \u001B[0;32m<command-2241051161917221>, line 1\u001B[0m\n\u001B[0;32m----> 1\u001B[0m stop\n",
        "\u001B[0;31mNameError\u001B[0m: name 'stop' is not defined"
       ],
       "type": "baseError"
      }
     },
     "output_type": "display_data"
    }
   ],
   "source": [
    "X_2_scale = StandardScaler().fit_transform(X_2)"
   ]
  },
  {
   "cell_type": "code",
   "execution_count": 0,
   "metadata": {
    "application/vnd.databricks.v1+cell": {
     "cellMetadata": {
      "byteLimit": 2048000,
      "rowLimit": 10000
     },
     "inputWidgets": {},
     "nuid": "1bfff640-a2f0-44ed-ba1d-28389d30f627",
     "showTitle": false,
     "title": ""
    }
   },
   "outputs": [
    {
     "output_type": "display_data",
     "data": {
      "text/plain": [
       "\u001B[0;31m---------------------------------------------------------------------------\u001B[0m\n",
       "\u001B[0;31mNameError\u001B[0m                                 Traceback (most recent call last)\n",
       "File \u001B[0;32m<command-2241051161917221>, line 1\u001B[0m\n",
       "\u001B[0;32m----> 1\u001B[0m stop\n",
       "\n",
       "\u001B[0;31mNameError\u001B[0m: name 'stop' is not defined"
      ]
     },
     "metadata": {
      "application/vnd.databricks.v1+output": {
       "addedWidgets": {},
       "arguments": {},
       "datasetInfos": [],
       "jupyterProps": {
        "ename": "NameError",
        "evalue": "name 'stop' is not defined"
       },
       "metadata": {
        "errorSummary": "Command skipped"
       },
       "removedWidgets": [],
       "sqlProps": null,
       "stackFrames": [
        "\u001B[0;31m---------------------------------------------------------------------------\u001B[0m",
        "\u001B[0;31mNameError\u001B[0m                                 Traceback (most recent call last)",
        "File \u001B[0;32m<command-2241051161917221>, line 1\u001B[0m\n\u001B[0;32m----> 1\u001B[0m stop\n",
        "\u001B[0;31mNameError\u001B[0m: name 'stop' is not defined"
       ],
       "type": "baseError"
      }
     },
     "output_type": "display_data"
    }
   ],
   "source": [
    "# a small perplexity can generate more well-separated results\n",
    "tsne = TSNE(n_components=2, random_state=42, perplexity = 15)\n",
    "projections = tsne.fit_transform(X_2_scale)\n",
    "projections\n",
    "\n",
    "fig = px.scatter(\n",
    "    projections,x=0,y=1,\n",
    "    color=df_2.Fund\n",
    ")\n",
    "fig.show()"
   ]
  },
  {
   "cell_type": "code",
   "execution_count": 0,
   "metadata": {
    "application/vnd.databricks.v1+cell": {
     "cellMetadata": {
      "byteLimit": 2048000,
      "rowLimit": 10000
     },
     "inputWidgets": {},
     "nuid": "5f64abe8-bfb3-4cd9-8a84-be7e9bdb3edb",
     "showTitle": false,
     "title": ""
    }
   },
   "outputs": [
    {
     "output_type": "display_data",
     "data": {
      "text/plain": [
       "\u001B[0;31m---------------------------------------------------------------------------\u001B[0m\n",
       "\u001B[0;31mNameError\u001B[0m                                 Traceback (most recent call last)\n",
       "File \u001B[0;32m<command-2241051161917221>, line 1\u001B[0m\n",
       "\u001B[0;32m----> 1\u001B[0m stop\n",
       "\n",
       "\u001B[0;31mNameError\u001B[0m: name 'stop' is not defined"
      ]
     },
     "metadata": {
      "application/vnd.databricks.v1+output": {
       "addedWidgets": {},
       "arguments": {},
       "datasetInfos": [],
       "jupyterProps": {
        "ename": "NameError",
        "evalue": "name 'stop' is not defined"
       },
       "metadata": {
        "errorSummary": "Command skipped"
       },
       "removedWidgets": [],
       "sqlProps": null,
       "stackFrames": [
        "\u001B[0;31m---------------------------------------------------------------------------\u001B[0m",
        "\u001B[0;31mNameError\u001B[0m                                 Traceback (most recent call last)",
        "File \u001B[0;32m<command-2241051161917221>, line 1\u001B[0m\n\u001B[0;32m----> 1\u001B[0m stop\n",
        "\u001B[0;31mNameError\u001B[0m: name 'stop' is not defined"
       ],
       "type": "baseError"
      }
     },
     "output_type": "display_data"
    }
   ],
   "source": [
    "tsne = TSNE(n_components=3, random_state=42, perplexity=15)\n",
    "projections = tsne.fit_transform(X_2_scale,)\n",
    "\n",
    "fig = px.scatter_3d(\n",
    "    projections,x=0,y=1,z=2,\n",
    "    color=df.Fund\n",
    ")\n",
    "fig.show()"
   ]
  },
  {
   "cell_type": "code",
   "execution_count": 0,
   "metadata": {
    "application/vnd.databricks.v1+cell": {
     "cellMetadata": {
      "byteLimit": 2048000,
      "rowLimit": 10000
     },
     "inputWidgets": {},
     "nuid": "30d3233f-a7e0-4114-bdc1-5ab8c61d0f46",
     "showTitle": false,
     "title": ""
    }
   },
   "outputs": [
    {
     "output_type": "display_data",
     "data": {
      "text/plain": [
       "\u001B[0;31m---------------------------------------------------------------------------\u001B[0m\n",
       "\u001B[0;31mNameError\u001B[0m                                 Traceback (most recent call last)\n",
       "File \u001B[0;32m<command-2241051161917221>, line 1\u001B[0m\n",
       "\u001B[0;32m----> 1\u001B[0m stop\n",
       "\n",
       "\u001B[0;31mNameError\u001B[0m: name 'stop' is not defined"
      ]
     },
     "metadata": {
      "application/vnd.databricks.v1+output": {
       "addedWidgets": {},
       "arguments": {},
       "datasetInfos": [],
       "jupyterProps": {
        "ename": "NameError",
        "evalue": "name 'stop' is not defined"
       },
       "metadata": {
        "errorSummary": "Command skipped"
       },
       "removedWidgets": [],
       "sqlProps": null,
       "stackFrames": [
        "\u001B[0;31m---------------------------------------------------------------------------\u001B[0m",
        "\u001B[0;31mNameError\u001B[0m                                 Traceback (most recent call last)",
        "File \u001B[0;32m<command-2241051161917221>, line 1\u001B[0m\n\u001B[0;32m----> 1\u001B[0m stop\n",
        "\u001B[0;31mNameError\u001B[0m: name 'stop' is not defined"
       ],
       "type": "baseError"
      }
     },
     "output_type": "display_data"
    }
   ],
   "source": [
    "from sklearn.cluster import AgglomerativeClustering\n",
    "import plotly.express as px\n",
    "\n",
    "n_clusters = 6 \n",
    "\n",
    "# Perform Agglomerative Clustering on t-SNE projections\n",
    "agg_clustering = AgglomerativeClustering(n_clusters=n_clusters)\n",
    "agg_clusters = agg_clustering.fit_predict(projections)\n",
    "\n",
    "# Convert projections and cluster labels into a DataFrame for visualization\n",
    "import pandas as pd\n",
    "df_clusters = pd.DataFrame(projections, columns=['x', 'y', 'z'])\n",
    "df_clusters['cluster'] = agg_clusters\n",
    "\n",
    "# Now visualize the clustering results with Plotly\n",
    "fig = px.scatter_3d(df_clusters, x='x', y='y', z='z',\n",
    "                    color='cluster',\n",
    "                    color_continuous_scale=px.colors.qualitative.D3)  # or any other color scale you prefer\n",
    "fig.show()\n"
   ]
  },
  {
   "cell_type": "code",
   "execution_count": 0,
   "metadata": {
    "application/vnd.databricks.v1+cell": {
     "cellMetadata": {
      "byteLimit": 2048000,
      "rowLimit": 10000
     },
     "inputWidgets": {},
     "nuid": "5eeac08a-0736-4a8e-8217-dc47531cc2cd",
     "showTitle": false,
     "title": ""
    }
   },
   "outputs": [
    {
     "output_type": "display_data",
     "data": {
      "text/plain": [
       "\u001B[0;31m---------------------------------------------------------------------------\u001B[0m\n",
       "\u001B[0;31mNameError\u001B[0m                                 Traceback (most recent call last)\n",
       "File \u001B[0;32m<command-2241051161917221>, line 1\u001B[0m\n",
       "\u001B[0;32m----> 1\u001B[0m stop\n",
       "\n",
       "\u001B[0;31mNameError\u001B[0m: name 'stop' is not defined"
      ]
     },
     "metadata": {
      "application/vnd.databricks.v1+output": {
       "addedWidgets": {},
       "arguments": {},
       "datasetInfos": [],
       "jupyterProps": {
        "ename": "NameError",
        "evalue": "name 'stop' is not defined"
       },
       "metadata": {
        "errorSummary": "Command skipped"
       },
       "removedWidgets": [],
       "sqlProps": null,
       "stackFrames": [
        "\u001B[0;31m---------------------------------------------------------------------------\u001B[0m",
        "\u001B[0;31mNameError\u001B[0m                                 Traceback (most recent call last)",
        "File \u001B[0;32m<command-2241051161917221>, line 1\u001B[0m\n\u001B[0;32m----> 1\u001B[0m stop\n",
        "\u001B[0;31mNameError\u001B[0m: name 'stop' is not defined"
       ],
       "type": "baseError"
      }
     },
     "output_type": "display_data"
    }
   ],
   "source": [
    "## 3. Try again but less features"
   ]
  },
  {
   "cell_type": "code",
   "execution_count": 0,
   "metadata": {
    "application/vnd.databricks.v1+cell": {
     "cellMetadata": {
      "byteLimit": 2048000,
      "rowLimit": 10000
     },
     "inputWidgets": {},
     "nuid": "bf6ffc61-91e3-4524-a055-d71988af916a",
     "showTitle": false,
     "title": ""
    }
   },
   "outputs": [
    {
     "output_type": "display_data",
     "data": {
      "text/plain": [
       "\u001B[0;31m---------------------------------------------------------------------------\u001B[0m\n",
       "\u001B[0;31mNameError\u001B[0m                                 Traceback (most recent call last)\n",
       "File \u001B[0;32m<command-2241051161917221>, line 1\u001B[0m\n",
       "\u001B[0;32m----> 1\u001B[0m stop\n",
       "\n",
       "\u001B[0;31mNameError\u001B[0m: name 'stop' is not defined"
      ]
     },
     "metadata": {
      "application/vnd.databricks.v1+output": {
       "addedWidgets": {},
       "arguments": {},
       "datasetInfos": [],
       "jupyterProps": {
        "ename": "NameError",
        "evalue": "name 'stop' is not defined"
       },
       "metadata": {
        "errorSummary": "Command skipped"
       },
       "removedWidgets": [],
       "sqlProps": null,
       "stackFrames": [
        "\u001B[0;31m---------------------------------------------------------------------------\u001B[0m",
        "\u001B[0;31mNameError\u001B[0m                                 Traceback (most recent call last)",
        "File \u001B[0;32m<command-2241051161917221>, line 1\u001B[0m\n\u001B[0;32m----> 1\u001B[0m stop\n",
        "\u001B[0;31mNameError\u001B[0m: name 'stop' is not defined"
       ],
       "type": "baseError"
      }
     },
     "output_type": "display_data"
    }
   ],
   "source": [
    "df_3 = df_2.copy()"
   ]
  },
  {
   "cell_type": "code",
   "execution_count": 0,
   "metadata": {
    "application/vnd.databricks.v1+cell": {
     "cellMetadata": {
      "byteLimit": 2048000,
      "rowLimit": 10000
     },
     "inputWidgets": {},
     "nuid": "47bf324c-a9eb-46b9-ab2e-60e1a3ef8e58",
     "showTitle": false,
     "title": ""
    }
   },
   "outputs": [
    {
     "output_type": "display_data",
     "data": {
      "text/plain": [
       "\u001B[0;31m---------------------------------------------------------------------------\u001B[0m\n",
       "\u001B[0;31mNameError\u001B[0m                                 Traceback (most recent call last)\n",
       "File \u001B[0;32m<command-2241051161917221>, line 1\u001B[0m\n",
       "\u001B[0;32m----> 1\u001B[0m stop\n",
       "\n",
       "\u001B[0;31mNameError\u001B[0m: name 'stop' is not defined"
      ]
     },
     "metadata": {
      "application/vnd.databricks.v1+output": {
       "addedWidgets": {},
       "arguments": {},
       "datasetInfos": [],
       "jupyterProps": {
        "ename": "NameError",
        "evalue": "name 'stop' is not defined"
       },
       "metadata": {
        "errorSummary": "Command skipped"
       },
       "removedWidgets": [],
       "sqlProps": null,
       "stackFrames": [
        "\u001B[0;31m---------------------------------------------------------------------------\u001B[0m",
        "\u001B[0;31mNameError\u001B[0m                                 Traceback (most recent call last)",
        "File \u001B[0;32m<command-2241051161917221>, line 1\u001B[0m\n\u001B[0;32m----> 1\u001B[0m stop\n",
        "\u001B[0;31mNameError\u001B[0m: name 'stop' is not defined"
       ],
       "type": "baseError"
      }
     },
     "output_type": "display_data"
    }
   ],
   "source": [
    "# handle curse of dimensionality\n",
    "df_3.columns"
   ]
  },
  {
   "cell_type": "code",
   "execution_count": 0,
   "metadata": {
    "application/vnd.databricks.v1+cell": {
     "cellMetadata": {
      "byteLimit": 2048000,
      "rowLimit": 10000
     },
     "inputWidgets": {},
     "nuid": "37db2917-56d5-46fa-bd97-bc8ba2c16a4c",
     "showTitle": false,
     "title": ""
    }
   },
   "outputs": [
    {
     "output_type": "display_data",
     "data": {
      "text/plain": [
       "\u001B[0;31m---------------------------------------------------------------------------\u001B[0m\n",
       "\u001B[0;31mNameError\u001B[0m                                 Traceback (most recent call last)\n",
       "File \u001B[0;32m<command-2241051161917221>, line 1\u001B[0m\n",
       "\u001B[0;32m----> 1\u001B[0m stop\n",
       "\n",
       "\u001B[0;31mNameError\u001B[0m: name 'stop' is not defined"
      ]
     },
     "metadata": {
      "application/vnd.databricks.v1+output": {
       "addedWidgets": {},
       "arguments": {},
       "datasetInfos": [],
       "jupyterProps": {
        "ename": "NameError",
        "evalue": "name 'stop' is not defined"
       },
       "metadata": {
        "errorSummary": "Command skipped"
       },
       "removedWidgets": [],
       "sqlProps": null,
       "stackFrames": [
        "\u001B[0;31m---------------------------------------------------------------------------\u001B[0m",
        "\u001B[0;31mNameError\u001B[0m                                 Traceback (most recent call last)",
        "File \u001B[0;32m<command-2241051161917221>, line 1\u001B[0m\n\u001B[0;32m----> 1\u001B[0m stop\n",
        "\u001B[0;31mNameError\u001B[0m: name 'stop' is not defined"
       ],
       "type": "baseError"
      }
     },
     "output_type": "display_data"
    }
   ],
   "source": [
    "# use SumAUM rather than AUM, SumAUM can better demostrate the size and reputation of a company\n",
    "# remove all 5 years feature since the range is too big\n",
    "df_3.drop(['AUM', 'StdDev_5Y', 'Percentile_5Y', 'PercentileRank5YrReturn'], axis=1, inplace=True)"
   ]
  },
  {
   "cell_type": "code",
   "execution_count": 0,
   "metadata": {
    "application/vnd.databricks.v1+cell": {
     "cellMetadata": {
      "byteLimit": 2048000,
      "rowLimit": 10000
     },
     "inputWidgets": {},
     "nuid": "d9b9cc08-6726-450f-b76c-3fc3bbeef220",
     "showTitle": false,
     "title": ""
    }
   },
   "outputs": [
    {
     "output_type": "display_data",
     "data": {
      "text/plain": [
       "\u001B[0;31m---------------------------------------------------------------------------\u001B[0m\n",
       "\u001B[0;31mNameError\u001B[0m                                 Traceback (most recent call last)\n",
       "File \u001B[0;32m<command-2241051161917221>, line 1\u001B[0m\n",
       "\u001B[0;32m----> 1\u001B[0m stop\n",
       "\n",
       "\u001B[0;31mNameError\u001B[0m: name 'stop' is not defined"
      ]
     },
     "metadata": {
      "application/vnd.databricks.v1+output": {
       "addedWidgets": {},
       "arguments": {},
       "datasetInfos": [],
       "jupyterProps": {
        "ename": "NameError",
        "evalue": "name 'stop' is not defined"
       },
       "metadata": {
        "errorSummary": "Command skipped"
       },
       "removedWidgets": [],
       "sqlProps": null,
       "stackFrames": [
        "\u001B[0;31m---------------------------------------------------------------------------\u001B[0m",
        "\u001B[0;31mNameError\u001B[0m                                 Traceback (most recent call last)",
        "File \u001B[0;32m<command-2241051161917221>, line 1\u001B[0m\n\u001B[0;32m----> 1\u001B[0m stop\n",
        "\u001B[0;31mNameError\u001B[0m: name 'stop' is not defined"
       ],
       "type": "baseError"
      }
     },
     "output_type": "display_data"
    }
   ],
   "source": [
    "df_3.columns"
   ]
  },
  {
   "cell_type": "code",
   "execution_count": 0,
   "metadata": {
    "application/vnd.databricks.v1+cell": {
     "cellMetadata": {
      "byteLimit": 2048000,
      "rowLimit": 10000
     },
     "inputWidgets": {},
     "nuid": "bf91b92d-8955-41fc-accd-dde3b65b794b",
     "showTitle": false,
     "title": ""
    }
   },
   "outputs": [
    {
     "output_type": "display_data",
     "data": {
      "text/plain": [
       "\u001B[0;31m---------------------------------------------------------------------------\u001B[0m\n",
       "\u001B[0;31mNameError\u001B[0m                                 Traceback (most recent call last)\n",
       "File \u001B[0;32m<command-2241051161917221>, line 1\u001B[0m\n",
       "\u001B[0;32m----> 1\u001B[0m stop\n",
       "\n",
       "\u001B[0;31mNameError\u001B[0m: name 'stop' is not defined"
      ]
     },
     "metadata": {
      "application/vnd.databricks.v1+output": {
       "addedWidgets": {},
       "arguments": {},
       "datasetInfos": [],
       "jupyterProps": {
        "ename": "NameError",
        "evalue": "name 'stop' is not defined"
       },
       "metadata": {
        "errorSummary": "Command skipped"
       },
       "removedWidgets": [],
       "sqlProps": null,
       "stackFrames": [
        "\u001B[0;31m---------------------------------------------------------------------------\u001B[0m",
        "\u001B[0;31mNameError\u001B[0m                                 Traceback (most recent call last)",
        "File \u001B[0;32m<command-2241051161917221>, line 1\u001B[0m\n\u001B[0;32m----> 1\u001B[0m stop\n",
        "\u001B[0;31mNameError\u001B[0m: name 'stop' is not defined"
       ],
       "type": "baseError"
      }
     },
     "output_type": "display_data"
    }
   ],
   "source": [
    "# I tried and it doesn't make thing any better -> drop more\n",
    "# remove return - we don't care the return for the time to make snapshot only, we care the overall performance (prcentile & std)\n",
    "# remove MorningstarRating - the same reason\n",
    "# remove all PercentileRank - it do not understand what that feature is designed for - they are not relevant, high corr with percentile\n",
    "df_3.drop(['Return', 'MorningstarRating', 'PercentileRank1YrReturn', 'PercentileRank3YrReturn'], axis=1, inplace=True)"
   ]
  },
  {
   "cell_type": "code",
   "execution_count": 0,
   "metadata": {
    "application/vnd.databricks.v1+cell": {
     "cellMetadata": {
      "byteLimit": 2048000,
      "rowLimit": 10000
     },
     "inputWidgets": {},
     "nuid": "ce66d29f-db3a-4769-856c-d1ab4904c7f9",
     "showTitle": false,
     "title": ""
    }
   },
   "outputs": [
    {
     "output_type": "display_data",
     "data": {
      "text/plain": [
       "\u001B[0;31m---------------------------------------------------------------------------\u001B[0m\n",
       "\u001B[0;31mNameError\u001B[0m                                 Traceback (most recent call last)\n",
       "File \u001B[0;32m<command-2241051161917221>, line 1\u001B[0m\n",
       "\u001B[0;32m----> 1\u001B[0m stop\n",
       "\n",
       "\u001B[0;31mNameError\u001B[0m: name 'stop' is not defined"
      ]
     },
     "metadata": {
      "application/vnd.databricks.v1+output": {
       "addedWidgets": {},
       "arguments": {},
       "datasetInfos": [],
       "jupyterProps": {
        "ename": "NameError",
        "evalue": "name 'stop' is not defined"
       },
       "metadata": {
        "errorSummary": "Command skipped"
       },
       "removedWidgets": [],
       "sqlProps": null,
       "stackFrames": [
        "\u001B[0;31m---------------------------------------------------------------------------\u001B[0m",
        "\u001B[0;31mNameError\u001B[0m                                 Traceback (most recent call last)",
        "File \u001B[0;32m<command-2241051161917221>, line 1\u001B[0m\n\u001B[0;32m----> 1\u001B[0m stop\n",
        "\u001B[0;31mNameError\u001B[0m: name 'stop' is not defined"
       ],
       "type": "baseError"
      }
     },
     "output_type": "display_data"
    }
   ],
   "source": [
    "df_3.columns"
   ]
  },
  {
   "cell_type": "code",
   "execution_count": 0,
   "metadata": {
    "application/vnd.databricks.v1+cell": {
     "cellMetadata": {
      "byteLimit": 2048000,
      "rowLimit": 10000
     },
     "inputWidgets": {},
     "nuid": "36306e87-47e1-4f83-a6e3-3a810b33936b",
     "showTitle": false,
     "title": ""
    }
   },
   "outputs": [
    {
     "output_type": "display_data",
     "data": {
      "text/plain": [
       "\u001B[0;31m---------------------------------------------------------------------------\u001B[0m\n",
       "\u001B[0;31mNameError\u001B[0m                                 Traceback (most recent call last)\n",
       "File \u001B[0;32m<command-2241051161917221>, line 1\u001B[0m\n",
       "\u001B[0;32m----> 1\u001B[0m stop\n",
       "\n",
       "\u001B[0;31mNameError\u001B[0m: name 'stop' is not defined"
      ]
     },
     "metadata": {
      "application/vnd.databricks.v1+output": {
       "addedWidgets": {},
       "arguments": {},
       "datasetInfos": [],
       "jupyterProps": {
        "ename": "NameError",
        "evalue": "name 'stop' is not defined"
       },
       "metadata": {
        "errorSummary": "Command skipped"
       },
       "removedWidgets": [],
       "sqlProps": null,
       "stackFrames": [
        "\u001B[0;31m---------------------------------------------------------------------------\u001B[0m",
        "\u001B[0;31mNameError\u001B[0m                                 Traceback (most recent call last)",
        "File \u001B[0;32m<command-2241051161917221>, line 1\u001B[0m\n\u001B[0;32m----> 1\u001B[0m stop\n",
        "\u001B[0;31mNameError\u001B[0m: name 'stop' is not defined"
       ],
       "type": "baseError"
      }
     },
     "output_type": "display_data"
    }
   ],
   "source": [
    "X_3 = df_3.copy()\n",
    "X_3.drop(['Fund'], axis=1, inplace=True)\n",
    "X_3_scale = StandardScaler().fit_transform(X_3)\n",
    "# a small perplexity can generate more well-separated results\n",
    "tsne = TSNE(n_components=2, random_state=42, perplexity = 20)\n",
    "projections = tsne.fit_transform(X_3_scale)\n",
    "projections\n",
    "\n",
    "fig = px.scatter(\n",
    "    projections,x=0,y=1,\n",
    "    color=df_3.Fund\n",
    ")\n",
    "fig.show()"
   ]
  },
  {
   "cell_type": "code",
   "execution_count": 0,
   "metadata": {
    "application/vnd.databricks.v1+cell": {
     "cellMetadata": {
      "byteLimit": 2048000,
      "rowLimit": 10000
     },
     "inputWidgets": {},
     "nuid": "250d5d5a-47a7-461d-ad79-2a638cf9daee",
     "showTitle": false,
     "title": ""
    }
   },
   "outputs": [
    {
     "output_type": "display_data",
     "data": {
      "text/plain": [
       "\u001B[0;31m---------------------------------------------------------------------------\u001B[0m\n",
       "\u001B[0;31mNameError\u001B[0m                                 Traceback (most recent call last)\n",
       "File \u001B[0;32m<command-2241051161917221>, line 1\u001B[0m\n",
       "\u001B[0;32m----> 1\u001B[0m stop\n",
       "\n",
       "\u001B[0;31mNameError\u001B[0m: name 'stop' is not defined"
      ]
     },
     "metadata": {
      "application/vnd.databricks.v1+output": {
       "addedWidgets": {},
       "arguments": {},
       "datasetInfos": [],
       "jupyterProps": {
        "ename": "NameError",
        "evalue": "name 'stop' is not defined"
       },
       "metadata": {
        "errorSummary": "Command skipped"
       },
       "removedWidgets": [],
       "sqlProps": null,
       "stackFrames": [
        "\u001B[0;31m---------------------------------------------------------------------------\u001B[0m",
        "\u001B[0;31mNameError\u001B[0m                                 Traceback (most recent call last)",
        "File \u001B[0;32m<command-2241051161917221>, line 1\u001B[0m\n\u001B[0;32m----> 1\u001B[0m stop\n",
        "\u001B[0;31mNameError\u001B[0m: name 'stop' is not defined"
       ],
       "type": "baseError"
      }
     },
     "output_type": "display_data"
    }
   ],
   "source": [
    "tsne = TSNE(n_components=3, random_state=42, perplexity=5)\n",
    "projections = tsne.fit_transform(X_3_scale,)\n",
    "\n",
    "fig = px.scatter_3d(\n",
    "    projections,x=0,y=1,z=2,\n",
    "    color=df.Fund\n",
    ")\n",
    "fig.show()"
   ]
  },
  {
   "cell_type": "code",
   "execution_count": 0,
   "metadata": {
    "application/vnd.databricks.v1+cell": {
     "cellMetadata": {
      "byteLimit": 2048000,
      "rowLimit": 10000
     },
     "inputWidgets": {},
     "nuid": "1a34eab2-923b-4ce7-a6e4-43133d440646",
     "showTitle": false,
     "title": ""
    }
   },
   "outputs": [
    {
     "output_type": "display_data",
     "data": {
      "text/plain": [
       "\u001B[0;31m---------------------------------------------------------------------------\u001B[0m\n",
       "\u001B[0;31mNameError\u001B[0m                                 Traceback (most recent call last)\n",
       "File \u001B[0;32m<command-2241051161917221>, line 1\u001B[0m\n",
       "\u001B[0;32m----> 1\u001B[0m stop\n",
       "\n",
       "\u001B[0;31mNameError\u001B[0m: name 'stop' is not defined"
      ]
     },
     "metadata": {
      "application/vnd.databricks.v1+output": {
       "addedWidgets": {},
       "arguments": {},
       "datasetInfos": [],
       "jupyterProps": {
        "ename": "NameError",
        "evalue": "name 'stop' is not defined"
       },
       "metadata": {
        "errorSummary": "Command skipped"
       },
       "removedWidgets": [],
       "sqlProps": null,
       "stackFrames": [
        "\u001B[0;31m---------------------------------------------------------------------------\u001B[0m",
        "\u001B[0;31mNameError\u001B[0m                                 Traceback (most recent call last)",
        "File \u001B[0;32m<command-2241051161917221>, line 1\u001B[0m\n\u001B[0;32m----> 1\u001B[0m stop\n",
        "\u001B[0;31mNameError\u001B[0m: name 'stop' is not defined"
       ],
       "type": "baseError"
      }
     },
     "output_type": "display_data"
    }
   ],
   "source": [
    "from sklearn.cluster import AgglomerativeClustering\n",
    "import plotly.express as px\n",
    "\n",
    "n_clusters = 6 \n",
    "\n",
    "# Perform Agglomerative Clustering on t-SNE projections\n",
    "agg_clustering = AgglomerativeClustering(n_clusters=n_clusters)\n",
    "agg_clusters = agg_clustering.fit_predict(projections)\n",
    "\n",
    "# Convert projections and cluster labels into a DataFrame for visualization\n",
    "import pandas as pd\n",
    "df_clusters = pd.DataFrame(projections, columns=['x', 'y', 'z'])\n",
    "df_clusters['cluster'] = agg_clusters\n",
    "\n",
    "# Now visualize the clustering results with Plotly\n",
    "fig = px.scatter_3d(df_clusters, x='x', y='y', z='z',\n",
    "                    color='cluster',\n",
    "                    color_continuous_scale=px.colors.qualitative.D3)  # or any other color scale you prefer\n",
    "fig.show()\n"
   ]
  },
  {
   "cell_type": "code",
   "execution_count": 0,
   "metadata": {
    "application/vnd.databricks.v1+cell": {
     "cellMetadata": {
      "byteLimit": 2048000,
      "rowLimit": 10000
     },
     "inputWidgets": {},
     "nuid": "31716066-bd63-4d0b-b37f-b2361301136c",
     "showTitle": false,
     "title": ""
    }
   },
   "outputs": [
    {
     "output_type": "display_data",
     "data": {
      "text/plain": [
       "\u001B[0;31m---------------------------------------------------------------------------\u001B[0m\n",
       "\u001B[0;31mNameError\u001B[0m                                 Traceback (most recent call last)\n",
       "File \u001B[0;32m<command-2241051161917221>, line 1\u001B[0m\n",
       "\u001B[0;32m----> 1\u001B[0m stop\n",
       "\n",
       "\u001B[0;31mNameError\u001B[0m: name 'stop' is not defined"
      ]
     },
     "metadata": {
      "application/vnd.databricks.v1+output": {
       "addedWidgets": {},
       "arguments": {},
       "datasetInfos": [],
       "jupyterProps": {
        "ename": "NameError",
        "evalue": "name 'stop' is not defined"
       },
       "metadata": {
        "errorSummary": "Command skipped"
       },
       "removedWidgets": [],
       "sqlProps": null,
       "stackFrames": [
        "\u001B[0;31m---------------------------------------------------------------------------\u001B[0m",
        "\u001B[0;31mNameError\u001B[0m                                 Traceback (most recent call last)",
        "File \u001B[0;32m<command-2241051161917221>, line 1\u001B[0m\n\u001B[0;32m----> 1\u001B[0m stop\n",
        "\u001B[0;31mNameError\u001B[0m: name 'stop' is not defined"
       ],
       "type": "baseError"
      }
     },
     "output_type": "display_data"
    }
   ],
   "source": [
    "df_4  = df_3.copy()\n",
    "df_4.columns"
   ]
  },
  {
   "cell_type": "code",
   "execution_count": 0,
   "metadata": {
    "application/vnd.databricks.v1+cell": {
     "cellMetadata": {
      "byteLimit": 2048000,
      "rowLimit": 10000
     },
     "inputWidgets": {},
     "nuid": "2236d5b8-7fa1-4a47-919c-7ec62b55cf54",
     "showTitle": false,
     "title": ""
    }
   },
   "outputs": [
    {
     "output_type": "display_data",
     "data": {
      "text/plain": [
       "\u001B[0;31m---------------------------------------------------------------------------\u001B[0m\n",
       "\u001B[0;31mNameError\u001B[0m                                 Traceback (most recent call last)\n",
       "File \u001B[0;32m<command-2241051161917221>, line 1\u001B[0m\n",
       "\u001B[0;32m----> 1\u001B[0m stop\n",
       "\n",
       "\u001B[0;31mNameError\u001B[0m: name 'stop' is not defined"
      ]
     },
     "metadata": {
      "application/vnd.databricks.v1+output": {
       "addedWidgets": {},
       "arguments": {},
       "datasetInfos": [],
       "jupyterProps": {
        "ename": "NameError",
        "evalue": "name 'stop' is not defined"
       },
       "metadata": {
        "errorSummary": "Command skipped"
       },
       "removedWidgets": [],
       "sqlProps": null,
       "stackFrames": [
        "\u001B[0;31m---------------------------------------------------------------------------\u001B[0m",
        "\u001B[0;31mNameError\u001B[0m                                 Traceback (most recent call last)",
        "File \u001B[0;32m<command-2241051161917221>, line 1\u001B[0m\n\u001B[0;32m----> 1\u001B[0m stop\n",
        "\u001B[0;31mNameError\u001B[0m: name 'stop' is not defined"
       ],
       "type": "baseError"
      }
     },
     "output_type": "display_data"
    }
   ],
   "source": [
    "# remove - Longevity, what will check the history of a fund? AUM can be a more reasonable feature if you wanna access reputation\n",
    "# remove - 3 years data\n",
    "df_4.drop(['Longevity', 'StdDev_3Y', 'Percentile_3Y'], axis=1, inplace=True)"
   ]
  },
  {
   "cell_type": "code",
   "execution_count": 0,
   "metadata": {
    "application/vnd.databricks.v1+cell": {
     "cellMetadata": {
      "byteLimit": 2048000,
      "rowLimit": 10000
     },
     "inputWidgets": {},
     "nuid": "7e1ee800-939d-4dfd-88c7-0b21422db3e8",
     "showTitle": false,
     "title": ""
    }
   },
   "outputs": [
    {
     "output_type": "display_data",
     "data": {
      "text/plain": [
       "\u001B[0;31m---------------------------------------------------------------------------\u001B[0m\n",
       "\u001B[0;31mNameError\u001B[0m                                 Traceback (most recent call last)\n",
       "File \u001B[0;32m<command-2241051161917221>, line 1\u001B[0m\n",
       "\u001B[0;32m----> 1\u001B[0m stop\n",
       "\n",
       "\u001B[0;31mNameError\u001B[0m: name 'stop' is not defined"
      ]
     },
     "metadata": {
      "application/vnd.databricks.v1+output": {
       "addedWidgets": {},
       "arguments": {},
       "datasetInfos": [],
       "jupyterProps": {
        "ename": "NameError",
        "evalue": "name 'stop' is not defined"
       },
       "metadata": {
        "errorSummary": "Command skipped"
       },
       "removedWidgets": [],
       "sqlProps": null,
       "stackFrames": [
        "\u001B[0;31m---------------------------------------------------------------------------\u001B[0m",
        "\u001B[0;31mNameError\u001B[0m                                 Traceback (most recent call last)",
        "File \u001B[0;32m<command-2241051161917221>, line 1\u001B[0m\n\u001B[0;32m----> 1\u001B[0m stop\n",
        "\u001B[0;31mNameError\u001B[0m: name 'stop' is not defined"
       ],
       "type": "baseError"
      }
     },
     "output_type": "display_data"
    }
   ],
   "source": [
    "df_4.columns"
   ]
  },
  {
   "cell_type": "code",
   "execution_count": 0,
   "metadata": {
    "application/vnd.databricks.v1+cell": {
     "cellMetadata": {
      "byteLimit": 2048000,
      "rowLimit": 10000
     },
     "inputWidgets": {},
     "nuid": "1b9bac46-0420-4bf8-9e43-794af3245245",
     "showTitle": false,
     "title": ""
    }
   },
   "outputs": [
    {
     "output_type": "display_data",
     "data": {
      "text/plain": [
       "\u001B[0;31m---------------------------------------------------------------------------\u001B[0m\n",
       "\u001B[0;31mNameError\u001B[0m                                 Traceback (most recent call last)\n",
       "File \u001B[0;32m<command-2241051161917221>, line 1\u001B[0m\n",
       "\u001B[0;32m----> 1\u001B[0m stop\n",
       "\n",
       "\u001B[0;31mNameError\u001B[0m: name 'stop' is not defined"
      ]
     },
     "metadata": {
      "application/vnd.databricks.v1+output": {
       "addedWidgets": {},
       "arguments": {},
       "datasetInfos": [],
       "jupyterProps": {
        "ename": "NameError",
        "evalue": "name 'stop' is not defined"
       },
       "metadata": {
        "errorSummary": "Command skipped"
       },
       "removedWidgets": [],
       "sqlProps": null,
       "stackFrames": [
        "\u001B[0;31m---------------------------------------------------------------------------\u001B[0m",
        "\u001B[0;31mNameError\u001B[0m                                 Traceback (most recent call last)",
        "File \u001B[0;32m<command-2241051161917221>, line 1\u001B[0m\n\u001B[0;32m----> 1\u001B[0m stop\n",
        "\u001B[0;31mNameError\u001B[0m: name 'stop' is not defined"
       ],
       "type": "baseError"
      }
     },
     "output_type": "display_data"
    }
   ],
   "source": [
    "X_4 = df_4.copy()\n",
    "X_4.drop(['Fund'], axis=1, inplace=True)\n",
    "X_4_scale = StandardScaler().fit_transform(X_4)\n",
    "# a small perplexity can generate more well-separated results\n",
    "tsne = TSNE(n_components=2, random_state=42, perplexity = 44)\n",
    "projections = tsne.fit_transform(X_4_scale)\n",
    "projections\n",
    "\n",
    "fig = px.scatter(\n",
    "    projections,x=0,y=1,\n",
    "    color=df_4.Fund\n",
    ")\n",
    "fig.show()"
   ]
  },
  {
   "cell_type": "code",
   "execution_count": 0,
   "metadata": {
    "application/vnd.databricks.v1+cell": {
     "cellMetadata": {
      "byteLimit": 2048000,
      "rowLimit": 10000
     },
     "inputWidgets": {},
     "nuid": "60c32fbf-4fcd-4bf0-b960-1023f1581a9b",
     "showTitle": false,
     "title": ""
    }
   },
   "outputs": [
    {
     "output_type": "display_data",
     "data": {
      "text/plain": [
       "\u001B[0;31m---------------------------------------------------------------------------\u001B[0m\n",
       "\u001B[0;31mNameError\u001B[0m                                 Traceback (most recent call last)\n",
       "File \u001B[0;32m<command-2241051161917221>, line 1\u001B[0m\n",
       "\u001B[0;32m----> 1\u001B[0m stop\n",
       "\n",
       "\u001B[0;31mNameError\u001B[0m: name 'stop' is not defined"
      ]
     },
     "metadata": {
      "application/vnd.databricks.v1+output": {
       "addedWidgets": {},
       "arguments": {},
       "datasetInfos": [],
       "jupyterProps": {
        "ename": "NameError",
        "evalue": "name 'stop' is not defined"
       },
       "metadata": {
        "errorSummary": "Command skipped"
       },
       "removedWidgets": [],
       "sqlProps": null,
       "stackFrames": [
        "\u001B[0;31m---------------------------------------------------------------------------\u001B[0m",
        "\u001B[0;31mNameError\u001B[0m                                 Traceback (most recent call last)",
        "File \u001B[0;32m<command-2241051161917221>, line 1\u001B[0m\n\u001B[0;32m----> 1\u001B[0m stop\n",
        "\u001B[0;31mNameError\u001B[0m: name 'stop' is not defined"
       ],
       "type": "baseError"
      }
     },
     "output_type": "display_data"
    }
   ],
   "source": [
    "tsne = TSNE(n_components=3, random_state=44, perplexity=5)\n",
    "projections = tsne.fit_transform(X_4_scale,)\n",
    "\n",
    "fig = px.scatter_3d(\n",
    "    projections,x=0,y=1,z=2,\n",
    "    color=df_4.Fund\n",
    ")\n",
    "fig.show()"
   ]
  },
  {
   "cell_type": "code",
   "execution_count": 0,
   "metadata": {
    "application/vnd.databricks.v1+cell": {
     "cellMetadata": {
      "byteLimit": 2048000,
      "rowLimit": 10000
     },
     "inputWidgets": {},
     "nuid": "6a5f2956-2c46-4790-900b-217fcdd8205d",
     "showTitle": false,
     "title": ""
    }
   },
   "outputs": [
    {
     "output_type": "display_data",
     "data": {
      "text/plain": [
       "\u001B[0;31m---------------------------------------------------------------------------\u001B[0m\n",
       "\u001B[0;31mNameError\u001B[0m                                 Traceback (most recent call last)\n",
       "File \u001B[0;32m<command-2241051161917221>, line 1\u001B[0m\n",
       "\u001B[0;32m----> 1\u001B[0m stop\n",
       "\n",
       "\u001B[0;31mNameError\u001B[0m: name 'stop' is not defined"
      ]
     },
     "metadata": {
      "application/vnd.databricks.v1+output": {
       "addedWidgets": {},
       "arguments": {},
       "datasetInfos": [],
       "jupyterProps": {
        "ename": "NameError",
        "evalue": "name 'stop' is not defined"
       },
       "metadata": {
        "errorSummary": "Command skipped"
       },
       "removedWidgets": [],
       "sqlProps": null,
       "stackFrames": [
        "\u001B[0;31m---------------------------------------------------------------------------\u001B[0m",
        "\u001B[0;31mNameError\u001B[0m                                 Traceback (most recent call last)",
        "File \u001B[0;32m<command-2241051161917221>, line 1\u001B[0m\n\u001B[0;32m----> 1\u001B[0m stop\n",
        "\u001B[0;31mNameError\u001B[0m: name 'stop' is not defined"
       ],
       "type": "baseError"
      }
     },
     "output_type": "display_data"
    }
   ],
   "source": [
    "from sklearn.cluster import AgglomerativeClustering\n",
    "import plotly.express as px\n",
    "\n",
    "n_clusters = 6 \n",
    "\n",
    "# Perform Agglomerative Clustering on t-SNE projections\n",
    "agg_clustering = AgglomerativeClustering(n_clusters=n_clusters)\n",
    "agg_clusters = agg_clustering.fit_predict(projections)\n",
    "\n",
    "# Convert projections and cluster labels into a DataFrame for visualization\n",
    "import pandas as pd\n",
    "df_clusters = pd.DataFrame(projections, columns=['x', 'y', 'z'])\n",
    "df_clusters['cluster'] = agg_clusters\n",
    "\n",
    "# Now visualize the clustering results with Plotly\n",
    "fig = px.scatter_3d(df_clusters, x='x', y='y', z='z',\n",
    "                    color='cluster',\n",
    "                    color_continuous_scale=px.colors.qualitative.D3)  # or any other color scale you prefer\n",
    "fig.show()\n"
   ]
  }
 ],
 "metadata": {
  "application/vnd.databricks.v1+notebook": {
   "dashboards": [],
   "environmentMetadata": null,
   "language": "python",
   "notebookMetadata": {
    "pythonIndentUnit": 4
   },
   "notebookName": "Clustering_short-long_equity",
   "widgets": {}
  }
 },
 "nbformat": 4,
 "nbformat_minor": 0
}
