{
 "cells": [
  {
   "cell_type": "code",
   "execution_count": 42,
   "id": "44dfa3e2-dc6d-4b6d-82ab-2f5568f169f1",
   "metadata": {},
   "outputs": [],
   "source": [
    "# Import the libraries \n",
    "import warnings\n",
    "warnings.filterwarnings('ignore')\n",
    "\n",
    "import pandas as pd\n",
    "import os\n",
    "import numpy as np \n",
    "import matplotlib.pyplot as plt\n",
    "import seaborn as sns\n",
    "from tqdm import tqdm\n",
    "\n",
    "from scipy.sparse import csr_matrix\n",
    "from sklearn.metrics.pairwise import cosine_similarity\n",
    "from sklearn.metrics import mean_squared_error, mean_absolute_error, make_scorer\n",
    "from sklearn.ensemble import RandomForestRegressor\n",
    "from sklearn.ensemble import GradientBoostingRegressor\n",
    "from sklearn.linear_model import LinearRegression\n",
    "from sklearn.model_selection import GridSearchCV as sk_GridSearch\n",
    "from sklearn.svm import SVR\n",
    "from scipy.sparse.linalg import svds\n",
    "\n",
    "from surprise import Dataset, Reader\n",
    "from surprise.model_selection import GridSearchCV, train_test_split\n",
    "from surprise import KNNWithMeans, KNNBasic, SVD, SVDpp, NMF\n",
    "from surprise import accuracy\n",
    "from loguru import logger\n",
    "\n",
    "from collections import defaultdict\n",
    "\n",
    "plt.style.use(\"Solarize_Light2\")"
   ]
  },
  {
   "cell_type": "code",
   "execution_count": 43,
   "id": "eb738847-949e-4746-9f64-19307f8fac2f",
   "metadata": {},
   "outputs": [],
   "source": [
    "# Load the datasets\n",
    "restaraunts = pd.read_csv('../data/clean/restaraunts_labels.csv', usecols=lambda column: column not in ['Unnamed: 0'])\n",
    "users = pd.read_csv('../data/clean/users_commmunities.csv', usecols=lambda column: column not in ['Unnamed: 0'])\n",
    "ratings = pd.read_csv('../data/clean/ratings.csv', usecols=lambda column: column not in ['Unnamed: 0'])"
   ]
  },
  {
   "cell_type": "markdown",
   "id": "680fedd8-1500-4474-ab14-121010188bae",
   "metadata": {},
   "source": [
    "Since we have 0 in the ratings column and that corresponds to least rating we will add 1 to preserve the ordinanality "
   ]
  },
  {
   "cell_type": "code",
   "execution_count": 44,
   "id": "f0d7e9bc-6bcf-4fa2-b821-464771266b70",
   "metadata": {},
   "outputs": [],
   "source": [
    "ratings['rating'] = ratings['rating'] + 1\n",
    "ratings['food_rating'] = ratings['food_rating'] + 1\n",
    "ratings['service_rating'] = ratings['service_rating'] + 1"
   ]
  },
  {
   "cell_type": "markdown",
   "id": "3d7feeb3-b5dd-4947-8588-d218845235ea",
   "metadata": {},
   "source": [
    "### Collaborative Filtering Recommender system \n",
    "#### Data Processing"
   ]
  },
  {
   "cell_type": "code",
   "execution_count": 45,
   "id": "fd53abb5-daa0-4237-aa51-f036cce559a3",
   "metadata": {},
   "outputs": [],
   "source": [
    "min_rating = ratings['rating'].min()\n",
    "max_rating = ratings['rating'].max()\n",
    "reader = Reader(rating_scale=(min_rating, max_rating))\n",
    "data = Dataset.load_from_df(ratings[['userID', 'placeID', 'rating']], reader=reader)\n",
    "trainset, testset = train_test_split(data, test_size=0.2)"
   ]
  },
  {
   "cell_type": "code",
   "execution_count": 46,
   "id": "d2a0f291-2e77-40c4-a1d6-1c59e5984fb9",
   "metadata": {},
   "outputs": [
    {
     "name": "stdout",
     "output_type": "stream",
     "text": [
      "Number of Users in TrainSet : 137\n",
      "Number of Items in TrainSet : 130\n"
     ]
    }
   ],
   "source": [
    "print(f\"Number of Users in TrainSet : {trainset.n_users}\")\n",
    "print(f\"Number of Items in TrainSet : {trainset.n_items}\")"
   ]
  },
  {
   "cell_type": "code",
   "execution_count": 47,
   "id": "749dcbd5-ad61-4b51-8ceb-01cbe32f9075",
   "metadata": {},
   "outputs": [],
   "source": [
    "# Intiliaze Empty Dictionary for capturing performance metrics of different algos\n",
    "model_performance = {}"
   ]
  },
  {
   "cell_type": "code",
   "execution_count": 48,
   "id": "69ffd219-5c0f-4f74-ac93-32268c4bdb6e",
   "metadata": {},
   "outputs": [],
   "source": [
    "item_mapper = restaraunts.set_index('placeID').to_dict()['name']\n",
    "item_list = ratings['placeID'].unique().tolist()"
   ]
  },
  {
   "cell_type": "markdown",
   "id": "f52149b4-29a0-491e-aa76-ac2224fc21e7",
   "metadata": {},
   "source": [
    "#### Function to recommend restaraunts "
   ]
  },
  {
   "cell_type": "code",
   "execution_count": 94,
   "id": "6dd853c7-a6b1-4a17-b09c-bacde0e25333",
   "metadata": {},
   "outputs": [],
   "source": [
    "def recommend_places(user_id, item_list, item_mapper, model, topk):\n",
    "    # Predict ratings for all items in the item_list for the given user\n",
    "    item_ratings = [model.predict(user_id, item).est for item in item_list]\n",
    "    \n",
    "    # Create a DataFrame with Restaurant ID and Predicted Ratings\n",
    "    pred_df = pd.DataFrame({\n",
    "        \"Restaraunt ID\": item_list,\n",
    "        \"rating\": item_ratings\n",
    "    })\n",
    "    \n",
    "    # Map Restaurant IDs to their names using the item_mapper\n",
    "    pred_df['Restaraunt Name'] = pred_df['Restaraunt ID'].map(item_mapper)\n",
    "    \n",
    "    # Sort the DataFrame by predicted ratings in descending order\n",
    "    pred_df = pred_df.sort_values(by='rating', ascending=False)\n",
    "    \n",
    "    # Return only the top k recommended places\n",
    "    top_recommendations = pred_df.head(topk)\n",
    "    \n",
    "    return top_recommendations[['Restaraunt ID', 'Restaraunt Name', 'rating']]"
   ]
  },
  {
   "cell_type": "code",
   "execution_count": 50,
   "id": "df09a201-c912-4852-b687-a9bd18f8269b",
   "metadata": {},
   "outputs": [],
   "source": [
    "# Initialsize an empty dict for optimised model performance\n",
    "optimized_model_performance = {}"
   ]
  },
  {
   "cell_type": "markdown",
   "id": "87593ff4-a842-4df7-a885-110d9a283c0f",
   "metadata": {},
   "source": [
    "#### User Based/Item Based Collaborative Filtering"
   ]
  },
  {
   "cell_type": "markdown",
   "id": "b1daf92a-8361-4a87-b104-6a8f83332f40",
   "metadata": {},
   "source": [
    "Optimising using hyperparamter tuning "
   ]
  },
  {
   "cell_type": "markdown",
   "id": "1db9e1c3-14a0-4fd6-8734-21fab6394d88",
   "metadata": {},
   "source": [
    "#### KNNBasic "
   ]
  },
  {
   "cell_type": "code",
   "execution_count": 51,
   "id": "08c77a70-2149-448d-8d3e-79072541d85e",
   "metadata": {},
   "outputs": [],
   "source": [
    "param_grid = {\n",
    "    'k': [10, 20, 30, 40, 50],  # Number of neighbors\n",
    "    'sim_options': {\n",
    "        'name': ['msd', 'cosine', 'pearson'],  # Similarity measures\n",
    "        'user_based': [True, False]  # User-based CF or Item-based CF\n",
    "    }, \n",
    "    'verbose' : [False]\n",
    "}\n",
    "\n",
    "# Configure GridSearchCV\n",
    "gs = GridSearchCV(KNNBasic, param_grid, measures=['rmse', 'mae'], cv=3)\n",
    "\n",
    "# Perform grid search\n",
    "gs.fit(data)"
   ]
  },
  {
   "cell_type": "code",
   "execution_count": 52,
   "id": "6243bcb9-a6b4-4de5-a87f-6af38e42f837",
   "metadata": {},
   "outputs": [
    {
     "name": "stdout",
     "output_type": "stream",
     "text": [
      "Performance Metrics : RMSE\n",
      "RMSE: 0.6858511265357329\n",
      "Best Params: {'k': 20, 'sim_options': {'name': 'cosine', 'user_based': False}, 'verbose': False}\n",
      "\n"
     ]
    }
   ],
   "source": [
    "# Checking Best Score and Parameters using RMSE as the performance Criteria\n",
    "print(\"Performance Metrics : RMSE\")\n",
    "print(\"RMSE:\",gs.best_score['rmse'])\n",
    "print(\"Best Params:\",gs.best_params['rmse'])\n",
    "print()"
   ]
  },
  {
   "cell_type": "code",
   "execution_count": 53,
   "id": "fab9c92b-014b-4eb3-ab18-b248031259d6",
   "metadata": {},
   "outputs": [
    {
     "name": "stdout",
     "output_type": "stream",
     "text": [
      "Model : KnnBasic\n",
      "RMSE: 0.7669\n",
      "MAE:  0.5880\n"
     ]
    }
   ],
   "source": [
    "# Fitting the best model on Train Data and Testing on Test Data \n",
    "knn_basic_params = {'k': 40, 'sim_options': {'name': 'msd', 'user_based': False}, 'verbose': False}\n",
    "knn_basic_final = KNNBasic(**knn_basic_params)\n",
    "\n",
    "knn_basic_final.fit(trainset)\n",
    "\n",
    "knn_basic_final_predictions = knn_basic_final.test(testset)\n",
    "\n",
    "print(\"Model : KnnBasic\")\n",
    "knn_basic_final_rmse = accuracy.rmse(knn_basic_final_predictions)\n",
    "knn_basic_final_mae  = accuracy.mae(knn_basic_final_predictions)\n",
    "\n",
    "optimized_model_performance['knn_basic'] = {\n",
    "    'RMSE' : knn_basic_final_rmse,\n",
    "    'MAE' : knn_basic_final_mae\n",
    "}"
   ]
  },
  {
   "cell_type": "code",
   "execution_count": 54,
   "id": "ddc67246-e03b-4fb5-b13a-9c34851ba3c2",
   "metadata": {},
   "outputs": [
    {
     "data": {
      "text/html": [
       "<div>\n",
       "<style scoped>\n",
       "    .dataframe tbody tr th:only-of-type {\n",
       "        vertical-align: middle;\n",
       "    }\n",
       "\n",
       "    .dataframe tbody tr th {\n",
       "        vertical-align: top;\n",
       "    }\n",
       "\n",
       "    .dataframe thead th {\n",
       "        text-align: right;\n",
       "    }\n",
       "</style>\n",
       "<table border=\"1\" class=\"dataframe\">\n",
       "  <thead>\n",
       "    <tr style=\"text-align: right;\">\n",
       "      <th></th>\n",
       "      <th>Restaraunt ID</th>\n",
       "      <th>Restaraunt Name</th>\n",
       "    </tr>\n",
       "  </thead>\n",
       "  <tbody>\n",
       "    <tr>\n",
       "      <th>39</th>\n",
       "      <td>134983</td>\n",
       "      <td>Restaurant and Bar and Clothesline Carlos N Ch...</td>\n",
       "    </tr>\n",
       "    <tr>\n",
       "      <th>46</th>\n",
       "      <td>134986</td>\n",
       "      <td>Restaurant Las Mananitas</td>\n",
       "    </tr>\n",
       "    <tr>\n",
       "      <th>63</th>\n",
       "      <td>135049</td>\n",
       "      <td>Restaurante de Mariscos la Langosta</td>\n",
       "    </tr>\n",
       "    <tr>\n",
       "      <th>118</th>\n",
       "      <td>132877</td>\n",
       "      <td>sirloin stockade</td>\n",
       "    </tr>\n",
       "    <tr>\n",
       "      <th>116</th>\n",
       "      <td>132870</td>\n",
       "      <td>Tortas y hamburguesas el gordo</td>\n",
       "    </tr>\n",
       "    <tr>\n",
       "      <th>38</th>\n",
       "      <td>135001</td>\n",
       "      <td>Vips</td>\n",
       "    </tr>\n",
       "    <tr>\n",
       "      <th>115</th>\n",
       "      <td>132869</td>\n",
       "      <td>Dominos Pizza</td>\n",
       "    </tr>\n",
       "    <tr>\n",
       "      <th>40</th>\n",
       "      <td>134996</td>\n",
       "      <td>Sanborns Casa Piedra</td>\n",
       "    </tr>\n",
       "    <tr>\n",
       "      <th>41</th>\n",
       "      <td>135019</td>\n",
       "      <td>Restaurant Bar Coty y Pablo</td>\n",
       "    </tr>\n",
       "    <tr>\n",
       "      <th>42</th>\n",
       "      <td>134976</td>\n",
       "      <td>Log Yin</td>\n",
       "    </tr>\n",
       "  </tbody>\n",
       "</table>\n",
       "</div>"
      ],
      "text/plain": [
       "     Restaraunt ID                                    Restaraunt Name\n",
       "39          134983  Restaurant and Bar and Clothesline Carlos N Ch...\n",
       "46          134986                           Restaurant Las Mananitas\n",
       "63          135049                Restaurante de Mariscos la Langosta\n",
       "118         132877                                   sirloin stockade\n",
       "116         132870                     Tortas y hamburguesas el gordo\n",
       "38          135001                                               Vips\n",
       "115         132869                                      Dominos Pizza\n",
       "40          134996                               Sanborns Casa Piedra\n",
       "41          135019                        Restaurant Bar Coty y Pablo\n",
       "42          134976                                            Log Yin"
      ]
     },
     "execution_count": 54,
     "metadata": {},
     "output_type": "execute_result"
    }
   ],
   "source": [
    "recommend_places(user_id='U1081',\n",
    "                 item_list=item_list,\n",
    "                 item_mapper=item_mapper,\n",
    "                 model=knn_basic_final,\n",
    "                 topk=10)"
   ]
  },
  {
   "cell_type": "markdown",
   "id": "b0d4e554-dd27-4e4f-89ed-a4a70c001efe",
   "metadata": {},
   "source": [
    "#### KNNMeans"
   ]
  },
  {
   "cell_type": "code",
   "execution_count": 55,
   "id": "a49af2c3-a406-4dd9-9426-76f6f3bbb627",
   "metadata": {},
   "outputs": [],
   "source": [
    "# Define the parameter grid\n",
    "param_grid_knn_means = {\n",
    "    'k': [10, 20, 30, 40, 50],  # number of neighbors\n",
    "    'sim_options': {\n",
    "        'name': ['msd', 'cosine', 'pearson'],  # similarity measure\n",
    "        'user_based': [True, False]  # user-based or item-based CF,\n",
    "    },\n",
    "    'verbose' : [False]\n",
    "}\n",
    "\n",
    "# Configure and run the grid search\n",
    "gs_knn_means = GridSearchCV(KNNWithMeans, param_grid_knn_means, measures=['rmse'], cv=3)\n",
    "gs_knn_means.fit(data)"
   ]
  },
  {
   "cell_type": "code",
   "execution_count": 56,
   "id": "a3324274-1efb-49b2-ac94-9a59696f11ea",
   "metadata": {},
   "outputs": [
    {
     "name": "stdout",
     "output_type": "stream",
     "text": [
      "Performance Metrics : RMSE\n",
      "RMSE : 0.6839427564674326\n",
      "Best Params : {'k': 10, 'sim_options': {'name': 'pearson', 'user_based': True}, 'verbose': False}\n"
     ]
    }
   ],
   "source": [
    "# Fetching Best RMSE and Params\n",
    "best_rmse_knn_means = gs_knn_means.best_score['rmse']\n",
    "best_params_rmse_knn_means = gs_knn_means.best_params['rmse']\n",
    "print(f\"Performance Metrics : RMSE\")\n",
    "print(f\"RMSE : {best_rmse_knn_means}\")\n",
    "print(f\"Best Params : {best_params_rmse_knn_means}\")"
   ]
  },
  {
   "cell_type": "code",
   "execution_count": 57,
   "id": "131fa630-b466-4ea6-a0e6-7ec72fdccb69",
   "metadata": {},
   "outputs": [
    {
     "name": "stdout",
     "output_type": "stream",
     "text": [
      "Model Name : KNNWithMeans\n",
      "RMSE: 0.8064\n",
      "MAE:  0.6263\n"
     ]
    }
   ],
   "source": [
    "# Fitting the best model on Train Set and testing on Test Set \n",
    "best_params_knn_means = {'k': 50, 'sim_options': {'name': 'msd', 'user_based': False}, 'verbose': False}\n",
    "knn_means_final = KNNWithMeans(**best_params_knn_means)\n",
    "\n",
    "# Fitting the final model on train set \n",
    "knn_means_final.fit(trainset)\n",
    "\n",
    "# Getting predictions on test set \n",
    "knn_means_final_predictions = knn_means_final.test(testset)\n",
    "\n",
    "# Calculating Performance Metrics\n",
    "print(\"Model Name : KNNWithMeans\")\n",
    "knn_means_final_rmse = accuracy.rmse(knn_means_final_predictions)\n",
    "knn_means_final_mae = accuracy.mae(knn_means_final_predictions)\n",
    "\n",
    "optimized_model_performance['KnnWithMeans'] = {\n",
    "    \"RMSE\" : knn_means_final_rmse, \n",
    "    \"MAE\" : knn_means_final_mae\n",
    "}"
   ]
  },
  {
   "cell_type": "code",
   "execution_count": 58,
   "id": "201c4e76-e542-46b6-9459-8904a19e5d50",
   "metadata": {},
   "outputs": [
    {
     "data": {
      "text/html": [
       "<div>\n",
       "<style scoped>\n",
       "    .dataframe tbody tr th:only-of-type {\n",
       "        vertical-align: middle;\n",
       "    }\n",
       "\n",
       "    .dataframe tbody tr th {\n",
       "        vertical-align: top;\n",
       "    }\n",
       "\n",
       "    .dataframe thead th {\n",
       "        text-align: right;\n",
       "    }\n",
       "</style>\n",
       "<table border=\"1\" class=\"dataframe\">\n",
       "  <thead>\n",
       "    <tr style=\"text-align: right;\">\n",
       "      <th></th>\n",
       "      <th>Restaraunt ID</th>\n",
       "      <th>Restaraunt Name</th>\n",
       "    </tr>\n",
       "  </thead>\n",
       "  <tbody>\n",
       "    <tr>\n",
       "      <th>107</th>\n",
       "      <td>132851</td>\n",
       "      <td>KFC</td>\n",
       "    </tr>\n",
       "    <tr>\n",
       "      <th>46</th>\n",
       "      <td>134986</td>\n",
       "      <td>Restaurant Las Mananitas</td>\n",
       "    </tr>\n",
       "    <tr>\n",
       "      <th>28</th>\n",
       "      <td>135034</td>\n",
       "      <td>Michiko Restaurant Japones</td>\n",
       "    </tr>\n",
       "    <tr>\n",
       "      <th>45</th>\n",
       "      <td>135013</td>\n",
       "      <td>Giovannis</td>\n",
       "    </tr>\n",
       "    <tr>\n",
       "      <th>43</th>\n",
       "      <td>134999</td>\n",
       "      <td>Kiku Cuernavaca</td>\n",
       "    </tr>\n",
       "    <tr>\n",
       "      <th>51</th>\n",
       "      <td>134975</td>\n",
       "      <td>Rincon del Bife</td>\n",
       "    </tr>\n",
       "    <tr>\n",
       "      <th>42</th>\n",
       "      <td>134976</td>\n",
       "      <td>Log Yin</td>\n",
       "    </tr>\n",
       "    <tr>\n",
       "      <th>53</th>\n",
       "      <td>132768</td>\n",
       "      <td>Mariscos Tia Licha</td>\n",
       "    </tr>\n",
       "    <tr>\n",
       "      <th>38</th>\n",
       "      <td>135001</td>\n",
       "      <td>Vips</td>\n",
       "    </tr>\n",
       "    <tr>\n",
       "      <th>40</th>\n",
       "      <td>134996</td>\n",
       "      <td>Sanborns Casa Piedra</td>\n",
       "    </tr>\n",
       "  </tbody>\n",
       "</table>\n",
       "</div>"
      ],
      "text/plain": [
       "     Restaraunt ID             Restaraunt Name\n",
       "107         132851                         KFC\n",
       "46          134986    Restaurant Las Mananitas\n",
       "28          135034  Michiko Restaurant Japones\n",
       "45          135013                   Giovannis\n",
       "43          134999             Kiku Cuernavaca\n",
       "51          134975             Rincon del Bife\n",
       "42          134976                     Log Yin\n",
       "53          132768          Mariscos Tia Licha\n",
       "38          135001                        Vips\n",
       "40          134996        Sanborns Casa Piedra"
      ]
     },
     "execution_count": 58,
     "metadata": {},
     "output_type": "execute_result"
    }
   ],
   "source": [
    "recommend_places(user_id='U1081',\n",
    "                 item_list=item_list,\n",
    "                 item_mapper=item_mapper,\n",
    "                 model=knn_means_final,\n",
    "                 topk=10)"
   ]
  },
  {
   "cell_type": "markdown",
   "id": "455e45cc-f1ee-4fbe-9271-b6fdc618ec1d",
   "metadata": {},
   "source": [
    "#### Matrix Factorisation Collaborative Filtering "
   ]
  },
  {
   "cell_type": "markdown",
   "id": "b9d2c44a-7939-4a3b-9d30-7eafee838968",
   "metadata": {},
   "source": [
    "#### SVD"
   ]
  },
  {
   "cell_type": "code",
   "execution_count": 59,
   "id": "bf4d9844-bfc3-4ab4-8c30-60195ea6d7a9",
   "metadata": {},
   "outputs": [],
   "source": [
    "# Define the parameter grid\n",
    "param_grid_svd = {\n",
    "    'n_factors': [50, 100, 150, 200],  # Number of factors\n",
    "    'lr_all': [0.002, 0.005, 0.007],  # Learning rate\n",
    "    'reg_all': [0.02, 0.05, 0.1]  # Regularization term\n",
    "}\n",
    "\n",
    "# Configure GridSearchCV\n",
    "gs_svd = GridSearchCV(SVD, param_grid_svd, measures=['rmse'], cv=3)\n",
    "\n",
    "# Fit GridSearchCV\n",
    "gs_svd.fit(data)"
   ]
  },
  {
   "cell_type": "code",
   "execution_count": 60,
   "id": "62fa488c-6a87-4426-a923-ac54b1d6cb7c",
   "metadata": {},
   "outputs": [
    {
     "name": "stdout",
     "output_type": "stream",
     "text": [
      "Performance Metrics : RMSE\n",
      "RMSE : 0.6654985906716963\n",
      "Best Params : {'n_factors': 50, 'lr_all': 0.007, 'reg_all': 0.02}\n"
     ]
    }
   ],
   "source": [
    "# Fetching Best RMSE and Params\n",
    "best_rmse_svd = gs_svd.best_score['rmse']\n",
    "best_params_svd = gs_svd.best_params['rmse']\n",
    "print(\"Performance Metrics : RMSE\")\n",
    "print(f\"RMSE : {best_rmse_svd}\")\n",
    "print(f\"Best Params : {best_params_svd}\")"
   ]
  },
  {
   "cell_type": "code",
   "execution_count": 61,
   "id": "fc914fa0-4599-4fa2-a81b-e902261a8f2c",
   "metadata": {},
   "outputs": [
    {
     "name": "stdout",
     "output_type": "stream",
     "text": [
      "Model Name : SVD\n",
      "RMSE: 0.7456\n",
      "MAE:  0.6287\n"
     ]
    }
   ],
   "source": [
    "# Fitting the best svd model on whole training data and getting predictions on test set \n",
    "svd_final = SVD(**best_params_svd)\n",
    "\n",
    "# Training on Trainset \n",
    "svd_final.fit(trainset)\n",
    "\n",
    "# Testing on test set \n",
    "svd_final_predictions = svd_final.test(testset)\n",
    "\n",
    "print(\"Model Name : SVD\")\n",
    "svd_final_rmse = accuracy.rmse(svd_final_predictions)\n",
    "svd_final_mae = accuracy.mae(svd_final_predictions)\n",
    "\n",
    "optimized_model_performance['SVD'] = {\n",
    "    \"RMSE\" : svd_final_rmse, \n",
    "    \"MAE\" : svd_final_mae\n",
    "}"
   ]
  },
  {
   "cell_type": "code",
   "execution_count": 62,
   "id": "b8131231-59d4-459c-989c-60af5c6b0d06",
   "metadata": {},
   "outputs": [
    {
     "data": {
      "text/html": [
       "<div>\n",
       "<style scoped>\n",
       "    .dataframe tbody tr th:only-of-type {\n",
       "        vertical-align: middle;\n",
       "    }\n",
       "\n",
       "    .dataframe tbody tr th {\n",
       "        vertical-align: top;\n",
       "    }\n",
       "\n",
       "    .dataframe thead th {\n",
       "        text-align: right;\n",
       "    }\n",
       "</style>\n",
       "<table border=\"1\" class=\"dataframe\">\n",
       "  <thead>\n",
       "    <tr style=\"text-align: right;\">\n",
       "      <th></th>\n",
       "      <th>Restaraunt ID</th>\n",
       "      <th>Restaraunt Name</th>\n",
       "    </tr>\n",
       "  </thead>\n",
       "  <tbody>\n",
       "    <tr>\n",
       "      <th>46</th>\n",
       "      <td>134986</td>\n",
       "      <td>Restaurant Las Mananitas</td>\n",
       "    </tr>\n",
       "    <tr>\n",
       "      <th>123</th>\n",
       "      <td>132922</td>\n",
       "      <td>cafe punta del cielo</td>\n",
       "    </tr>\n",
       "    <tr>\n",
       "      <th>94</th>\n",
       "      <td>135065</td>\n",
       "      <td>El angel Restaurante</td>\n",
       "    </tr>\n",
       "    <tr>\n",
       "      <th>34</th>\n",
       "      <td>135028</td>\n",
       "      <td>La Virreina</td>\n",
       "    </tr>\n",
       "    <tr>\n",
       "      <th>66</th>\n",
       "      <td>132755</td>\n",
       "      <td>La Estrella de Dimas</td>\n",
       "    </tr>\n",
       "    <tr>\n",
       "      <th>93</th>\n",
       "      <td>135059</td>\n",
       "      <td>Restaurant Bar Hacienda los Martinez</td>\n",
       "    </tr>\n",
       "    <tr>\n",
       "      <th>53</th>\n",
       "      <td>132768</td>\n",
       "      <td>Mariscos Tia Licha</td>\n",
       "    </tr>\n",
       "    <tr>\n",
       "      <th>82</th>\n",
       "      <td>135030</td>\n",
       "      <td>Preambulo Wifi Zone Cafe</td>\n",
       "    </tr>\n",
       "    <tr>\n",
       "      <th>62</th>\n",
       "      <td>135025</td>\n",
       "      <td>El Rincon de San Francisco</td>\n",
       "    </tr>\n",
       "    <tr>\n",
       "      <th>128</th>\n",
       "      <td>132955</td>\n",
       "      <td>emilianos</td>\n",
       "    </tr>\n",
       "  </tbody>\n",
       "</table>\n",
       "</div>"
      ],
      "text/plain": [
       "     Restaraunt ID                       Restaraunt Name\n",
       "46          134986              Restaurant Las Mananitas\n",
       "123         132922                  cafe punta del cielo\n",
       "94          135065                  El angel Restaurante\n",
       "34          135028                           La Virreina\n",
       "66          132755                  La Estrella de Dimas\n",
       "93          135059  Restaurant Bar Hacienda los Martinez\n",
       "53          132768                    Mariscos Tia Licha\n",
       "82          135030              Preambulo Wifi Zone Cafe\n",
       "62          135025            El Rincon de San Francisco\n",
       "128         132955                             emilianos"
      ]
     },
     "execution_count": 62,
     "metadata": {},
     "output_type": "execute_result"
    }
   ],
   "source": [
    "recommend_places(user_id='U1081',\n",
    "                 item_list=item_list,\n",
    "                 item_mapper=item_mapper,\n",
    "                 model=svd_final,\n",
    "                 topk=10)"
   ]
  },
  {
   "cell_type": "markdown",
   "id": "02e447ce-317c-416c-bde0-691c83e55cb8",
   "metadata": {},
   "source": [
    "#### NMF"
   ]
  },
  {
   "cell_type": "code",
   "execution_count": 63,
   "id": "2a639513-e1ad-4133-a148-1495bd29210e",
   "metadata": {},
   "outputs": [],
   "source": [
    "# Define the parameter grid\n",
    "param_grid_nmf = {\n",
    "        'n_factors': [50, 100, 150, 200],  # Number of latent factors\n",
    "        'n_epochs': [50, 100],  # Number of epochs\n",
    "        'reg_pu': [0.06, 0.1],  # Regularization term for users\n",
    "        'reg_qi': [0.06, 0.1]  # Regularization term for items\n",
    "}\n",
    "\n",
    "# Configure GridSearchCV\n",
    "gs_nmf = GridSearchCV(NMF, param_grid_nmf, measures=['rmse'], cv=3)\n",
    "\n",
    "# Fit GridSearchCV\n",
    "gs_nmf.fit(data)"
   ]
  },
  {
   "cell_type": "code",
   "execution_count": 64,
   "id": "532099da-a3e7-4fdc-aeba-1593668643a2",
   "metadata": {},
   "outputs": [
    {
     "name": "stdout",
     "output_type": "stream",
     "text": [
      "Performance Metrics : RMSE\n",
      "RMSE : 0.7140073775622987\n",
      "Best Params : {'n_factors': 100, 'n_epochs': 50, 'reg_pu': 0.06, 'reg_qi': 0.06}\n"
     ]
    }
   ],
   "source": [
    "# Fetching Best RMSE and Params\n",
    "best_rmse_nmf = gs_nmf.best_score['rmse']\n",
    "best_params_nmf = gs_nmf.best_params['rmse']\n",
    "print(\"Performance Metrics : RMSE\")\n",
    "print(f\"RMSE : {best_rmse_nmf}\")\n",
    "print(f\"Best Params : {best_params_nmf}\")"
   ]
  },
  {
   "cell_type": "code",
   "execution_count": 65,
   "id": "296c4be1-d156-4a86-a26e-97f5a98bed71",
   "metadata": {},
   "outputs": [
    {
     "name": "stdout",
     "output_type": "stream",
     "text": [
      "Model Name : NMF\n",
      "RMSE: 0.8025\n",
      "MAE:  0.6347\n"
     ]
    }
   ],
   "source": [
    "## Fitting the best NMF Model with best params\n",
    "nmf_final = NMF(**best_params_nmf)\n",
    "\n",
    "# Fit the model on training set \n",
    "nmf_final.fit(trainset)\n",
    "\n",
    "# Get predictions on test set \n",
    "nmf_final_predictions = nmf_final.test(testset)\n",
    "\n",
    "print(\"Model Name : NMF\")\n",
    "nmf_final_rmse = accuracy.rmse(nmf_final_predictions)\n",
    "nmf_final_mae = accuracy.mae(nmf_final_predictions)\n",
    "\n",
    "optimized_model_performance['NMF'] = {\n",
    "    \"RMSE\" : nmf_final_rmse,\n",
    "    \"MAE\"  : nmf_final_mae\n",
    "}"
   ]
  },
  {
   "cell_type": "code",
   "execution_count": 66,
   "id": "f39e2ad4-951b-46d2-88a2-b2a70dea00d6",
   "metadata": {},
   "outputs": [
    {
     "data": {
      "text/html": [
       "<div>\n",
       "<style scoped>\n",
       "    .dataframe tbody tr th:only-of-type {\n",
       "        vertical-align: middle;\n",
       "    }\n",
       "\n",
       "    .dataframe tbody tr th {\n",
       "        vertical-align: top;\n",
       "    }\n",
       "\n",
       "    .dataframe thead th {\n",
       "        text-align: right;\n",
       "    }\n",
       "</style>\n",
       "<table border=\"1\" class=\"dataframe\">\n",
       "  <thead>\n",
       "    <tr style=\"text-align: right;\">\n",
       "      <th></th>\n",
       "      <th>Restaraunt ID</th>\n",
       "      <th>Restaraunt Name</th>\n",
       "    </tr>\n",
       "  </thead>\n",
       "  <tbody>\n",
       "    <tr>\n",
       "      <th>82</th>\n",
       "      <td>135030</td>\n",
       "      <td>Preambulo Wifi Zone Cafe</td>\n",
       "    </tr>\n",
       "    <tr>\n",
       "      <th>107</th>\n",
       "      <td>132851</td>\n",
       "      <td>KFC</td>\n",
       "    </tr>\n",
       "    <tr>\n",
       "      <th>71</th>\n",
       "      <td>135076</td>\n",
       "      <td>Restaurante Pueblo Bonito</td>\n",
       "    </tr>\n",
       "    <tr>\n",
       "      <th>0</th>\n",
       "      <td>135085</td>\n",
       "      <td>Tortas Locas Hipocampo</td>\n",
       "    </tr>\n",
       "    <tr>\n",
       "      <th>45</th>\n",
       "      <td>135013</td>\n",
       "      <td>Giovannis</td>\n",
       "    </tr>\n",
       "    <tr>\n",
       "      <th>34</th>\n",
       "      <td>135028</td>\n",
       "      <td>La Virreina</td>\n",
       "    </tr>\n",
       "    <tr>\n",
       "      <th>123</th>\n",
       "      <td>132922</td>\n",
       "      <td>cafe punta del cielo</td>\n",
       "    </tr>\n",
       "    <tr>\n",
       "      <th>46</th>\n",
       "      <td>134986</td>\n",
       "      <td>Restaurant Las Mananitas</td>\n",
       "    </tr>\n",
       "    <tr>\n",
       "      <th>112</th>\n",
       "      <td>132862</td>\n",
       "      <td>La Posada del Virrey</td>\n",
       "    </tr>\n",
       "    <tr>\n",
       "      <th>2</th>\n",
       "      <td>132825</td>\n",
       "      <td>puesto de tacos</td>\n",
       "    </tr>\n",
       "  </tbody>\n",
       "</table>\n",
       "</div>"
      ],
      "text/plain": [
       "     Restaraunt ID            Restaraunt Name\n",
       "82          135030   Preambulo Wifi Zone Cafe\n",
       "107         132851                        KFC\n",
       "71          135076  Restaurante Pueblo Bonito\n",
       "0           135085     Tortas Locas Hipocampo\n",
       "45          135013                  Giovannis\n",
       "34          135028                La Virreina\n",
       "123         132922       cafe punta del cielo\n",
       "46          134986   Restaurant Las Mananitas\n",
       "112         132862       La Posada del Virrey\n",
       "2           132825            puesto de tacos"
      ]
     },
     "execution_count": 66,
     "metadata": {},
     "output_type": "execute_result"
    }
   ],
   "source": [
    "recommend_places(user_id='U1081',\n",
    "                 item_list=item_list,\n",
    "                 item_mapper=item_mapper,\n",
    "                 model=nmf_final,\n",
    "                 topk=10)"
   ]
  },
  {
   "cell_type": "markdown",
   "id": "b10f4d68-e311-4524-a5aa-d4b05b16c907",
   "metadata": {},
   "source": [
    "### Performance Comparison "
   ]
  },
  {
   "cell_type": "code",
   "execution_count": 67,
   "id": "f25aefd3-cbb9-4bf7-89fa-6ade4861c724",
   "metadata": {},
   "outputs": [
    {
     "data": {
      "text/html": [
       "<div>\n",
       "<style scoped>\n",
       "    .dataframe tbody tr th:only-of-type {\n",
       "        vertical-align: middle;\n",
       "    }\n",
       "\n",
       "    .dataframe tbody tr th {\n",
       "        vertical-align: top;\n",
       "    }\n",
       "\n",
       "    .dataframe thead th {\n",
       "        text-align: right;\n",
       "    }\n",
       "</style>\n",
       "<table border=\"1\" class=\"dataframe\">\n",
       "  <thead>\n",
       "    <tr style=\"text-align: right;\">\n",
       "      <th></th>\n",
       "      <th>Model</th>\n",
       "      <th>RMSE</th>\n",
       "      <th>MAE</th>\n",
       "    </tr>\n",
       "  </thead>\n",
       "  <tbody>\n",
       "    <tr>\n",
       "      <th>0</th>\n",
       "      <td>KnnWithMeans</td>\n",
       "      <td>0.806393</td>\n",
       "      <td>0.626325</td>\n",
       "    </tr>\n",
       "    <tr>\n",
       "      <th>1</th>\n",
       "      <td>NMF</td>\n",
       "      <td>0.802490</td>\n",
       "      <td>0.634687</td>\n",
       "    </tr>\n",
       "    <tr>\n",
       "      <th>2</th>\n",
       "      <td>knn_basic</td>\n",
       "      <td>0.766868</td>\n",
       "      <td>0.587959</td>\n",
       "    </tr>\n",
       "    <tr>\n",
       "      <th>3</th>\n",
       "      <td>SVD</td>\n",
       "      <td>0.745636</td>\n",
       "      <td>0.628736</td>\n",
       "    </tr>\n",
       "  </tbody>\n",
       "</table>\n",
       "</div>"
      ],
      "text/plain": [
       "          Model      RMSE       MAE\n",
       "0  KnnWithMeans  0.806393  0.626325\n",
       "1           NMF  0.802490  0.634687\n",
       "2     knn_basic  0.766868  0.587959\n",
       "3           SVD  0.745636  0.628736"
      ]
     },
     "execution_count": 67,
     "metadata": {},
     "output_type": "execute_result"
    }
   ],
   "source": [
    "opt_performance_df = pd.DataFrame(optimized_model_performance).T\n",
    "opt_performance_df = opt_performance_df.sort_values(by=['RMSE', 'MAE'], ascending=[False, False])\n",
    "opt_performance_df.head()\n",
    "\n",
    "opt_performance_df = opt_performance_df.reset_index()\n",
    "opt_performance_df.rename(columns={'index' : 'Model'}, inplace=True)\n",
    "opt_performance_df.head()"
   ]
  },
  {
   "cell_type": "code",
   "execution_count": 68,
   "id": "68c8337d-2d14-42b2-8cc4-eb49dbe08b2f",
   "metadata": {},
   "outputs": [
    {
     "data": {
      "image/png": "[encoded data removed]",
      "text/plain": [
       "<Figure size 1000x600 with 2 Axes>"
      ]
     },
     "metadata": {},
     "output_type": "display_data"
    }
   ],
   "source": [
    "# Now, let's use seaborn to plot the model performance\n",
    "sns.set(style=\"whitegrid\")\n",
    "fig, ax1 = plt.subplots(figsize=(10, 6))\n",
    "\n",
    "# Plotting RMSE values\n",
    "sns.barplot(x=\"Model\", y=\"RMSE\", data=opt_performance_df, color='b', ax=ax1)\n",
    "ax1.set_ylabel('RMSE', color='b')\n",
    "\n",
    "# Creating a twin Y-axis to plot MAE values\n",
    "ax2 = ax1.twinx()\n",
    "sns.lineplot(x=\"Model\", y=\"MAE\", data=opt_performance_df, marker='o', color='r', ax=ax2)\n",
    "ax2.set_ylabel('MAE', color='r')\n",
    "\n",
    "# Setting the plot title and labels\n",
    "plt.title('Comparison of Model Performance (RMSE and MAE)')\n",
    "ax1.set_xticklabels(ax1.get_xticklabels(), rotation=45, ha='right')\n",
    "plt.tight_layout()\n",
    "\n",
    "# Display the plot\n",
    "plt.show()"
   ]
  },
  {
   "cell_type": "markdown",
   "id": "6c7d1db9-768c-4c45-b1ec-0616c85e4ebc",
   "metadata": {},
   "source": [
    "We can see that SVD Collaborating Filterting performs the best when we use RMSE as the evaluation metric but per MAE KNNBasic Item based Collaborative Filtering does a better job so we cna choose which system we want to use. "
   ]
  },
  {
   "cell_type": "markdown",
   "id": "c0eda633-a0cd-4adb-9cbb-afb119a77fe9",
   "metadata": {},
   "source": [
    "Integrating Restaraunt Clusters from GMM clustering to the best collaborative filtering recommender system \n",
    "Here we do a weighted cluster assigment to each user on the basis of which kind of restaurant they have given a higher rating to and then just use that subset of restaurants to recommend a restaraunt using item-based collaborative filtering because the restaurants in the cluster are similar to each other, item-based collaborative filtering can effectively leverage this similarity to make recommendations. Although since we have a cold start user problem in case no cluster is assigned to the user, we will content based filtering method - Populrity based recommendation to provide recommendations "
   ]
  },
  {
   "cell_type": "markdown",
   "id": "8f20417b-241b-44f8-a1bc-1516bee2f068",
   "metadata": {},
   "source": [
    "#### Data Preparation"
   ]
  },
  {
   "cell_type": "code",
   "execution_count": 69,
   "id": "8d0f1db2-46f8-4d50-8665-0e8a5bfc4422",
   "metadata": {},
   "outputs": [],
   "source": [
    "# Merge ratings with restaurant clusters to find out user's most common cluster\n",
    "user_cluster_data = pd.merge(ratings, restaraunts[['placeID', 'cluster']], on='placeID')"
   ]
  },
  {
   "cell_type": "markdown",
   "id": "b21fdb19-75e1-4500-b1ba-0e180afc4650",
   "metadata": {},
   "source": [
    "Function to do Popularity Based Recommendations "
   ]
  },
  {
   "cell_type": "code",
   "execution_count": 70,
   "id": "b0c43a65-6fa4-4937-b046-ebd7112d259d",
   "metadata": {},
   "outputs": [],
   "source": [
    "def get_popularity_based_recommendations(cluster_restaurant_ids, ratings, topk=10):\n",
    "    # Filter ratings for the given cluster's restaurants\n",
    "    cluster_ratings = ratings[ratings['placeID'].isin(cluster_restaurant_ids)]\n",
    "    # Aggregate ratings to find the most popular items\n",
    "    popularity_scores = cluster_ratings.groupby('placeID')['rating'].mean().sort_values(ascending=False)\n",
    "    top_items = popularity_scores.head(topk).index.tolist()\n",
    "    return top_items  # Returns the top-k item IDs\n"
   ]
  },
  {
   "cell_type": "markdown",
   "id": "7e084e43-2d61-447e-9515-0504ad795547",
   "metadata": {},
   "source": [
    "Function to get the most common cluster for a user weighted by rating so if a customer rated particular type of restaurants higher they get assigned to that cluster."
   ]
  },
  {
   "cell_type": "code",
   "execution_count": 71,
   "id": "95612331-3aa7-4919-bc0f-2865eeafc5df",
   "metadata": {},
   "outputs": [
    {
     "data": {
      "text/html": [
       "<div>\n",
       "<style scoped>\n",
       "    .dataframe tbody tr th:only-of-type {\n",
       "        vertical-align: middle;\n",
       "    }\n",
       "\n",
       "    .dataframe tbody tr th {\n",
       "        vertical-align: top;\n",
       "    }\n",
       "\n",
       "    .dataframe thead th {\n",
       "        text-align: right;\n",
       "    }\n",
       "</style>\n",
       "<table border=\"1\" class=\"dataframe\">\n",
       "  <thead>\n",
       "    <tr style=\"text-align: right;\">\n",
       "      <th></th>\n",
       "      <th>userID</th>\n",
       "      <th>placeID</th>\n",
       "      <th>rating</th>\n",
       "      <th>food_rating</th>\n",
       "      <th>service_rating</th>\n",
       "      <th>cluster</th>\n",
       "    </tr>\n",
       "  </thead>\n",
       "  <tbody>\n",
       "    <tr>\n",
       "      <th>0</th>\n",
       "      <td>U1077</td>\n",
       "      <td>135085</td>\n",
       "      <td>3</td>\n",
       "      <td>3</td>\n",
       "      <td>3</td>\n",
       "      <td>2</td>\n",
       "    </tr>\n",
       "    <tr>\n",
       "      <th>1</th>\n",
       "      <td>U1108</td>\n",
       "      <td>135085</td>\n",
       "      <td>2</td>\n",
       "      <td>3</td>\n",
       "      <td>2</td>\n",
       "      <td>2</td>\n",
       "    </tr>\n",
       "    <tr>\n",
       "      <th>2</th>\n",
       "      <td>U1081</td>\n",
       "      <td>135085</td>\n",
       "      <td>2</td>\n",
       "      <td>3</td>\n",
       "      <td>2</td>\n",
       "      <td>2</td>\n",
       "    </tr>\n",
       "    <tr>\n",
       "      <th>3</th>\n",
       "      <td>U1056</td>\n",
       "      <td>135085</td>\n",
       "      <td>3</td>\n",
       "      <td>3</td>\n",
       "      <td>3</td>\n",
       "      <td>2</td>\n",
       "    </tr>\n",
       "    <tr>\n",
       "      <th>4</th>\n",
       "      <td>U1134</td>\n",
       "      <td>135085</td>\n",
       "      <td>3</td>\n",
       "      <td>2</td>\n",
       "      <td>3</td>\n",
       "      <td>2</td>\n",
       "    </tr>\n",
       "    <tr>\n",
       "      <th>...</th>\n",
       "      <td>...</td>\n",
       "      <td>...</td>\n",
       "      <td>...</td>\n",
       "      <td>...</td>\n",
       "      <td>...</td>\n",
       "      <td>...</td>\n",
       "    </tr>\n",
       "    <tr>\n",
       "      <th>1156</th>\n",
       "      <td>U1061</td>\n",
       "      <td>132958</td>\n",
       "      <td>3</td>\n",
       "      <td>3</td>\n",
       "      <td>3</td>\n",
       "      <td>0</td>\n",
       "    </tr>\n",
       "    <tr>\n",
       "      <th>1157</th>\n",
       "      <td>U1025</td>\n",
       "      <td>132958</td>\n",
       "      <td>2</td>\n",
       "      <td>1</td>\n",
       "      <td>1</td>\n",
       "      <td>0</td>\n",
       "    </tr>\n",
       "    <tr>\n",
       "      <th>1158</th>\n",
       "      <td>U1097</td>\n",
       "      <td>132958</td>\n",
       "      <td>3</td>\n",
       "      <td>2</td>\n",
       "      <td>2</td>\n",
       "      <td>0</td>\n",
       "    </tr>\n",
       "    <tr>\n",
       "      <th>1159</th>\n",
       "      <td>U1096</td>\n",
       "      <td>132958</td>\n",
       "      <td>2</td>\n",
       "      <td>3</td>\n",
       "      <td>3</td>\n",
       "      <td>0</td>\n",
       "    </tr>\n",
       "    <tr>\n",
       "      <th>1160</th>\n",
       "      <td>U1136</td>\n",
       "      <td>132958</td>\n",
       "      <td>3</td>\n",
       "      <td>3</td>\n",
       "      <td>3</td>\n",
       "      <td>0</td>\n",
       "    </tr>\n",
       "  </tbody>\n",
       "</table>\n",
       "<p>1161 rows × 6 columns</p>\n",
       "</div>"
      ],
      "text/plain": [
       "     userID  placeID  rating  food_rating  service_rating  cluster\n",
       "0     U1077   135085       3            3               3        2\n",
       "1     U1108   135085       2            3               2        2\n",
       "2     U1081   135085       2            3               2        2\n",
       "3     U1056   135085       3            3               3        2\n",
       "4     U1134   135085       3            2               3        2\n",
       "...     ...      ...     ...          ...             ...      ...\n",
       "1156  U1061   132958       3            3               3        0\n",
       "1157  U1025   132958       2            1               1        0\n",
       "1158  U1097   132958       3            2               2        0\n",
       "1159  U1096   132958       2            3               3        0\n",
       "1160  U1136   132958       3            3               3        0\n",
       "\n",
       "[1161 rows x 6 columns]"
      ]
     },
     "execution_count": 71,
     "metadata": {},
     "output_type": "execute_result"
    }
   ],
   "source": [
    "user_cluster_data"
   ]
  },
  {
   "cell_type": "code",
   "execution_count": 72,
   "id": "216e2ff1-12ee-44bc-8b18-ad5bda161872",
   "metadata": {},
   "outputs": [],
   "source": [
    "def get_rating_weighted_cluster(user_id, user_cluster_data):\n",
    "    # Filter data for the given user\n",
    "    user_data = user_cluster_data[user_cluster_data['userID'] == user_id]\n",
    "    if user_data.empty:\n",
    "        return None  # No data for this user\n",
    "\n",
    "    # Calculate the average rating for each cluster\n",
    "    average_ratings = user_data.groupby('cluster')['rating'].mean()\n",
    "\n",
    "    # Find the cluster with the highest average rating\n",
    "    best_cluster = average_ratings.idxmax()\n",
    "    \n",
    "    return best_cluster"
   ]
  },
  {
   "cell_type": "markdown",
   "id": "b1097e2c-9ab0-44f1-a1cc-2cce901fcfcf",
   "metadata": {},
   "source": [
    "#### Hybrid Recommender System "
   ]
  },
  {
   "cell_type": "code",
   "execution_count": 73,
   "id": "b5b3b357-a420-4566-9e09-23a83296e45b",
   "metadata": {},
   "outputs": [],
   "source": [
    "def get_cluster_recommendations(user_id, all_restaurants, user_cluster_data, item_mapper, model, topk=10):\n",
    "    most_common_cluster = get_rating_weighted_cluster(user_id, user_cluster_data)\n",
    "    if most_common_cluster is not None:\n",
    "        # Filter all_restaurants for those in the most common cluster\n",
    "        cluster_restaurants = all_restaurants[all_restaurants['cluster'] == most_common_cluster]\n",
    "        cluster_restaurant_ids = cluster_restaurants['placeID'].tolist()\n",
    "        \n",
    "        # Get recommendations using the recommend_places function\n",
    "        return recommend_places(user_id, cluster_restaurant_ids, item_mapper, model, topk)\n",
    "    else:\n",
    "        # If user's preferred cluster is not known, provide global popularity-based recommendations\n",
    "        global_popular_items = get_popularity_based_recommendations(all_restaurants['placeID'].tolist(), ratings, topk)\n",
    "        \n",
    "        # Construct the recommendations DataFrame\n",
    "        global_popular_recommendations_df = pd.DataFrame({'Restaurant ID': global_popular_items}).merge(all_restaurants[['placeID', 'name']], left_on='Restaurant ID', right_on='placeID', how='left')\n",
    "        return global_popular_recommendations_df[['Restaurant ID', 'name']].rename(columns={'name': 'Restaurant Name'})"
   ]
  },
  {
   "cell_type": "code",
   "execution_count": 74,
   "id": "f3a3f4ec-7072-45a6-a4e9-ed05612e365d",
   "metadata": {},
   "outputs": [
    {
     "name": "stdout",
     "output_type": "stream",
     "text": [
      "    Restaraunt ID                 Restaraunt Name\n",
      "7          132851                             KFC\n",
      "8          135013                       Giovannis\n",
      "31         134976                         Log Yin\n",
      "11         134975                 Rincon del Bife\n",
      "21         132846             el lechon potosino \n",
      "37         135019     Restaurant Bar Coty y Pablo\n",
      "16         132858       Hamburguesas Valle Dorado\n",
      "1          132667  little pizza Emilio Portes Gil\n",
      "13         132564                         churchs\n",
      "25         132773                     El cotorreo\n"
     ]
    }
   ],
   "source": [
    "user_id = 'U1081'  \n",
    "all_restaurants = restaraunts.copy()  \n",
    "top_recommendations = get_cluster_recommendations(user_id, all_restaurants, user_cluster_data, item_mapper, knn_means_final, topk=10)\n",
    "print(top_recommendations)"
   ]
  },
  {
   "cell_type": "markdown",
   "id": "d08c82de-9e4b-4701-aeb0-c7b8b80c4aec",
   "metadata": {},
   "source": [
    "#### Another more flexible Hybrid Recommender System (SVD + KNN + cluster_based)"
   ]
  },
  {
   "cell_type": "markdown",
   "id": "523cf536-dee5-4a3b-8133-9a4221773a75",
   "metadata": {},
   "source": [
    "We can also build the system on the desired type of rating and defaults to overall rating if nothing is passed as input then use the overall rating. "
   ]
  },
  {
   "cell_type": "code",
   "execution_count": 75,
   "id": "443f10b8-1cca-4d74-84b0-7422a5720215",
   "metadata": {},
   "outputs": [
    {
     "data": {
      "text/html": [
       "<div>\n",
       "<style scoped>\n",
       "    .dataframe tbody tr th:only-of-type {\n",
       "        vertical-align: middle;\n",
       "    }\n",
       "\n",
       "    .dataframe tbody tr th {\n",
       "        vertical-align: top;\n",
       "    }\n",
       "\n",
       "    .dataframe thead th {\n",
       "        text-align: right;\n",
       "    }\n",
       "</style>\n",
       "<table border=\"1\" class=\"dataframe\">\n",
       "  <thead>\n",
       "    <tr style=\"text-align: right;\">\n",
       "      <th></th>\n",
       "      <th>userID</th>\n",
       "      <th>placeID</th>\n",
       "      <th>cluster</th>\n",
       "      <th>community</th>\n",
       "      <th>rating</th>\n",
       "    </tr>\n",
       "  </thead>\n",
       "  <tbody>\n",
       "    <tr>\n",
       "      <th>0</th>\n",
       "      <td>U1077</td>\n",
       "      <td>135085</td>\n",
       "      <td>2</td>\n",
       "      <td>0</td>\n",
       "      <td>3</td>\n",
       "    </tr>\n",
       "    <tr>\n",
       "      <th>1</th>\n",
       "      <td>U1108</td>\n",
       "      <td>135085</td>\n",
       "      <td>2</td>\n",
       "      <td>0</td>\n",
       "      <td>2</td>\n",
       "    </tr>\n",
       "    <tr>\n",
       "      <th>2</th>\n",
       "      <td>U1081</td>\n",
       "      <td>135085</td>\n",
       "      <td>2</td>\n",
       "      <td>0</td>\n",
       "      <td>2</td>\n",
       "    </tr>\n",
       "    <tr>\n",
       "      <th>3</th>\n",
       "      <td>U1001</td>\n",
       "      <td>135085</td>\n",
       "      <td>2</td>\n",
       "      <td>0</td>\n",
       "      <td>1</td>\n",
       "    </tr>\n",
       "    <tr>\n",
       "      <th>4</th>\n",
       "      <td>U1056</td>\n",
       "      <td>135085</td>\n",
       "      <td>2</td>\n",
       "      <td>0</td>\n",
       "      <td>3</td>\n",
       "    </tr>\n",
       "    <tr>\n",
       "      <th>...</th>\n",
       "      <td>...</td>\n",
       "      <td>...</td>\n",
       "      <td>...</td>\n",
       "      <td>...</td>\n",
       "      <td>...</td>\n",
       "    </tr>\n",
       "    <tr>\n",
       "      <th>1156</th>\n",
       "      <td>U1006</td>\n",
       "      <td>132922</td>\n",
       "      <td>1</td>\n",
       "      <td>0</td>\n",
       "      <td>3</td>\n",
       "    </tr>\n",
       "    <tr>\n",
       "      <th>1157</th>\n",
       "      <td>U1003</td>\n",
       "      <td>132937</td>\n",
       "      <td>0</td>\n",
       "      <td>0</td>\n",
       "      <td>3</td>\n",
       "    </tr>\n",
       "    <tr>\n",
       "      <th>1158</th>\n",
       "      <td>U1027</td>\n",
       "      <td>132937</td>\n",
       "      <td>0</td>\n",
       "      <td>0</td>\n",
       "      <td>2</td>\n",
       "    </tr>\n",
       "    <tr>\n",
       "      <th>1159</th>\n",
       "      <td>U1029</td>\n",
       "      <td>132937</td>\n",
       "      <td>0</td>\n",
       "      <td>0</td>\n",
       "      <td>2</td>\n",
       "    </tr>\n",
       "    <tr>\n",
       "      <th>1160</th>\n",
       "      <td>U1086</td>\n",
       "      <td>132937</td>\n",
       "      <td>0</td>\n",
       "      <td>0</td>\n",
       "      <td>3</td>\n",
       "    </tr>\n",
       "  </tbody>\n",
       "</table>\n",
       "<p>1161 rows × 5 columns</p>\n",
       "</div>"
      ],
      "text/plain": [
       "     userID  placeID  cluster  community  rating\n",
       "0     U1077   135085        2          0       3\n",
       "1     U1108   135085        2          0       2\n",
       "2     U1081   135085        2          0       2\n",
       "3     U1001   135085        2          0       1\n",
       "4     U1056   135085        2          0       3\n",
       "...     ...      ...      ...        ...     ...\n",
       "1156  U1006   132922        1          0       3\n",
       "1157  U1003   132937        0          0       3\n",
       "1158  U1027   132937        0          0       2\n",
       "1159  U1029   132937        0          0       2\n",
       "1160  U1086   132937        0          0       3\n",
       "\n",
       "[1161 rows x 5 columns]"
      ]
     },
     "execution_count": 75,
     "metadata": {},
     "output_type": "execute_result"
    }
   ],
   "source": [
    "ratings_user = pd.merge(ratings, users, on = \"userID\", how = \"inner\")\n",
    "ratings_all = pd.merge(ratings_user, restaraunts, on = \"placeID\", how = \"inner\")\n",
    "ratings_all = ratings_all[[\"userID\", \"placeID\", \"cluster\", \"community\",\"rating\"]]\n",
    "ratings_all"
   ]
  },
  {
   "cell_type": "code",
   "execution_count": 98,
   "id": "6180459f-f7a1-4f8f-bfb7-81a4bbfa6460",
   "metadata": {},
   "outputs": [
    {
     "data": {
      "text/html": [
       "<div>\n",
       "<style scoped>\n",
       "    .dataframe tbody tr th:only-of-type {\n",
       "        vertical-align: middle;\n",
       "    }\n",
       "\n",
       "    .dataframe tbody tr th {\n",
       "        vertical-align: top;\n",
       "    }\n",
       "\n",
       "    .dataframe thead th {\n",
       "        text-align: right;\n",
       "    }\n",
       "</style>\n",
       "<table border=\"1\" class=\"dataframe\">\n",
       "  <thead>\n",
       "    <tr style=\"text-align: right;\">\n",
       "      <th></th>\n",
       "      <th>Restaraunt ID</th>\n",
       "      <th>Restaraunt Name</th>\n",
       "      <th>rating</th>\n",
       "    </tr>\n",
       "  </thead>\n",
       "  <tbody>\n",
       "    <tr>\n",
       "      <th>39</th>\n",
       "      <td>135034</td>\n",
       "      <td>Michiko Restaurant Japones</td>\n",
       "      <td>3.000000</td>\n",
       "    </tr>\n",
       "    <tr>\n",
       "      <th>30</th>\n",
       "      <td>132955</td>\n",
       "      <td>emilianos</td>\n",
       "      <td>3.000000</td>\n",
       "    </tr>\n",
       "    <tr>\n",
       "      <th>25</th>\n",
       "      <td>132922</td>\n",
       "      <td>cafe punta del cielo</td>\n",
       "      <td>2.833333</td>\n",
       "    </tr>\n",
       "    <tr>\n",
       "      <th>3</th>\n",
       "      <td>132755</td>\n",
       "      <td>La Estrella de Dimas</td>\n",
       "      <td>2.800000</td>\n",
       "    </tr>\n",
       "    <tr>\n",
       "      <th>73</th>\n",
       "      <td>135074</td>\n",
       "      <td>Restaurante la Parroquia Potosina</td>\n",
       "      <td>2.750000</td>\n",
       "    </tr>\n",
       "    <tr>\n",
       "      <th>58</th>\n",
       "      <td>135055</td>\n",
       "      <td>la Cochinita Pibil Restaurante Yucateco</td>\n",
       "      <td>2.714286</td>\n",
       "    </tr>\n",
       "    <tr>\n",
       "      <th>74</th>\n",
       "      <td>135075</td>\n",
       "      <td>Mariscos El Pescador</td>\n",
       "      <td>2.692308</td>\n",
       "    </tr>\n",
       "    <tr>\n",
       "      <th>61</th>\n",
       "      <td>135059</td>\n",
       "      <td>Restaurant Bar Hacienda los Martinez</td>\n",
       "      <td>2.666667</td>\n",
       "    </tr>\n",
       "    <tr>\n",
       "      <th>32</th>\n",
       "      <td>135025</td>\n",
       "      <td>El Rincon de San Francisco</td>\n",
       "      <td>2.666667</td>\n",
       "    </tr>\n",
       "    <tr>\n",
       "      <th>31</th>\n",
       "      <td>132958</td>\n",
       "      <td>tacos los volcanes</td>\n",
       "      <td>2.666667</td>\n",
       "    </tr>\n",
       "  </tbody>\n",
       "</table>\n",
       "</div>"
      ],
      "text/plain": [
       "    Restaraunt ID                          Restaraunt Name    rating\n",
       "39         135034               Michiko Restaurant Japones  3.000000\n",
       "30         132955                                emilianos  3.000000\n",
       "25         132922                     cafe punta del cielo  2.833333\n",
       "3          132755                     La Estrella de Dimas  2.800000\n",
       "73         135074        Restaurante la Parroquia Potosina  2.750000\n",
       "58         135055  la Cochinita Pibil Restaurante Yucateco  2.714286\n",
       "74         135075                     Mariscos El Pescador  2.692308\n",
       "61         135059     Restaurant Bar Hacienda los Martinez  2.666667\n",
       "32         135025               El Rincon de San Francisco  2.666667\n",
       "31         132958                       tacos los volcanes  2.666667"
      ]
     },
     "execution_count": 98,
     "metadata": {},
     "output_type": "execute_result"
    }
   ],
   "source": [
    "def find_top_k_restaurants(dataframe, userid, k):\n",
    "    # Find the community of the input userid\n",
    "    user_community = dataframe[dataframe['userID'] == userid]['community'].iloc[0]\n",
    "    # Filter users within the same community\n",
    "    same_community_df = dataframe[dataframe['community'] == user_community]\n",
    "    # Group by placeID to get the average rating for each restaurant\n",
    "    restaurant_ratings = same_community_df.groupby('placeID')['rating'].mean().reset_index()\n",
    "    # Map Restaurant IDs to their names using the item_mapper\n",
    "    restaurant_ratings['Restaraunt Name'] = restaurant_ratings['placeID'].map(item_mapper)\n",
    "    restaurant_ratings.rename(columns={'placeID': 'Restaraunt ID'}, inplace=True)\n",
    "    \n",
    "    top_rated_restaurants = restaurant_ratings.sort_values(by='rating', ascending=False).head(k)\n",
    "    return top_rated_restaurants[[\"Restaraunt ID\", \"Restaraunt Name\", \"rating\"]]\n",
    "find_top_k_restaurants(ratings_all, 'U1006', 10)"
   ]
  },
  {
   "cell_type": "code",
   "execution_count": 115,
   "id": "7979949f-e3e8-495e-ae07-4d6271fd8e37",
   "metadata": {},
   "outputs": [],
   "source": [
    "def hybrid_recommender_svd_cf_com(user_id, item_list, item_mapper, topk):\n",
    "    svd_df = recommend_places(user_id, item_list, item_mapper, svd_final, topk)\n",
    "    cf_df = recommend_places(user_id, item_list, item_mapper, svd_final, topk)\n",
    "    com_df = find_top_k_restaurants(ratings_all, user_id, topk)\n",
    "\n",
    "    \n",
    "    # Combine these DataFrames into a final selection\n",
    "    final_selection = pd.concat([svd_df, cf_df, com_df], ignore_index=True)\n",
    "    # Drop duplicate rows for the same restaurant\n",
    "    final_selection = final_selection.drop_duplicates(subset=['Restaraunt ID'])\n",
    "    final_selection = final_selection.nlargest(topk, 'rating')\n",
    "\n",
    "    \n",
    "    # Join with the original dataframe to get the cluster information for each top restaurant\n",
    "    final_with_cluster = final_selection.merge(ratings_all[['placeID', 'cluster']],\n",
    "                                                               left_on ='Restaraunt ID', right_on='placeID', how='left')\n",
    "    \n",
    "    final_with_cluster = final_with_cluster.drop_duplicates(subset=['Restaraunt ID'])\n",
    "    \n",
    "    # Map the cluster to the level of fanciness\n",
    "    fanciness_mapping = {0: '*', 1: '**', 2: '***'}\n",
    "    final_with_cluster['fanciness'] = final_with_cluster['cluster'].map(fanciness_mapping)\n",
    "    # Select the required columns\n",
    "    final_with_cluster = final_with_cluster[['Restaraunt ID', 'Restaraunt Name','rating', 'fanciness']]\n",
    "\n",
    "    return final_with_cluster"
   ]
  },
  {
   "cell_type": "code",
   "execution_count": 118,
   "id": "4bdda97d-bed8-4eb4-81b4-9b84864e6f74",
   "metadata": {},
   "outputs": [
    {
     "data": {
      "text/html": [
       "<div>\n",
       "<style scoped>\n",
       "    .dataframe tbody tr th:only-of-type {\n",
       "        vertical-align: middle;\n",
       "    }\n",
       "\n",
       "    .dataframe tbody tr th {\n",
       "        vertical-align: top;\n",
       "    }\n",
       "\n",
       "    .dataframe thead th {\n",
       "        text-align: right;\n",
       "    }\n",
       "</style>\n",
       "<table border=\"1\" class=\"dataframe\">\n",
       "  <thead>\n",
       "    <tr style=\"text-align: right;\">\n",
       "      <th></th>\n",
       "      <th>Restaraunt ID</th>\n",
       "      <th>Restaraunt Name</th>\n",
       "      <th>rating</th>\n",
       "      <th>fanciness</th>\n",
       "    </tr>\n",
       "  </thead>\n",
       "  <tbody>\n",
       "    <tr>\n",
       "      <th>0</th>\n",
       "      <td>135034</td>\n",
       "      <td>Michiko Restaurant Japones</td>\n",
       "      <td>3.000000</td>\n",
       "      <td>***</td>\n",
       "    </tr>\n",
       "    <tr>\n",
       "      <th>5</th>\n",
       "      <td>132955</td>\n",
       "      <td>emilianos</td>\n",
       "      <td>3.000000</td>\n",
       "      <td>*</td>\n",
       "    </tr>\n",
       "    <tr>\n",
       "      <th>10</th>\n",
       "      <td>134986</td>\n",
       "      <td>Restaurant Las Mananitas</td>\n",
       "      <td>2.866418</td>\n",
       "      <td>***</td>\n",
       "    </tr>\n",
       "    <tr>\n",
       "      <th>18</th>\n",
       "      <td>132755</td>\n",
       "      <td>La Estrella de Dimas</td>\n",
       "      <td>2.800000</td>\n",
       "      <td>***</td>\n",
       "    </tr>\n",
       "    <tr>\n",
       "      <th>23</th>\n",
       "      <td>135074</td>\n",
       "      <td>Restaurante la Parroquia Potosina</td>\n",
       "      <td>2.750000</td>\n",
       "      <td>***</td>\n",
       "    </tr>\n",
       "    <tr>\n",
       "      <th>27</th>\n",
       "      <td>135013</td>\n",
       "      <td>Giovannis</td>\n",
       "      <td>2.749445</td>\n",
       "      <td>*</td>\n",
       "    </tr>\n",
       "    <tr>\n",
       "      <th>31</th>\n",
       "      <td>135055</td>\n",
       "      <td>la Cochinita Pibil Restaurante Yucateco</td>\n",
       "      <td>2.714286</td>\n",
       "      <td>***</td>\n",
       "    </tr>\n",
       "    <tr>\n",
       "      <th>38</th>\n",
       "      <td>132851</td>\n",
       "      <td>KFC</td>\n",
       "      <td>2.711105</td>\n",
       "      <td>*</td>\n",
       "    </tr>\n",
       "    <tr>\n",
       "      <th>45</th>\n",
       "      <td>135050</td>\n",
       "      <td>Restaurante la Estrella de Dima</td>\n",
       "      <td>2.706235</td>\n",
       "      <td>***</td>\n",
       "    </tr>\n",
       "    <tr>\n",
       "      <th>53</th>\n",
       "      <td>135075</td>\n",
       "      <td>Mariscos El Pescador</td>\n",
       "      <td>2.692308</td>\n",
       "      <td>***</td>\n",
       "    </tr>\n",
       "  </tbody>\n",
       "</table>\n",
       "</div>"
      ],
      "text/plain": [
       "    Restaraunt ID                          Restaraunt Name    rating fanciness\n",
       "0          135034               Michiko Restaurant Japones  3.000000       ***\n",
       "5          132955                                emilianos  3.000000         *\n",
       "10         134986                 Restaurant Las Mananitas  2.866418       ***\n",
       "18         132755                     La Estrella de Dimas  2.800000       ***\n",
       "23         135074        Restaurante la Parroquia Potosina  2.750000       ***\n",
       "27         135013                                Giovannis  2.749445         *\n",
       "31         135055  la Cochinita Pibil Restaurante Yucateco  2.714286       ***\n",
       "38         132851                                      KFC  2.711105         *\n",
       "45         135050          Restaurante la Estrella de Dima  2.706235       ***\n",
       "53         135075                     Mariscos El Pescador  2.692308       ***"
      ]
     },
     "execution_count": 118,
     "metadata": {},
     "output_type": "execute_result"
    }
   ],
   "source": [
    "hybrid_recommender_svd_cf_com('U1006', item_list, item_mapper, 10)"
   ]
  },
  {
   "cell_type": "code",
   "execution_count": null,
   "id": "d446b8e5-91de-4ca3-ad3f-fa115009d91f",
   "metadata": {},
   "outputs": [],
   "source": []
  }
 ],
 "metadata": {
  "kernelspec": {
   "display_name": "Python 3 (ipykernel)",
   "language": "python",
   "name": "python3"
  },
  "language_info": {
   "codemirror_mode": {
    "name": "ipython",
    "version": 3
   },
   "file_extension": ".py",
   "mimetype": "text/x-python",
   "name": "python",
   "nbconvert_exporter": "python",
   "pygments_lexer": "ipython3",
   "version": "3.11.6"
  }
 },
 "nbformat": 4,
 "nbformat_minor": 5
}
